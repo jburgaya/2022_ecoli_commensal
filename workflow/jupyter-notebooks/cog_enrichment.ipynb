{
 "cells": [
  {
   "cell_type": "code",
   "execution_count": 49,
   "id": "af6b9ab6-d3a5-41ca-a139-e3be18f93b15",
   "metadata": {},
   "outputs": [],
   "source": [
    "import pandas as pd\n",
    "import numpy as np\n",
    "import matplotlib.pyplot as plt\n",
    "import seaborn as sns\n",
    "\n",
    "sns.set_style('ticks', rc={\"axes.facecolor\": (0, 0, 0, 0)})\n",
    "sns.set_context('talk')\n",
    "\n",
    "from matplotlib import rcParams\n",
    "rcParams['font.family'] = 'sans-serif'\n",
    "rcParams['font.sans-serif'] = ['Arial']"
   ]
  },
  {
   "cell_type": "code",
   "execution_count": 50,
   "id": "f9196d7c-4791-434e-802a-7c4b3f913a08",
   "metadata": {},
   "outputs": [],
   "source": [
    "from scipy import stats\n",
    "import statsmodels.api as sm\n",
    "from goatools.obo_parser import GODag\n",
    "from goatools.goea.go_enrichment_ns import GOEnrichmentStudy"
   ]
  },
  {
   "cell_type": "code",
   "execution_count": 51,
   "id": "1f0d91cb-1a3e-472c-a20f-067b8adfb1f4",
   "metadata": {},
   "outputs": [],
   "source": [
    "roary = '../../out/gene_presence_absence_roary.csv'\n",
    "ref = '../../out/C001-001-P2.emapper.annotations'"
   ]
  },
  {
   "cell_type": "code",
   "execution_count": 52,
   "id": "d7b70ad5-bb97-47b7-995a-da9386c1c122",
   "metadata": {},
   "outputs": [],
   "source": [
    "wg = \"../../out/associations/annotated_summary_wg_cov.tsv\"\n",
    "wg_ann = \"../../out/associations/summary.emapper.annotations\"\n",
    "peu = \"../../out/peu/annotated_summary_wg_cov.tsv\"\n",
    "peu_ann = \"../../out/peu/summary.emapper.annotations\"\n",
    "ped = \"../../out/ped/annotated_summary_wg_cov.tsv\"\n",
    "ped_ann = \"../../out/ped/summary.emapper.annotations\"\n",
    "b2 = \"../../out/b2/annotated_summary_cov.tsv\"\n",
    "b2_ann = \"../../out/b2/summary.emapper.annotations\""
   ]
  },
  {
   "cell_type": "code",
   "execution_count": 53,
   "id": "2c04bb69-2adb-4e7e-9e1e-ecc907466d45",
   "metadata": {},
   "outputs": [],
   "source": [
    "ogs_all = set(pd.read_csv(wg, sep='\\t', index_col=0).index)\n",
    "ogs_peu = set(pd.read_csv(peu, sep='\\t', index_col=0).index)\n",
    "ogs_ped = set(pd.read_csv(ped, sep='\\t', index_col=0).index)\n",
    "ogs_b2 = set(pd.read_csv(b2, sep='\\t', index_col=0).index)"
   ]
  },
  {
   "cell_type": "code",
   "execution_count": 54,
   "id": "d5b1205f-e2c1-4129-9640-f03c90706c9f",
   "metadata": {},
   "outputs": [],
   "source": [
    "cogs = 'ABCDEFGHIJKLMNOPQRSTUYZ'"
   ]
  },
  {
   "cell_type": "code",
   "execution_count": 55,
   "id": "367eab11-528c-41e9-bd79-5b3749f77c13",
   "metadata": {
    "tags": []
   },
   "outputs": [],
   "source": [
    "pan = pd.read_csv(roary, sep=',', index_col=0, low_memory=False)['C001-001-P2']"
   ]
  },
  {
   "cell_type": "code",
   "execution_count": 56,
   "id": "f91bd0c6-eeeb-4f7b-be37-93c9045e76da",
   "metadata": {
    "tags": []
   },
   "outputs": [
    {
     "data": {
      "text/plain": [
       "Gene\n",
       "slyX           C001-001-P2_01760\n",
       "group_19070    C001-001-P2_01753\n",
       "rpsR           C001-001-P2_03842\n",
       "rpmB           C001-001-P2_02940\n",
       "group_18772    C001-001-P2_02824\n",
       "                     ...        \n",
       "group_29                     NaN\n",
       "group_19                     NaN\n",
       "group_2                      NaN\n",
       "group_1                      NaN\n",
       "group_0                      NaN\n",
       "Name: C001-001-P2, Length: 31322, dtype: object"
      ]
     },
     "execution_count": 56,
     "metadata": {},
     "output_type": "execute_result"
    }
   ],
   "source": [
    "pan"
   ]
  },
  {
   "cell_type": "markdown",
   "id": "8c351240-4ded-41e2-a26e-389454ca12ca",
   "metadata": {},
   "source": [
    "\n",
    "# **COG**\n",
    "\n",
    "CELLULAR PROCESSES AND SIGNALING\n",
    "\n",
    "    D Cell cycle control, cell division, chromosome partitioning\n",
    "    M Cell wall/membrane/envelope biogenesis\n",
    "    N Cell motility\n",
    "    O Post-translational modification, protein turnover, and chaperones\n",
    "    T Signal transduction mechanisms\n",
    "    U Intracellular trafficking, secretion, and vesicular transport\n",
    "    V Defense mechanisms\n",
    "    W Extracellular structures\n",
    "    Y Nuclear structure\n",
    "    Z Cytoskeleton\n",
    "\n",
    "INFORMATION STORAGE AND PROCESSING\n",
    "\n",
    "    A RNA processing and modification\n",
    "    B Chromatin structure and dynamics\n",
    "    J Translation, ribosomal structure and biogenesis\n",
    "    K Transcription\n",
    "    L Replication, recombination and repair\n",
    "\n",
    "METABOLISM\n",
    "\n",
    "    C Energy production and conversion\n",
    "    E Amino acid transport and metabolism\n",
    "    F Nucleotide transport and metabolism\n",
    "    G Carbohydrate transport and metabolism\n",
    "    H Coenzyme transport and metabolism\n",
    "    I Lipid transport and metabolism\n",
    "    P Inorganic ion transport and metabolism\n",
    "    Q Secondary metabolites biosynthesis, transport, and catabolism\n",
    "\n",
    "POORLY CHARACTERIZED\n",
    "\n",
    "    R General function prediction only\n",
    "    S Function unknown\n",
    "\n"
   ]
  },
  {
   "cell_type": "code",
   "execution_count": 57,
   "id": "e500d58b-4c43-41db-9fa5-8288f3f5f295",
   "metadata": {},
   "outputs": [],
   "source": [
    "categs = {'D': 'Cell cycle control, cell division, chromosome partitioning',\n",
    "'M': 'Cell wall/membrane/envelope biogenesis',\n",
    "'N': 'Cell motility',\n",
    "'O': 'Post-translational modification, protein turnover, and chaperones',\n",
    "'T': 'Signal transduction mechanisms',\n",
    "'U': 'Intracellular trafficking, secretion, and vesicular transport',\n",
    "'V': 'Defense mechanisms',\n",
    "'W': 'Extracellular structures',\n",
    "'Y': 'Nuclear structure',\n",
    "'Z': 'Cytoskeleton',\n",
    "'A': 'RNA processing and modification',\n",
    "'B': 'Chromatin structure and dynamics',\n",
    "'J': 'Translation, ribosomal structure and biogenesis',\n",
    "'K': 'Transcription',\n",
    "'L': 'Replication, recombination and repair',\n",
    "'C': 'Energy production and conversion',\n",
    "'E': 'Amino acid transport and metabolism',\n",
    "'F': 'Nucleotide transport and metabolism',\n",
    "'G': 'Carbohydrate transport and metabolism',\n",
    "'H': 'Coenzyme transport and metabolism',\n",
    "'I': 'Lipid transport and metabolism',\n",
    "'P': 'Inorganic ion transport and metabolism',\n",
    "'Q': 'Secondary metabolites biosynthesis, transport, and catabolism',\n",
    "'R': 'General function prediction only',\n",
    "'S': 'Function unknown',\n",
    "'X': 'Not annotated'}"
   ]
  },
  {
   "cell_type": "code",
   "execution_count": 58,
   "id": "69bc8128-4b16-41b4-bf98-50b820f07281",
   "metadata": {},
   "outputs": [],
   "source": [
    "# load reference COG category -> will be the same one used for all the analysis\n",
    "# the reference was randomly selected, just taking into account that it was a B2 strain ST 131\n",
    "# the reference is used to have a background for the COG erinchment analyis and GO terms"
   ]
  },
  {
   "cell_type": "code",
   "execution_count": 59,
   "id": "fdbd0044-bbfe-4f9b-8c70-8edd6c0fc52a",
   "metadata": {},
   "outputs": [],
   "source": [
    "m = pd.read_csv(ref, sep='\\t', skiprows=[0, 1, 2, 3, 4], header=None)\n",
    "m.columns = ['query', 'seed_ortholog', 'evalue',\n",
    "             'score', 'eggNOG_OGs', 'max_annot_lvl',\n",
    "             'COG_category', 'Description', 'Preferred_name', \n",
    "             'GOs', 'EC', 'KEGG_ko', 'KEGG_Pathway', 'KEGG_Module', 'KEGG_Reaction',\n",
    "             'KEGG_rclass', 'BRITE', 'KEGG_TC', 'CAZy', 'BiGG_Reaction', 'PFAMs']\n",
    "m = m.drop(m.tail(3).index)\n",
    "m.loc[m.index.difference(m['COG_category'].dropna().index),\n",
    "      'COG_category'] = 'X'"
   ]
  },
  {
   "cell_type": "code",
   "execution_count": 60,
   "id": "86f21382-e4d8-44f8-9434-234322113dc3",
   "metadata": {},
   "outputs": [
    {
     "data": {
      "text/html": [
       "<div>\n",
       "<style scoped>\n",
       "    .dataframe tbody tr th:only-of-type {\n",
       "        vertical-align: middle;\n",
       "    }\n",
       "\n",
       "    .dataframe tbody tr th {\n",
       "        vertical-align: top;\n",
       "    }\n",
       "\n",
       "    .dataframe thead th {\n",
       "        text-align: right;\n",
       "    }\n",
       "</style>\n",
       "<table border=\"1\" class=\"dataframe\">\n",
       "  <thead>\n",
       "    <tr style=\"text-align: right;\">\n",
       "      <th></th>\n",
       "      <th>query</th>\n",
       "      <th>seed_ortholog</th>\n",
       "      <th>evalue</th>\n",
       "      <th>score</th>\n",
       "      <th>eggNOG_OGs</th>\n",
       "      <th>max_annot_lvl</th>\n",
       "      <th>COG_category</th>\n",
       "      <th>Description</th>\n",
       "      <th>Preferred_name</th>\n",
       "      <th>GOs</th>\n",
       "      <th>...</th>\n",
       "      <th>KEGG_ko</th>\n",
       "      <th>KEGG_Pathway</th>\n",
       "      <th>KEGG_Module</th>\n",
       "      <th>KEGG_Reaction</th>\n",
       "      <th>KEGG_rclass</th>\n",
       "      <th>BRITE</th>\n",
       "      <th>KEGG_TC</th>\n",
       "      <th>CAZy</th>\n",
       "      <th>BiGG_Reaction</th>\n",
       "      <th>PFAMs</th>\n",
       "    </tr>\n",
       "  </thead>\n",
       "  <tbody>\n",
       "    <tr>\n",
       "      <th>0</th>\n",
       "      <td>dkgB~~~~~~dkgB_1~~~dkgB_2</td>\n",
       "      <td>481805.EcolC_3458</td>\n",
       "      <td>1.050000e-183</td>\n",
       "      <td>511.0</td>\n",
       "      <td>COG0656@1|root,COG0656@2|Bacteria,1MWFS@1224|P...</td>\n",
       "      <td>2|Bacteria</td>\n",
       "      <td>S</td>\n",
       "      <td>Catalyzes the reduction of 2,5-diketo-D-glucon...</td>\n",
       "      <td>dkgB</td>\n",
       "      <td>GO:0003674,GO:0003824,GO:0004033,GO:0005575,GO...</td>\n",
       "      <td>...</td>\n",
       "      <td>ko:K06222</td>\n",
       "      <td>-</td>\n",
       "      <td>-</td>\n",
       "      <td>-</td>\n",
       "      <td>-</td>\n",
       "      <td>ko00000,ko01000</td>\n",
       "      <td>-</td>\n",
       "      <td>-</td>\n",
       "      <td>iEcolC_1368.EcolC_3458</td>\n",
       "      <td>Aldo_ket_red</td>\n",
       "    </tr>\n",
       "    <tr>\n",
       "      <th>1</th>\n",
       "      <td>dmlR_4~~~dmlR_3~~~~~~dmlR_5</td>\n",
       "      <td>469008.B21_00206</td>\n",
       "      <td>2.240000e-208</td>\n",
       "      <td>577.0</td>\n",
       "      <td>COG0583@1|root,COG0583@2|Bacteria,1MU7H@1224|P...</td>\n",
       "      <td>2|Bacteria</td>\n",
       "      <td>K</td>\n",
       "      <td>Transcriptional regulator</td>\n",
       "      <td>yafC</td>\n",
       "      <td>GO:0003674,GO:0003676,GO:0003677,GO:0003700,GO...</td>\n",
       "      <td>...</td>\n",
       "      <td>-</td>\n",
       "      <td>-</td>\n",
       "      <td>-</td>\n",
       "      <td>-</td>\n",
       "      <td>-</td>\n",
       "      <td>-</td>\n",
       "      <td>-</td>\n",
       "      <td>-</td>\n",
       "      <td>-</td>\n",
       "      <td>HTH_1,LysR_substrate</td>\n",
       "    </tr>\n",
       "    <tr>\n",
       "      <th>2</th>\n",
       "      <td>group_4214</td>\n",
       "      <td>199310.c0246</td>\n",
       "      <td>1.100000e-193</td>\n",
       "      <td>537.0</td>\n",
       "      <td>COG3021@1|root,COG3021@2|Bacteria,1MVPP@1224|P...</td>\n",
       "      <td>2|Bacteria</td>\n",
       "      <td>S</td>\n",
       "      <td>UPF0294 protein YafD</td>\n",
       "      <td>yafD</td>\n",
       "      <td>GO:0005575,GO:0005622,GO:0005623,GO:0005737,GO...</td>\n",
       "      <td>...</td>\n",
       "      <td>-</td>\n",
       "      <td>-</td>\n",
       "      <td>-</td>\n",
       "      <td>-</td>\n",
       "      <td>-</td>\n",
       "      <td>-</td>\n",
       "      <td>-</td>\n",
       "      <td>-</td>\n",
       "      <td>-</td>\n",
       "      <td>Exo_endo_phos</td>\n",
       "    </tr>\n",
       "    <tr>\n",
       "      <th>3</th>\n",
       "      <td>ycgJ</td>\n",
       "      <td>362663.ECP_0216</td>\n",
       "      <td>1.550000e-175</td>\n",
       "      <td>490.0</td>\n",
       "      <td>COG0500@1|root,COG2226@2|Bacteria,1PN45@1224|P...</td>\n",
       "      <td>2|Bacteria</td>\n",
       "      <td>Q</td>\n",
       "      <td>S-adenosylmethionine-dependent methyltransfera...</td>\n",
       "      <td>yafE</td>\n",
       "      <td>GO:0003674,GO:0003824,GO:0005575,GO:0005622,GO...</td>\n",
       "      <td>...</td>\n",
       "      <td>-</td>\n",
       "      <td>-</td>\n",
       "      <td>-</td>\n",
       "      <td>-</td>\n",
       "      <td>-</td>\n",
       "      <td>-</td>\n",
       "      <td>-</td>\n",
       "      <td>-</td>\n",
       "      <td>-</td>\n",
       "      <td>Methyltransf_11</td>\n",
       "    </tr>\n",
       "    <tr>\n",
       "      <th>4</th>\n",
       "      <td>mltD_2~~~mltD_1~~~mltD</td>\n",
       "      <td>199310.c0248</td>\n",
       "      <td>4.910000e-293</td>\n",
       "      <td>801.0</td>\n",
       "      <td>COG0741@1|root,COG1388@1|root,COG0741@2|Bacter...</td>\n",
       "      <td>2|Bacteria</td>\n",
       "      <td>M</td>\n",
       "      <td>Murein-degrading enzyme. May play a role in re...</td>\n",
       "      <td>mltD</td>\n",
       "      <td>GO:0000270,GO:0003674,GO:0003824,GO:0005575,GO...</td>\n",
       "      <td>...</td>\n",
       "      <td>ko:K08307,ko:K12204</td>\n",
       "      <td>-</td>\n",
       "      <td>-</td>\n",
       "      <td>-</td>\n",
       "      <td>-</td>\n",
       "      <td>ko00000,ko01000,ko01011,ko02044</td>\n",
       "      <td>3.A.7.10.1,3.A.7.9.1</td>\n",
       "      <td>-</td>\n",
       "      <td>-</td>\n",
       "      <td>LysM,SLT</td>\n",
       "    </tr>\n",
       "    <tr>\n",
       "      <th>...</th>\n",
       "      <td>...</td>\n",
       "      <td>...</td>\n",
       "      <td>...</td>\n",
       "      <td>...</td>\n",
       "      <td>...</td>\n",
       "      <td>...</td>\n",
       "      <td>...</td>\n",
       "      <td>...</td>\n",
       "      <td>...</td>\n",
       "      <td>...</td>\n",
       "      <td>...</td>\n",
       "      <td>...</td>\n",
       "      <td>...</td>\n",
       "      <td>...</td>\n",
       "      <td>...</td>\n",
       "      <td>...</td>\n",
       "      <td>...</td>\n",
       "      <td>...</td>\n",
       "      <td>...</td>\n",
       "      <td>...</td>\n",
       "      <td>...</td>\n",
       "    </tr>\n",
       "    <tr>\n",
       "      <th>4589</th>\n",
       "      <td>group_11249</td>\n",
       "      <td>198214.SF2997</td>\n",
       "      <td>1.290000e-12</td>\n",
       "      <td>61.6</td>\n",
       "      <td>2CZYD@1|root,32T7D@2|Bacteria,1N2MQ@1224|Prote...</td>\n",
       "      <td>2|Bacteria</td>\n",
       "      <td>S</td>\n",
       "      <td>Protein of unknown function (DUF987)</td>\n",
       "      <td>ykfH</td>\n",
       "      <td>-</td>\n",
       "      <td>...</td>\n",
       "      <td>-</td>\n",
       "      <td>-</td>\n",
       "      <td>-</td>\n",
       "      <td>-</td>\n",
       "      <td>-</td>\n",
       "      <td>-</td>\n",
       "      <td>-</td>\n",
       "      <td>-</td>\n",
       "      <td>-</td>\n",
       "      <td>DUF987</td>\n",
       "    </tr>\n",
       "    <tr>\n",
       "      <th>4590</th>\n",
       "      <td>group_13208</td>\n",
       "      <td>1120963.KB894492_gene1480</td>\n",
       "      <td>3.700000e-11</td>\n",
       "      <td>64.3</td>\n",
       "      <td>COG0697@1|root,COG0697@2|Bacteria,1N1QZ@1224|P...</td>\n",
       "      <td>2|Bacteria</td>\n",
       "      <td>EG</td>\n",
       "      <td>EamA-like transporter family</td>\n",
       "      <td>ydzE</td>\n",
       "      <td>GO:0005575,GO:0005623,GO:0005886,GO:0016020,GO...</td>\n",
       "      <td>...</td>\n",
       "      <td>-</td>\n",
       "      <td>-</td>\n",
       "      <td>-</td>\n",
       "      <td>-</td>\n",
       "      <td>-</td>\n",
       "      <td>-</td>\n",
       "      <td>-</td>\n",
       "      <td>-</td>\n",
       "      <td>-</td>\n",
       "      <td>EamA</td>\n",
       "    </tr>\n",
       "    <tr>\n",
       "      <th>4591</th>\n",
       "      <td>group_13698</td>\n",
       "      <td>199310.c3664</td>\n",
       "      <td>0.000000e+00</td>\n",
       "      <td>1007.0</td>\n",
       "      <td>COG2020@1|root,COG2020@2|Bacteria,1R7V9@1224|P...</td>\n",
       "      <td>2|Bacteria</td>\n",
       "      <td>O</td>\n",
       "      <td>methyltransferase activity</td>\n",
       "      <td>yeeR</td>\n",
       "      <td>GO:0005575,GO:0005623,GO:0005886,GO:0016020,GO...</td>\n",
       "      <td>...</td>\n",
       "      <td>-</td>\n",
       "      <td>-</td>\n",
       "      <td>-</td>\n",
       "      <td>-</td>\n",
       "      <td>-</td>\n",
       "      <td>-</td>\n",
       "      <td>-</td>\n",
       "      <td>-</td>\n",
       "      <td>-</td>\n",
       "      <td>-</td>\n",
       "    </tr>\n",
       "    <tr>\n",
       "      <th>4592</th>\n",
       "      <td>group_15154</td>\n",
       "      <td>214092.5832425</td>\n",
       "      <td>4.080000e-117</td>\n",
       "      <td>339.0</td>\n",
       "      <td>COG1484@1|root,COG1484@2|Bacteria,1MWQX@1224|P...</td>\n",
       "      <td>2|Bacteria</td>\n",
       "      <td>L</td>\n",
       "      <td>ATP-binding protein, IstB SW ISTB_ECOLI (P1502...</td>\n",
       "      <td>-</td>\n",
       "      <td>-</td>\n",
       "      <td>...</td>\n",
       "      <td>-</td>\n",
       "      <td>-</td>\n",
       "      <td>-</td>\n",
       "      <td>-</td>\n",
       "      <td>-</td>\n",
       "      <td>-</td>\n",
       "      <td>-</td>\n",
       "      <td>-</td>\n",
       "      <td>-</td>\n",
       "      <td>IstB_IS21</td>\n",
       "    </tr>\n",
       "    <tr>\n",
       "      <th>4593</th>\n",
       "      <td>group_15032</td>\n",
       "      <td>573.JG24_00155</td>\n",
       "      <td>2.190000e-33</td>\n",
       "      <td>116.0</td>\n",
       "      <td>2EMA4@1|root,33EZ5@2|Bacteria,1NIZC@1224|Prote...</td>\n",
       "      <td>2|Bacteria</td>\n",
       "      <td>-</td>\n",
       "      <td>-</td>\n",
       "      <td>-</td>\n",
       "      <td>-</td>\n",
       "      <td>...</td>\n",
       "      <td>-</td>\n",
       "      <td>-</td>\n",
       "      <td>-</td>\n",
       "      <td>-</td>\n",
       "      <td>-</td>\n",
       "      <td>-</td>\n",
       "      <td>-</td>\n",
       "      <td>-</td>\n",
       "      <td>-</td>\n",
       "      <td>TrbC</td>\n",
       "    </tr>\n",
       "  </tbody>\n",
       "</table>\n",
       "<p>4594 rows × 21 columns</p>\n",
       "</div>"
      ],
      "text/plain": [
       "                            query              seed_ortholog         evalue  \\\n",
       "0       dkgB~~~~~~dkgB_1~~~dkgB_2          481805.EcolC_3458  1.050000e-183   \n",
       "1     dmlR_4~~~dmlR_3~~~~~~dmlR_5           469008.B21_00206  2.240000e-208   \n",
       "2                      group_4214               199310.c0246  1.100000e-193   \n",
       "3                            ycgJ            362663.ECP_0216  1.550000e-175   \n",
       "4          mltD_2~~~mltD_1~~~mltD               199310.c0248  4.910000e-293   \n",
       "...                           ...                        ...            ...   \n",
       "4589                  group_11249              198214.SF2997   1.290000e-12   \n",
       "4590                  group_13208  1120963.KB894492_gene1480   3.700000e-11   \n",
       "4591                  group_13698               199310.c3664   0.000000e+00   \n",
       "4592                  group_15154             214092.5832425  4.080000e-117   \n",
       "4593                  group_15032             573.JG24_00155   2.190000e-33   \n",
       "\n",
       "       score                                         eggNOG_OGs max_annot_lvl  \\\n",
       "0      511.0  COG0656@1|root,COG0656@2|Bacteria,1MWFS@1224|P...    2|Bacteria   \n",
       "1      577.0  COG0583@1|root,COG0583@2|Bacteria,1MU7H@1224|P...    2|Bacteria   \n",
       "2      537.0  COG3021@1|root,COG3021@2|Bacteria,1MVPP@1224|P...    2|Bacteria   \n",
       "3      490.0  COG0500@1|root,COG2226@2|Bacteria,1PN45@1224|P...    2|Bacteria   \n",
       "4      801.0  COG0741@1|root,COG1388@1|root,COG0741@2|Bacter...    2|Bacteria   \n",
       "...      ...                                                ...           ...   \n",
       "4589    61.6  2CZYD@1|root,32T7D@2|Bacteria,1N2MQ@1224|Prote...    2|Bacteria   \n",
       "4590    64.3  COG0697@1|root,COG0697@2|Bacteria,1N1QZ@1224|P...    2|Bacteria   \n",
       "4591  1007.0  COG2020@1|root,COG2020@2|Bacteria,1R7V9@1224|P...    2|Bacteria   \n",
       "4592   339.0  COG1484@1|root,COG1484@2|Bacteria,1MWQX@1224|P...    2|Bacteria   \n",
       "4593   116.0  2EMA4@1|root,33EZ5@2|Bacteria,1NIZC@1224|Prote...    2|Bacteria   \n",
       "\n",
       "     COG_category                                        Description  \\\n",
       "0               S  Catalyzes the reduction of 2,5-diketo-D-glucon...   \n",
       "1               K                          Transcriptional regulator   \n",
       "2               S                               UPF0294 protein YafD   \n",
       "3               Q  S-adenosylmethionine-dependent methyltransfera...   \n",
       "4               M  Murein-degrading enzyme. May play a role in re...   \n",
       "...           ...                                                ...   \n",
       "4589            S               Protein of unknown function (DUF987)   \n",
       "4590           EG                       EamA-like transporter family   \n",
       "4591            O                         methyltransferase activity   \n",
       "4592            L  ATP-binding protein, IstB SW ISTB_ECOLI (P1502...   \n",
       "4593            -                                                  -   \n",
       "\n",
       "     Preferred_name                                                GOs  ...  \\\n",
       "0              dkgB  GO:0003674,GO:0003824,GO:0004033,GO:0005575,GO...  ...   \n",
       "1              yafC  GO:0003674,GO:0003676,GO:0003677,GO:0003700,GO...  ...   \n",
       "2              yafD  GO:0005575,GO:0005622,GO:0005623,GO:0005737,GO...  ...   \n",
       "3              yafE  GO:0003674,GO:0003824,GO:0005575,GO:0005622,GO...  ...   \n",
       "4              mltD  GO:0000270,GO:0003674,GO:0003824,GO:0005575,GO...  ...   \n",
       "...             ...                                                ...  ...   \n",
       "4589           ykfH                                                  -  ...   \n",
       "4590           ydzE  GO:0005575,GO:0005623,GO:0005886,GO:0016020,GO...  ...   \n",
       "4591           yeeR  GO:0005575,GO:0005623,GO:0005886,GO:0016020,GO...  ...   \n",
       "4592              -                                                  -  ...   \n",
       "4593              -                                                  -  ...   \n",
       "\n",
       "                  KEGG_ko KEGG_Pathway KEGG_Module KEGG_Reaction KEGG_rclass  \\\n",
       "0               ko:K06222            -           -             -           -   \n",
       "1                       -            -           -             -           -   \n",
       "2                       -            -           -             -           -   \n",
       "3                       -            -           -             -           -   \n",
       "4     ko:K08307,ko:K12204            -           -             -           -   \n",
       "...                   ...          ...         ...           ...         ...   \n",
       "4589                    -            -           -             -           -   \n",
       "4590                    -            -           -             -           -   \n",
       "4591                    -            -           -             -           -   \n",
       "4592                    -            -           -             -           -   \n",
       "4593                    -            -           -             -           -   \n",
       "\n",
       "                                BRITE               KEGG_TC CAZy  \\\n",
       "0                     ko00000,ko01000                     -    -   \n",
       "1                                   -                     -    -   \n",
       "2                                   -                     -    -   \n",
       "3                                   -                     -    -   \n",
       "4     ko00000,ko01000,ko01011,ko02044  3.A.7.10.1,3.A.7.9.1    -   \n",
       "...                               ...                   ...  ...   \n",
       "4589                                -                     -    -   \n",
       "4590                                -                     -    -   \n",
       "4591                                -                     -    -   \n",
       "4592                                -                     -    -   \n",
       "4593                                -                     -    -   \n",
       "\n",
       "               BiGG_Reaction                 PFAMs  \n",
       "0     iEcolC_1368.EcolC_3458          Aldo_ket_red  \n",
       "1                          -  HTH_1,LysR_substrate  \n",
       "2                          -         Exo_endo_phos  \n",
       "3                          -       Methyltransf_11  \n",
       "4                          -              LysM,SLT  \n",
       "...                      ...                   ...  \n",
       "4589                       -                DUF987  \n",
       "4590                       -                  EamA  \n",
       "4591                       -                     -  \n",
       "4592                       -             IstB_IS21  \n",
       "4593                       -                  TrbC  \n",
       "\n",
       "[4594 rows x 21 columns]"
      ]
     },
     "execution_count": 60,
     "metadata": {},
     "output_type": "execute_result"
    }
   ],
   "source": [
    "m"
   ]
  },
  {
   "cell_type": "code",
   "execution_count": 61,
   "id": "921038c0-50cb-48eb-8110-6615f35ac5df",
   "metadata": {},
   "outputs": [],
   "source": [
    "### wg newly associated with covariates: sex, date collection, age ####\n",
    "q = pd.read_csv(wg_ann, sep='\\t', skiprows=[0, 1, 2, 3, 4], header=None)\n",
    "q.columns = ['query', 'seed_ortholog', 'evalue',\n",
    "             'score', 'eggNOG_OGs', 'max_annot_lvl',\n",
    "             'COG_category', 'Description', 'Preferred_name', \n",
    "             'GOs', 'EC', 'KEGG_ko', 'KEGG_Pathway', 'KEGG_Module', 'KEGG_Reaction',\n",
    "             'KEGG_rclass', 'BRITE', 'KEGG_TC', 'CAZy', 'BiGG_Reaction', 'PFAMs']\n",
    "q = q.drop(q.tail(3).index)\n",
    "q.loc[q.index.difference(q['COG_category'].dropna().index),\n",
    "      'COG_category'] = 'X'"
   ]
  },
  {
   "cell_type": "code",
   "execution_count": 62,
   "id": "5d76034d-ea1b-4dfb-a046-02345fdbf9fe",
   "metadata": {},
   "outputs": [
    {
     "data": {
      "text/plain": [
       "(26, 21)"
      ]
     },
     "execution_count": 62,
     "metadata": {},
     "output_type": "execute_result"
    }
   ],
   "source": [
    "q.shape"
   ]
  },
  {
   "cell_type": "code",
   "execution_count": 63,
   "id": "8d146af6-c4b6-47f4-938a-6c3c2e2162a6",
   "metadata": {},
   "outputs": [],
   "source": [
    "res = []\n",
    "for cog in cogs + 'X':\n",
    "    pop_c = m[m['COG_category'].str.contains(cog)].shape[0]\n",
    "    pop_n = m[~m['COG_category'].str.contains(cog)].shape[0]\n",
    "\n",
    "    study_c = q[q['COG_category'].str.contains(cog)].shape[0]\n",
    "    study_n = q[~q['COG_category'].str.contains(cog)].shape[0]\n",
    "\n",
    "    table = [[study_c, pop_c],\n",
    "             [study_n, pop_n]]\n",
    "    odds_ratio, pvalue = stats.fisher_exact(table, alternative='greater')\n",
    "        \n",
    "    # empirical\n",
    "    ratios = []\n",
    "    for _ in range(100):\n",
    "        pop_c = m[m['COG_category'].str.contains(cog)].shape[0]\n",
    "        pop_n = m[~m['COG_category'].str.contains(cog)].shape[0]\n",
    "        \n",
    "        r = m.sample(q.shape[0])\n",
    "        study_r_c = r[r['COG_category'].str.contains(cog)].shape[0]\n",
    "        study_r_n = r[~r['COG_category'].str.contains(cog)].shape[0]\n",
    "        \n",
    "        table = [[study_r_c, pop_c],\n",
    "                 [study_r_n, pop_n]]\n",
    "        ratios.append(stats.fisher_exact(table, alternative='greater')[0])\n",
    "\n",
    "    zscores = stats.zscore(ratios + [odds_ratio])\n",
    "    pvalues = stats.norm.sf(abs(zscores))\n",
    "    qvalues = sm.stats.multipletests(pvalues, alpha=0.05, method='fdr_bh')[1]\n",
    "    \n",
    "    res.append((cog, categs[cog], pvalue, qvalues[-1]))\n",
    "\n",
    "r = pd.DataFrame(res,\n",
    "                 columns=['cog', 'category', 'pvalue', 'empirical-qvalue'])"
   ]
  },
  {
   "cell_type": "code",
   "execution_count": 64,
   "id": "cee09ab7-850a-4693-8db7-533aeddad3cc",
   "metadata": {},
   "outputs": [],
   "source": [
    "r['qvalue'] = sm.stats.multipletests(r['pvalue'], alpha=0.05, method='fdr_bh')[1]\n",
    "r = r[['cog', 'category', 'pvalue', 'qvalue', 'empirical-qvalue']]"
   ]
  },
  {
   "cell_type": "code",
   "execution_count": 65,
   "id": "1ca54de0-4d66-4559-acf1-da6924858c15",
   "metadata": {},
   "outputs": [],
   "source": [
    "qq = r.copy()"
   ]
  },
  {
   "cell_type": "code",
   "execution_count": 66,
   "id": "02d7d740-cd85-4015-8263-f9bd5c7a728e",
   "metadata": {},
   "outputs": [
    {
     "data": {
      "text/html": [
       "<div>\n",
       "<style scoped>\n",
       "    .dataframe tbody tr th:only-of-type {\n",
       "        vertical-align: middle;\n",
       "    }\n",
       "\n",
       "    .dataframe tbody tr th {\n",
       "        vertical-align: top;\n",
       "    }\n",
       "\n",
       "    .dataframe thead th {\n",
       "        text-align: right;\n",
       "    }\n",
       "</style>\n",
       "<table border=\"1\" class=\"dataframe\">\n",
       "  <thead>\n",
       "    <tr style=\"text-align: right;\">\n",
       "      <th></th>\n",
       "      <th>cog</th>\n",
       "      <th>category</th>\n",
       "      <th>pvalue</th>\n",
       "      <th>qvalue</th>\n",
       "      <th>empirical-qvalue</th>\n",
       "    </tr>\n",
       "  </thead>\n",
       "  <tbody>\n",
       "    <tr>\n",
       "      <th>10</th>\n",
       "      <td>K</td>\n",
       "      <td>Transcription</td>\n",
       "      <td>0.005408</td>\n",
       "      <td>0.064891</td>\n",
       "      <td>0.001194</td>\n",
       "    </tr>\n",
       "    <tr>\n",
       "      <th>11</th>\n",
       "      <td>L</td>\n",
       "      <td>Replication, recombination and repair</td>\n",
       "      <td>0.001727</td>\n",
       "      <td>0.041450</td>\n",
       "      <td>0.000005</td>\n",
       "    </tr>\n",
       "  </tbody>\n",
       "</table>\n",
       "</div>"
      ],
      "text/plain": [
       "   cog                               category    pvalue    qvalue  \\\n",
       "10   K                          Transcription  0.005408  0.064891   \n",
       "11   L  Replication, recombination and repair  0.001727  0.041450   \n",
       "\n",
       "    empirical-qvalue  \n",
       "10          0.001194  \n",
       "11          0.000005  "
      ]
     },
     "execution_count": 66,
     "metadata": {},
     "output_type": "execute_result"
    }
   ],
   "source": [
    "qq[qq['empirical-qvalue'] < 0.05]"
   ]
  },
  {
   "cell_type": "code",
   "execution_count": 67,
   "id": "e683de78-3bf2-4a95-a0a5-d09e17f91eba",
   "metadata": {},
   "outputs": [],
   "source": [
    "qq['log pvalue'] = np.log10(qq['empirical-qvalue'])\n",
    "qq['-log pvalue'] = -qq['log pvalue']"
   ]
  },
  {
   "cell_type": "code",
   "execution_count": 68,
   "id": "71465efd-46e2-4e3a-b425-c902fe0ea91e",
   "metadata": {},
   "outputs": [
    {
     "name": "stderr",
     "output_type": "stream",
     "text": [
      "No handles with labels found to put in legend.\n"
     ]
    },
    {
     "data": {
      "image/png": "[encoded data removed]",
      "text/plain": [
       "<Figure size 648x432 with 1 Axes>"
      ]
     },
     "metadata": {},
     "output_type": "display_data"
    }
   ],
   "source": [
    "#fig, ax = plt.subplots()\n",
    "cp = sns.catplot(data=qq,\n",
    "                 x='cog', y='-log pvalue',\n",
    "                 legend=False,\n",
    "                 kind='bar',\n",
    "                 dodge=True,\n",
    "                 height=6,\n",
    "                 aspect=1.5)\n",
    "\n",
    "plt.xlabel(\"COG category\")\n",
    "plt.ylabel(\"- log10 empirical-qvalue\")\n",
    "sns.despine(top=False,\n",
    "            right=False)\n",
    "plt.axhline(-np.log10(0.05), color='grey', ls='dashed', zorder=0)\n",
    "legend = plt.legend(loc='upper left')\n",
    "legend.get_frame().set_alpha(None)\n",
    "legend.get_frame().set_facecolor((0, 0, 0, 0))\n",
    "\n",
    "plt.text(17, 3.8, \"X : not annotated\", size=15,\n",
    "         ha=\"left\", va=\"top\")\n",
    "         \n",
    "plt.savefig('../../out/figures/cogs_output.png',\n",
    "            dpi=300,\n",
    "            bbox_inches='tight',\n",
    "            transparent=True)\n",
    "plt.savefig('../../out/figures/cogs_output.svg',\n",
    "            dpi=300, bbox_inches='tight',\n",
    "            transparent=True);"
   ]
  },
  {
   "cell_type": "markdown",
   "id": "dc86f547-5d38-488a-80c6-b117d034bf8f",
   "metadata": {},
   "source": [
    "### PEU"
   ]
  },
  {
   "cell_type": "code",
   "execution_count": 69,
   "id": "f311c67e-bb3b-42bb-8445-7363340afbb1",
   "metadata": {},
   "outputs": [],
   "source": [
    "### peu with new covariates ##\n",
    "u = pd.read_csv(peu_ann, sep='\\t', skiprows=[0, 1, 2, 3, 4], header=None)\n",
    "u.columns = ['query', 'seed_ortholog', 'evalue',\n",
    "             'score', 'eggNOG_OGs', 'max_annot_lvl',\n",
    "             'COG_category', 'Description', 'Preferred_name', \n",
    "             'GOs', 'EC', 'KEGG_ko', 'KEGG_Pathway', 'KEGG_Module', 'KEGG_Reaction',\n",
    "             'KEGG_rclass', 'BRITE', 'KEGG_TC', 'CAZy', 'BiGG_Reaction', 'PFAMs']\n",
    "u = u.drop(u.tail(3).index)\n",
    "u.loc[u.index.difference(u['COG_category'].dropna().index),\n",
    "      'COG_category'] = 'X'"
   ]
  },
  {
   "cell_type": "code",
   "execution_count": 70,
   "id": "e6ab1f7b-ac50-42fd-ab3b-643c15e45fc1",
   "metadata": {},
   "outputs": [],
   "source": [
    "res = []\n",
    "for cog in cogs + 'X':\n",
    "    pop_c = m[m['COG_category'].str.contains(cog)].shape[0]\n",
    "    pop_n = m[~m['COG_category'].str.contains(cog)].shape[0]\n",
    "\n",
    "    study_c = u[u['COG_category'].str.contains(cog)].shape[0]\n",
    "    study_n = u[~u['COG_category'].str.contains(cog)].shape[0]\n",
    "\n",
    "    table = [[study_c, pop_c],\n",
    "             [study_n, pop_n]]\n",
    "    odds_ratio, pvalue = stats.fisher_exact(table, alternative='greater')\n",
    "        \n",
    "    # empirical\n",
    "    ratios = []\n",
    "    for _ in range(100):\n",
    "        pop_c = m[m['COG_category'].str.contains(cog)].shape[0]\n",
    "        pop_n = m[~m['COG_category'].str.contains(cog)].shape[0]\n",
    "        \n",
    "        r = m.sample(u.shape[0])\n",
    "        study_r_c = r[r['COG_category'].str.contains(cog)].shape[0]\n",
    "        study_r_n = r[~r['COG_category'].str.contains(cog)].shape[0]\n",
    "        \n",
    "        table = [[study_r_c, pop_c],\n",
    "                 [study_r_n, pop_n]]\n",
    "        ratios.append(stats.fisher_exact(table, alternative='greater')[0])\n",
    "\n",
    "    zscores = stats.zscore(ratios + [odds_ratio])\n",
    "    pvalues = stats.norm.sf(abs(zscores))\n",
    "    qvalues = sm.stats.multipletests(pvalues, alpha=0.05, method='fdr_bh')[1]\n",
    "    \n",
    "    res.append((cog, categs[cog], pvalue, qvalues[-1]))\n",
    "\n",
    "r = pd.DataFrame(res,\n",
    "                 columns=['cog', 'category', 'pvalue', 'empirical-qvalue'])"
   ]
  },
  {
   "cell_type": "code",
   "execution_count": 71,
   "id": "ae578c51-6e50-4c54-b351-f855973ccbe5",
   "metadata": {},
   "outputs": [],
   "source": [
    "r['qvalue'] = sm.stats.multipletests(r['pvalue'], alpha=0.05, method='fdr_bh')[1]\n",
    "r = r[['cog', 'category', 'pvalue', 'qvalue', 'empirical-qvalue']]"
   ]
  },
  {
   "cell_type": "code",
   "execution_count": 72,
   "id": "02b1edb0-de93-4088-a40f-6519c05667bf",
   "metadata": {},
   "outputs": [],
   "source": [
    "vv = r.copy()"
   ]
  },
  {
   "cell_type": "code",
   "execution_count": 73,
   "id": "f71d1ad9-2b87-4d3b-90d2-9092ff669260",
   "metadata": {},
   "outputs": [
    {
     "data": {
      "text/html": [
       "<div>\n",
       "<style scoped>\n",
       "    .dataframe tbody tr th:only-of-type {\n",
       "        vertical-align: middle;\n",
       "    }\n",
       "\n",
       "    .dataframe tbody tr th {\n",
       "        vertical-align: top;\n",
       "    }\n",
       "\n",
       "    .dataframe thead th {\n",
       "        text-align: right;\n",
       "    }\n",
       "</style>\n",
       "<table border=\"1\" class=\"dataframe\">\n",
       "  <thead>\n",
       "    <tr style=\"text-align: right;\">\n",
       "      <th></th>\n",
       "      <th>cog</th>\n",
       "      <th>category</th>\n",
       "      <th>pvalue</th>\n",
       "      <th>qvalue</th>\n",
       "      <th>empirical-qvalue</th>\n",
       "    </tr>\n",
       "  </thead>\n",
       "  <tbody>\n",
       "    <tr>\n",
       "      <th>11</th>\n",
       "      <td>L</td>\n",
       "      <td>Replication, recombination and repair</td>\n",
       "      <td>0.00006</td>\n",
       "      <td>0.001441</td>\n",
       "      <td>0.000053</td>\n",
       "    </tr>\n",
       "  </tbody>\n",
       "</table>\n",
       "</div>"
      ],
      "text/plain": [
       "   cog                               category   pvalue    qvalue  \\\n",
       "11   L  Replication, recombination and repair  0.00006  0.001441   \n",
       "\n",
       "    empirical-qvalue  \n",
       "11          0.000053  "
      ]
     },
     "execution_count": 73,
     "metadata": {},
     "output_type": "execute_result"
    }
   ],
   "source": [
    "vv[vv['empirical-qvalue'] < 0.05]"
   ]
  },
  {
   "cell_type": "code",
   "execution_count": 74,
   "id": "5f8d2024-7665-471f-a829-2fb302c20ff9",
   "metadata": {},
   "outputs": [],
   "source": [
    "vv['log pvalue'] = np.log10(vv['empirical-qvalue'])\n",
    "vv['-log pvalue'] = -vv['log pvalue']"
   ]
  },
  {
   "cell_type": "markdown",
   "id": "04c52b9b-6833-4c2f-ac16-58f9688fe98e",
   "metadata": {},
   "source": [
    "### **PED**"
   ]
  },
  {
   "cell_type": "code",
   "execution_count": 75,
   "id": "804a29f3-141b-4ff4-95f6-8f86ef8ae2cc",
   "metadata": {},
   "outputs": [],
   "source": [
    "d = pd.read_csv(ped_ann, sep='\\t', skiprows=[0, 1, 2, 3, 4], header=None)\n",
    "d.columns = ['query', 'seed_ortholog', 'evalue',\n",
    "             'score', 'eggNOG_OGs', 'max_annot_lvl',\n",
    "             'COG_category', 'Description', 'Preferred_name', \n",
    "             'GOs', 'EC', 'KEGG_ko', 'KEGG_Pathway', 'KEGG_Module', 'KEGG_Reaction',\n",
    "             'KEGG_rclass', 'BRITE', 'KEGG_TC', 'CAZy', 'BiGG_Reaction', 'PFAMs']\n",
    "d = d.drop(d.tail(3).index)\n",
    "d.loc[d.index.difference(d['COG_category'].dropna().index),\n",
    "      'COG_category'] = 'X'"
   ]
  },
  {
   "cell_type": "code",
   "execution_count": 76,
   "id": "d37b1369-0ba8-4fdf-944d-409d5d07cca4",
   "metadata": {},
   "outputs": [],
   "source": [
    "d = d[d['query'].isin(ogs_ped)]"
   ]
  },
  {
   "cell_type": "code",
   "execution_count": 77,
   "id": "54d939c7-fb02-445f-8f00-5b1ed8a95d1c",
   "metadata": {},
   "outputs": [],
   "source": [
    "res = []\n",
    "for cog in cogs + 'X':\n",
    "    pop_c = m[m['COG_category'].str.contains(cog)].shape[0]\n",
    "    pop_n = m[~m['COG_category'].str.contains(cog)].shape[0]\n",
    "\n",
    "    study_c = d[d['COG_category'].str.contains(cog)].shape[0]\n",
    "    study_n = d[~d['COG_category'].str.contains(cog)].shape[0]\n",
    "\n",
    "    table = [[study_c, pop_c],\n",
    "             [study_n, pop_n]]\n",
    "    odds_ratio, pvalue = stats.fisher_exact(table, alternative='greater')\n",
    "        \n",
    "    # empirical\n",
    "    ratios = []\n",
    "    for _ in range(100):\n",
    "        pop_c = m[m['COG_category'].str.contains(cog)].shape[0]\n",
    "        pop_n = m[~m['COG_category'].str.contains(cog)].shape[0]\n",
    "        \n",
    "        r = m.sample(d.shape[0])\n",
    "        study_r_c = r[r['COG_category'].str.contains(cog)].shape[0]\n",
    "        study_r_n = r[~r['COG_category'].str.contains(cog)].shape[0]\n",
    "        \n",
    "        table = [[study_r_c, pop_c],\n",
    "                 [study_r_n, pop_n]]\n",
    "        ratios.append(stats.fisher_exact(table, alternative='greater')[0])\n",
    "\n",
    "    zscores = stats.zscore(ratios + [odds_ratio])\n",
    "    pvalues = stats.norm.sf(abs(zscores))\n",
    "    qvalues = sm.stats.multipletests(pvalues, alpha=0.05, method='fdr_bh')[1]\n",
    "    \n",
    "    res.append((cog, categs[cog], pvalue, qvalues[-1]))\n",
    "\n",
    "r = pd.DataFrame(res,\n",
    "                 columns=['cog', 'category', 'pvalue', 'empirical-qvalue'])"
   ]
  },
  {
   "cell_type": "code",
   "execution_count": 78,
   "id": "198895f5-23db-47fd-8ce1-b0495f5c9fa9",
   "metadata": {},
   "outputs": [],
   "source": [
    "r['qvalue'] = sm.stats.multipletests(r['pvalue'], alpha=0.05, method='fdr_bh')[1]\n",
    "r = r[['cog', 'category', 'pvalue', 'qvalue', 'empirical-qvalue']]"
   ]
  },
  {
   "cell_type": "code",
   "execution_count": 79,
   "id": "d9424e5c-68c2-4a3f-8224-e2d62aea57c1",
   "metadata": {},
   "outputs": [],
   "source": [
    "pp = r.copy()"
   ]
  },
  {
   "cell_type": "code",
   "execution_count": 80,
   "id": "d16ef9be-8b6d-4135-8862-96780c7e696f",
   "metadata": {},
   "outputs": [
    {
     "data": {
      "text/html": [
       "<div>\n",
       "<style scoped>\n",
       "    .dataframe tbody tr th:only-of-type {\n",
       "        vertical-align: middle;\n",
       "    }\n",
       "\n",
       "    .dataframe tbody tr th {\n",
       "        vertical-align: top;\n",
       "    }\n",
       "\n",
       "    .dataframe thead th {\n",
       "        text-align: right;\n",
       "    }\n",
       "</style>\n",
       "<table border=\"1\" class=\"dataframe\">\n",
       "  <thead>\n",
       "    <tr style=\"text-align: right;\">\n",
       "      <th></th>\n",
       "      <th>cog</th>\n",
       "      <th>category</th>\n",
       "      <th>pvalue</th>\n",
       "      <th>qvalue</th>\n",
       "      <th>empirical-qvalue</th>\n",
       "    </tr>\n",
       "  </thead>\n",
       "  <tbody>\n",
       "    <tr>\n",
       "      <th>11</th>\n",
       "      <td>L</td>\n",
       "      <td>Replication, recombination and repair</td>\n",
       "      <td>0.013777</td>\n",
       "      <td>0.330636</td>\n",
       "      <td>0.04434</td>\n",
       "    </tr>\n",
       "  </tbody>\n",
       "</table>\n",
       "</div>"
      ],
      "text/plain": [
       "   cog                               category    pvalue    qvalue  \\\n",
       "11   L  Replication, recombination and repair  0.013777  0.330636   \n",
       "\n",
       "    empirical-qvalue  \n",
       "11           0.04434  "
      ]
     },
     "execution_count": 80,
     "metadata": {},
     "output_type": "execute_result"
    }
   ],
   "source": [
    "pp[pp['empirical-qvalue'] < 0.05]"
   ]
  },
  {
   "cell_type": "code",
   "execution_count": 81,
   "id": "aeac0f7e-e94b-4cc6-96f2-9d5d8daf47c6",
   "metadata": {},
   "outputs": [],
   "source": [
    "r.to_csv('../../out/ped/cog.tsv', sep='\\t', index=False)"
   ]
  },
  {
   "cell_type": "markdown",
   "id": "953c1822-c52f-46c7-823a-8d2ee1130e0b",
   "metadata": {},
   "source": [
    "### **B2**"
   ]
  },
  {
   "cell_type": "code",
   "execution_count": 82,
   "id": "19e10218-436d-4976-b4e5-f899e38911c2",
   "metadata": {},
   "outputs": [],
   "source": [
    "n = pd.read_csv(b2_ann, sep='\\t', skiprows=[0, 1, 2, 3, 4], header=None)\n",
    "n.columns = ['query', 'seed_ortholog', 'evalue',\n",
    "             'score', 'eggNOG_OGs', 'max_annot_lvl',\n",
    "             'COG_category', 'Description', 'Preferred_name', \n",
    "             'GOs', 'EC', 'KEGG_ko', 'KEGG_Pathway', 'KEGG_Module', 'KEGG_Reaction',\n",
    "             'KEGG_rclass', 'BRITE', 'KEGG_TC', 'CAZy', 'BiGG_Reaction', 'PFAMs']\n",
    "n = n.drop(n.tail(3).index)\n",
    "n.loc[n.index.difference(n['COG_category'].dropna().index),\n",
    "      'COG_category'] = 'X'"
   ]
  },
  {
   "cell_type": "code",
   "execution_count": 83,
   "id": "7dda97f6-a50b-44a5-a009-86a1b81df430",
   "metadata": {},
   "outputs": [],
   "source": [
    "n = n[n['query'].isin(ogs_b2)]"
   ]
  },
  {
   "cell_type": "code",
   "execution_count": 84,
   "id": "d3feb673-902f-489f-9b8a-0f9dac8e8e79",
   "metadata": {},
   "outputs": [],
   "source": [
    "res = []\n",
    "for cog in cogs + 'X':\n",
    "    pop_c = m[m['COG_category'].str.contains(cog)].shape[0]\n",
    "    pop_n = m[~m['COG_category'].str.contains(cog)].shape[0]\n",
    "\n",
    "    study_c = n[n['COG_category'].str.contains(cog)].shape[0]\n",
    "    study_n = n[~n['COG_category'].str.contains(cog)].shape[0]\n",
    "\n",
    "    table = [[study_c, pop_c],\n",
    "             [study_n, pop_n]]\n",
    "    odds_ratio, pvalue = stats.fisher_exact(table, alternative='greater')\n",
    "        \n",
    "    # empirical\n",
    "    ratios = []\n",
    "    for _ in range(100):\n",
    "        pop_c = m[m['COG_category'].str.contains(cog)].shape[0]\n",
    "        pop_n = m[~m['COG_category'].str.contains(cog)].shape[0]\n",
    "        \n",
    "        r = m.sample(n.shape[0])\n",
    "        study_r_c = r[r['COG_category'].str.contains(cog)].shape[0]\n",
    "        study_r_n = r[~r['COG_category'].str.contains(cog)].shape[0]\n",
    "        \n",
    "        table = [[study_r_c, pop_c],\n",
    "                 [study_r_n, pop_n]]\n",
    "        ratios.append(stats.fisher_exact(table, alternative='greater')[0])\n",
    "\n",
    "    zscores = stats.zscore(ratios + [odds_ratio])\n",
    "    pvalues = stats.norm.sf(abs(zscores))\n",
    "    qvalues = sm.stats.multipletests(pvalues, alpha=0.05, method='fdr_bh')[1]\n",
    "    \n",
    "    res.append((cog, categs[cog], pvalue, qvalues[-1]))\n",
    "\n",
    "r = pd.DataFrame(res,\n",
    "                 columns=['cog', 'category', 'pvalue', 'empirical-qvalue'])"
   ]
  },
  {
   "cell_type": "code",
   "execution_count": 85,
   "id": "cdc5793d-06f1-42b0-b6f6-1227644e6d1c",
   "metadata": {},
   "outputs": [],
   "source": [
    "r['qvalue'] = sm.stats.multipletests(r['pvalue'], alpha=0.05, method='fdr_bh')[1]\n",
    "r = r[['cog', 'category', 'pvalue', 'qvalue', 'empirical-qvalue']]"
   ]
  },
  {
   "cell_type": "code",
   "execution_count": 86,
   "id": "e61b97ff-88a3-4a66-a613-76dce9af775a",
   "metadata": {},
   "outputs": [],
   "source": [
    "bb = r.copy()"
   ]
  },
  {
   "cell_type": "code",
   "execution_count": 87,
   "id": "4e1daff3-90e8-455e-9e3e-99b449a956e1",
   "metadata": {},
   "outputs": [
    {
     "data": {
      "text/html": [
       "<div>\n",
       "<style scoped>\n",
       "    .dataframe tbody tr th:only-of-type {\n",
       "        vertical-align: middle;\n",
       "    }\n",
       "\n",
       "    .dataframe tbody tr th {\n",
       "        vertical-align: top;\n",
       "    }\n",
       "\n",
       "    .dataframe thead th {\n",
       "        text-align: right;\n",
       "    }\n",
       "</style>\n",
       "<table border=\"1\" class=\"dataframe\">\n",
       "  <thead>\n",
       "    <tr style=\"text-align: right;\">\n",
       "      <th></th>\n",
       "      <th>cog</th>\n",
       "      <th>category</th>\n",
       "      <th>pvalue</th>\n",
       "      <th>qvalue</th>\n",
       "      <th>empirical-qvalue</th>\n",
       "    </tr>\n",
       "  </thead>\n",
       "  <tbody>\n",
       "    <tr>\n",
       "      <th>11</th>\n",
       "      <td>L</td>\n",
       "      <td>Replication, recombination and repair</td>\n",
       "      <td>0.012179</td>\n",
       "      <td>0.275113</td>\n",
       "      <td>0.006645</td>\n",
       "    </tr>\n",
       "    <tr>\n",
       "      <th>16</th>\n",
       "      <td>Q</td>\n",
       "      <td>Secondary metabolites biosynthesis, transport,...</td>\n",
       "      <td>0.022926</td>\n",
       "      <td>0.275113</td>\n",
       "      <td>0.017875</td>\n",
       "    </tr>\n",
       "  </tbody>\n",
       "</table>\n",
       "</div>"
      ],
      "text/plain": [
       "   cog                                           category    pvalue    qvalue  \\\n",
       "11   L              Replication, recombination and repair  0.012179  0.275113   \n",
       "16   Q  Secondary metabolites biosynthesis, transport,...  0.022926  0.275113   \n",
       "\n",
       "    empirical-qvalue  \n",
       "11          0.006645  \n",
       "16          0.017875  "
      ]
     },
     "execution_count": 87,
     "metadata": {},
     "output_type": "execute_result"
    }
   ],
   "source": [
    "bb[bb['empirical-qvalue'] < 0.05]"
   ]
  },
  {
   "cell_type": "code",
   "execution_count": 88,
   "id": "6348b976-ef2a-4244-b4ef-661646f624d4",
   "metadata": {},
   "outputs": [],
   "source": [
    "r.to_csv('../../out/b2/cog.tsv', sep='\\t', index=False)"
   ]
  },
  {
   "cell_type": "markdown",
   "id": "86744fc6-857b-453a-bc9c-396f7d95cef0",
   "metadata": {},
   "source": [
    "-----------------------"
   ]
  },
  {
   "cell_type": "markdown",
   "id": "486518fd-81d9-4c82-a05d-f5b43fe5bca7",
   "metadata": {},
   "source": [
    "PLOT"
   ]
  },
  {
   "cell_type": "code",
   "execution_count": 89,
   "id": "8d65c7c1-19d3-4f08-9a8b-d9841ff40da3",
   "metadata": {},
   "outputs": [],
   "source": [
    "qq['type'] = ['Full dataset' if x != 0\n",
    "               else 0\n",
    "               for x in qq['pvalue']]\n",
    "vv['type'] = ['PE: Urinary tract' if x != 0\n",
    "               else 0\n",
    "               for x in vv['pvalue']]\n",
    "pp['type'] = ['PE: Digestive tract' if x != 0\n",
    "               else 0\n",
    "               for x in pp['pvalue']]\n",
    "bb['type'] = ['B2 strains' if x != 0\n",
    "               else 0\n",
    "               for x in bb['pvalue']]"
   ]
  },
  {
   "cell_type": "code",
   "execution_count": 90,
   "id": "f386c256-2162-4f89-890d-64d5af64e665",
   "metadata": {},
   "outputs": [],
   "source": [
    "ff = pd.concat([qq, vv, pp])"
   ]
  },
  {
   "cell_type": "code",
   "execution_count": 91,
   "id": "c000e56c-7bc1-4a64-a49d-b19da715da64",
   "metadata": {},
   "outputs": [],
   "source": [
    "ff['log pvalue'] = np.log10(ff['empirical-qvalue'])\n",
    "ff['-log pvalue'] = -ff['log pvalue']"
   ]
  },
  {
   "cell_type": "code",
   "execution_count": 92,
   "id": "53810f5e-cae7-42b1-8fe8-f06feffb8f1f",
   "metadata": {
    "tags": []
   },
   "outputs": [
    {
     "data": {
      "text/html": [
       "<div>\n",
       "<style scoped>\n",
       "    .dataframe tbody tr th:only-of-type {\n",
       "        vertical-align: middle;\n",
       "    }\n",
       "\n",
       "    .dataframe tbody tr th {\n",
       "        vertical-align: top;\n",
       "    }\n",
       "\n",
       "    .dataframe thead th {\n",
       "        text-align: right;\n",
       "    }\n",
       "</style>\n",
       "<table border=\"1\" class=\"dataframe\">\n",
       "  <thead>\n",
       "    <tr style=\"text-align: right;\">\n",
       "      <th></th>\n",
       "      <th>cog</th>\n",
       "      <th>category</th>\n",
       "      <th>pvalue</th>\n",
       "      <th>qvalue</th>\n",
       "      <th>empirical-qvalue</th>\n",
       "      <th>log pvalue</th>\n",
       "      <th>-log pvalue</th>\n",
       "      <th>type</th>\n",
       "    </tr>\n",
       "  </thead>\n",
       "  <tbody>\n",
       "    <tr>\n",
       "      <th>10</th>\n",
       "      <td>K</td>\n",
       "      <td>Transcription</td>\n",
       "      <td>0.005408</td>\n",
       "      <td>0.064891</td>\n",
       "      <td>0.001194</td>\n",
       "      <td>-2.923024</td>\n",
       "      <td>2.923024</td>\n",
       "      <td>Full dataset</td>\n",
       "    </tr>\n",
       "    <tr>\n",
       "      <th>11</th>\n",
       "      <td>L</td>\n",
       "      <td>Replication, recombination and repair</td>\n",
       "      <td>0.001727</td>\n",
       "      <td>0.041450</td>\n",
       "      <td>0.000005</td>\n",
       "      <td>-5.288027</td>\n",
       "      <td>5.288027</td>\n",
       "      <td>Full dataset</td>\n",
       "    </tr>\n",
       "    <tr>\n",
       "      <th>11</th>\n",
       "      <td>L</td>\n",
       "      <td>Replication, recombination and repair</td>\n",
       "      <td>0.000060</td>\n",
       "      <td>0.001441</td>\n",
       "      <td>0.000053</td>\n",
       "      <td>-4.279322</td>\n",
       "      <td>4.279322</td>\n",
       "      <td>PE: Urinary tract</td>\n",
       "    </tr>\n",
       "    <tr>\n",
       "      <th>11</th>\n",
       "      <td>L</td>\n",
       "      <td>Replication, recombination and repair</td>\n",
       "      <td>0.013777</td>\n",
       "      <td>0.330636</td>\n",
       "      <td>0.044340</td>\n",
       "      <td>-1.353208</td>\n",
       "      <td>1.353208</td>\n",
       "      <td>PE: Digestive tract</td>\n",
       "    </tr>\n",
       "  </tbody>\n",
       "</table>\n",
       "</div>"
      ],
      "text/plain": [
       "   cog                               category    pvalue    qvalue  \\\n",
       "10   K                          Transcription  0.005408  0.064891   \n",
       "11   L  Replication, recombination and repair  0.001727  0.041450   \n",
       "11   L  Replication, recombination and repair  0.000060  0.001441   \n",
       "11   L  Replication, recombination and repair  0.013777  0.330636   \n",
       "\n",
       "    empirical-qvalue  log pvalue  -log pvalue                 type  \n",
       "10          0.001194   -2.923024     2.923024         Full dataset  \n",
       "11          0.000005   -5.288027     5.288027         Full dataset  \n",
       "11          0.000053   -4.279322     4.279322    PE: Urinary tract  \n",
       "11          0.044340   -1.353208     1.353208  PE: Digestive tract  "
      ]
     },
     "execution_count": 92,
     "metadata": {},
     "output_type": "execute_result"
    }
   ],
   "source": [
    "ff[ff['empirical-qvalue'] < 0.05]"
   ]
  },
  {
   "cell_type": "code",
   "execution_count": 96,
   "id": "3728dc75-5c49-47bc-b7ef-6897410746a1",
   "metadata": {},
   "outputs": [
    {
     "data": {
      "image/png": "[encoded data removed]",
      "text/plain": [
       "<Figure size 648x432 with 1 Axes>"
      ]
     },
     "metadata": {},
     "output_type": "display_data"
    }
   ],
   "source": [
    "#fig, ax = plt.subplots()\n",
    "cp = sns.catplot(data=ff,\n",
    "                 x='cog', y='-log pvalue',\n",
    "                 hue = 'type',\n",
    "                 legend=False,\n",
    "                 kind='bar',\n",
    "                 dodge=True,\n",
    "                 height=6,\n",
    "                 aspect=1.5,\n",
    "                 palette=['xkcd:bluey green', 'xkcd:coral', 'xkcd:light mustard', 'xkcd:turquoise blue'])\n",
    "\n",
    "plt.xlabel(\"COG category\")\n",
    "plt.ylabel(\"-log10 pvalue\")\n",
    "sns.despine(top=False,\n",
    "            right=False)\n",
    "plt.axhline(-np.log10(0.05), color='grey', ls='dashed', zorder=0)\n",
    "legend = plt.legend(loc='upper left')\n",
    "legend.get_frame().set_alpha(None)\n",
    "legend.get_frame().set_facecolor((0, 0, 0, 0))\n",
    "\n",
    "plt.text(17.2, 5.3, \"X : not annotated\", size=15,\n",
    "         ha=\"left\", va=\"top\")\n",
    "         \n",
    "plt.savefig('../../out/figures/cogs_output.png',\n",
    "            dpi=300,\n",
    "            bbox_inches='tight',\n",
    "            transparent=True)\n",
    "plt.savefig('../../out/figures/cogs_output.svg',\n",
    "            dpi=300, bbox_inches='tight',\n",
    "            transparent=True);"
   ]
  },
  {
   "cell_type": "markdown",
   "id": "91663e0f-7eb5-4d8e-9640-bef76b367cda",
   "metadata": {},
   "source": [
    "# GO terms"
   ]
  },
  {
   "cell_type": "code",
   "execution_count": 25,
   "id": "0bd77a0a-5e47-4a55-8901-64e50ec5f035",
   "metadata": {},
   "outputs": [],
   "source": [
    "!wget --quiet -O go-basic.obo \"http://purl.obolibrary.org/obo/go/go-basic.obo\""
   ]
  },
  {
   "cell_type": "code",
   "execution_count": 52,
   "id": "a2d1fc28-15b9-4059-bece-95324259f3d3",
   "metadata": {
    "tags": []
   },
   "outputs": [
    {
     "name": "stdout",
     "output_type": "stream",
     "text": [
      "go-basic.obo: fmt(1.2) rel(2022-10-07) 46,824 Terms\n"
     ]
    }
   ],
   "source": [
    "obodag = GODag(\"go-basic.obo\")"
   ]
  },
  {
   "cell_type": "code",
   "execution_count": 53,
   "id": "b360c528-a66a-4183-9e9e-59ee0ec0d87a",
   "metadata": {},
   "outputs": [],
   "source": [
    "og = {}\n",
    "for k, v in pan.dropna().iteritems():\n",
    "    for g in v.split('\\t'):\n",
    "        og[g] = k"
   ]
  },
  {
   "cell_type": "markdown",
   "id": "35db84fe-24c6-477e-b53b-05a251cf04d6",
   "metadata": {},
   "source": [
    "### **WG**"
   ]
  },
  {
   "cell_type": "code",
   "execution_count": 56,
   "id": "987ce2c1-2b15-42d4-9106-9aad8772f0b5",
   "metadata": {},
   "outputs": [],
   "source": [
    "#### GO terms enrichment ####\n",
    "assoc = {og.get(k, k): {y for y in v.split(',')}\n",
    "         for k, v in m.set_index('query')['GOs'].dropna().to_dict().items()}\n",
    "for k, v in q.set_index('query')['GOs'].dropna().to_dict().items():\n",
    "    if k in assoc:\n",
    "        continue\n",
    "    assoc[k] = {y for y in v.split(',')}"
   ]
  },
  {
   "cell_type": "code",
   "execution_count": 57,
   "id": "33f25ca9-f116-475e-a7c2-d4f725cf93ca",
   "metadata": {},
   "outputs": [
    {
     "name": "stdout",
     "output_type": "stream",
     "text": [
      "\n",
      "Load  Ontology Enrichment Analysis ...\n",
      "Propagating term counts up: is_a\n",
      "100%  4,610 of  4,610 population items found in association\n",
      "\n",
      "Runing  Ontology Analysis: current study set of 26 IDs.\n",
      "100%     26 of     26 study items found in association\n",
      "100%     26 of     26 study items found in population(4610)\n",
      "Calculating 5,945 uncorrected p-values using fisher_scipy_stats\n"
     ]
    },
    {
     "name": "stderr",
     "output_type": "stream",
     "text": [
      "132 GO IDs NOT FOUND IN ASSOCIATION: GO:0052143 GO:0044432 GO:0034419 GO:0051193 GO:0009109 GO:0044425 GO:0044422 GO:0031233 GO:0031235 GO:0000746 GO:0000726 GO:0018307 GO:0051184 GO:0051271 GO:0006733 GO:0004158 GO:0008144 GO:0000988 GO:0051196 GO:0044437 GO:0071575 GO:0044421 GO:0051272 GO:0042891 GO:0018065 GO:0039633 GO:0009108 GO:0070035 GO:0051188 GO:0008905 GO:0000990 GO:0072321 GO:0052192 GO:0016676 GO:0044427 GO:0052212 GO:0042954 GO:0000989 GO:0043901 GO:0052195 GO:0031224 GO:0047138 GO:0055114 GO:0031226 GO:0044433 GO:0044452 GO:0052243 GO:0102132 GO:0015491 GO:0044428 GO:0031237 GO:0044445 GO:0044456 GO:0031225 GO:0051801 GO:0102131 GO:0120038 GO:0097223 GO:0051883 GO:0016458 GO:0048037 GO:0052047 GO:0051187 GO:0022610 GO:0001302 GO:0044459 GO:0044436 GO:0051186 GO:0015301 GO:0031362 GO:0051181 GO:0036405 GO:1990507 GO:0046218 GO:0009405 GO:0044464 GO:0043900 GO:0000229 GO:0044444 GO:0044110 GO:0051182 GO:0015922 GO:0001871 GO:0045203 GO:0046144 GO:0044454 GO:0046145 GO:0051817 GO:0044446 GO:0033267 GO:0104005 GO:0043902 GO:0005623 GO:0015002 GO:0044463 GO:0044216 GO:0044434 GO:0036406 GO:0050662 GO:0046658 GO:0006732 GO:0007569 GO:0044215 GO:0044451 GO:0031263 GO:0044764 - GO:0033220 GO:0044429 GO:0044462 GO:0009305 GO:0006928 GO:0052127 GO:0051270 GO:0031230 GO:0042895 GO:0052216 GO:0006557 GO:0018298 GO:0051818 GO:0052331 GO:0031246 GO:0044424 GO:0051704 GO:0044461 GO:0052116 GO:0097458 GO:0044435 GO:0008565 GO:0015307 GO:0051185 GO:0075141\n"
     ]
    },
    {
     "name": "stdout",
     "output_type": "stream",
     "text": [
      "   5,945 terms are associated with  3,513 of  4,610 population items\n",
      "     245 terms are associated with      7 of     26 study items\n",
      "  METHOD fdr_bh:\n",
      "       5 GO terms found significant (< 0.05=alpha) (  0 enriched +   5 purified): statsmodels fdr_bh\n",
      "       0 study items associated with significant GO IDs (enriched)\n",
      "       7 study items associated with significant GO IDs (purified)\n"
     ]
    }
   ],
   "source": [
    "go = GOEnrichmentStudy(assoc.keys(), assoc, obodag, methods=['fdr_bh'])\n",
    "res = go.run_study(set(q['query']))"
   ]
  },
  {
   "cell_type": "code",
   "execution_count": 58,
   "id": "deee37d6-a968-4d24-b4b3-8ed80b059d38",
   "metadata": {},
   "outputs": [],
   "source": [
    "passing = [x for x in res\n",
    "           if x.get_pvalue() < 0.05]"
   ]
  },
  {
   "cell_type": "code",
   "execution_count": 59,
   "id": "e1a7e8ff-cded-46a5-bf3b-d8dbbb785610",
   "metadata": {},
   "outputs": [
    {
     "data": {
      "text/plain": [
       "[GOEnrichmentRecord(GO:0008150),\n",
       " GOEnrichmentRecord(GO:0009987),\n",
       " GOEnrichmentRecord(GO:0110165),\n",
       " GOEnrichmentRecord(GO:0005575),\n",
       " GOEnrichmentRecord(GO:0003674)]"
      ]
     },
     "execution_count": 59,
     "metadata": {},
     "output_type": "execute_result"
    }
   ],
   "source": [
    "passing"
   ]
  },
  {
   "cell_type": "code",
   "execution_count": 60,
   "id": "19115c27-ca4c-4cc5-bef5-0e9886685c6e",
   "metadata": {},
   "outputs": [],
   "source": [
    "res = []\n",
    "for go in passing:\n",
    "    go.study_items = ['%s' % x for x in go.study_items]\n",
    "    res.append(str(go).split('\\t'))\n",
    "r = pd.DataFrame(res,\n",
    "                 columns=go.get_prtflds_default())"
   ]
  },
  {
   "cell_type": "code",
   "execution_count": 61,
   "id": "1a433647-9229-41dd-8b8b-1521ac62f1aa",
   "metadata": {},
   "outputs": [
    {
     "data": {
      "text/html": [
       "<div>\n",
       "<style scoped>\n",
       "    .dataframe tbody tr th:only-of-type {\n",
       "        vertical-align: middle;\n",
       "    }\n",
       "\n",
       "    .dataframe tbody tr th {\n",
       "        vertical-align: top;\n",
       "    }\n",
       "\n",
       "    .dataframe thead th {\n",
       "        text-align: right;\n",
       "    }\n",
       "</style>\n",
       "<table border=\"1\" class=\"dataframe\">\n",
       "  <thead>\n",
       "    <tr style=\"text-align: right;\">\n",
       "      <th></th>\n",
       "      <th>GO</th>\n",
       "      <th>NS</th>\n",
       "      <th>enrichment</th>\n",
       "      <th>name</th>\n",
       "      <th>ratio_in_study</th>\n",
       "      <th>ratio_in_pop</th>\n",
       "      <th>p_uncorrected</th>\n",
       "      <th>depth</th>\n",
       "      <th>study_count</th>\n",
       "      <th>p_fdr_bh</th>\n",
       "      <th>study_items</th>\n",
       "    </tr>\n",
       "  </thead>\n",
       "  <tbody>\n",
       "    <tr>\n",
       "      <th>0</th>\n",
       "      <td>GO:0008150</td>\n",
       "      <td>BP</td>\n",
       "      <td>p</td>\n",
       "      <td>biological_process</td>\n",
       "      <td>6/26</td>\n",
       "      <td>3152/4610</td>\n",
       "      <td>2.53e-06</td>\n",
       "      <td>0</td>\n",
       "      <td>6</td>\n",
       "      <td>0.015</td>\n",
       "      <td>fliI~~~fliI_2~~~atpB_2~~~fliI_1, group_17552, ...</td>\n",
       "    </tr>\n",
       "    <tr>\n",
       "      <th>1</th>\n",
       "      <td>GO:0009987</td>\n",
       "      <td>BP</td>\n",
       "      <td>p</td>\n",
       "      <td>cellular process</td>\n",
       "      <td>5/26</td>\n",
       "      <td>2815/4610</td>\n",
       "      <td>1.8e-05</td>\n",
       "      <td>1</td>\n",
       "      <td>5</td>\n",
       "      <td>0.0356</td>\n",
       "      <td>fliI~~~fliI_2~~~atpB_2~~~fliI_1, group_17552, ...</td>\n",
       "    </tr>\n",
       "    <tr>\n",
       "      <th>2</th>\n",
       "      <td>GO:0110165</td>\n",
       "      <td>CC</td>\n",
       "      <td>p</td>\n",
       "      <td>cellular anatomical entity</td>\n",
       "      <td>4/26</td>\n",
       "      <td>2739/4610</td>\n",
       "      <td>6.07e-06</td>\n",
       "      <td>1</td>\n",
       "      <td>4</td>\n",
       "      <td>0.0181</td>\n",
       "      <td>fliI~~~fliI_2~~~atpB_2~~~fliI_1, group_8552, g...</td>\n",
       "    </tr>\n",
       "    <tr>\n",
       "      <th>3</th>\n",
       "      <td>GO:0005575</td>\n",
       "      <td>CC</td>\n",
       "      <td>p</td>\n",
       "      <td>cellular_component</td>\n",
       "      <td>5/26</td>\n",
       "      <td>2770/4610</td>\n",
       "      <td>2.58e-05</td>\n",
       "      <td>0</td>\n",
       "      <td>5</td>\n",
       "      <td>0.0383</td>\n",
       "      <td>fliI~~~fliI_2~~~atpB_2~~~fliI_1, group_17552, ...</td>\n",
       "    </tr>\n",
       "    <tr>\n",
       "      <th>4</th>\n",
       "      <td>GO:0003674</td>\n",
       "      <td>MF</td>\n",
       "      <td>p</td>\n",
       "      <td>molecular_function</td>\n",
       "      <td>6/26</td>\n",
       "      <td>2943/4610</td>\n",
       "      <td>3.39e-05</td>\n",
       "      <td>0</td>\n",
       "      <td>6</td>\n",
       "      <td>0.0403</td>\n",
       "      <td>fliI~~~fliI_2~~~atpB_2~~~fliI_1, group_17552, ...</td>\n",
       "    </tr>\n",
       "  </tbody>\n",
       "</table>\n",
       "</div>"
      ],
      "text/plain": [
       "           GO  NS enrichment                            name ratio_in_study  \\\n",
       "0  GO:0008150  BP          p  biological_process                       6/26   \n",
       "1  GO:0009987  BP          p  cellular process                         5/26   \n",
       "2  GO:0110165  CC          p  cellular anatomical entity               4/26   \n",
       "3  GO:0005575  CC          p  cellular_component                       5/26   \n",
       "4  GO:0003674  MF          p  molecular_function                       6/26   \n",
       "\n",
       "  ratio_in_pop p_uncorrected depth study_count p_fdr_bh  \\\n",
       "0    3152/4610      2.53e-06     0           6    0.015   \n",
       "1    2815/4610       1.8e-05     1           5   0.0356   \n",
       "2    2739/4610      6.07e-06     1           4   0.0181   \n",
       "3    2770/4610      2.58e-05     0           5   0.0383   \n",
       "4    2943/4610      3.39e-05     0           6   0.0403   \n",
       "\n",
       "                                         study_items  \n",
       "0  fliI~~~fliI_2~~~atpB_2~~~fliI_1, group_17552, ...  \n",
       "1  fliI~~~fliI_2~~~atpB_2~~~fliI_1, group_17552, ...  \n",
       "2  fliI~~~fliI_2~~~atpB_2~~~fliI_1, group_8552, g...  \n",
       "3  fliI~~~fliI_2~~~atpB_2~~~fliI_1, group_17552, ...  \n",
       "4  fliI~~~fliI_2~~~atpB_2~~~fliI_1, group_17552, ...  "
      ]
     },
     "execution_count": 61,
     "metadata": {},
     "output_type": "execute_result"
    }
   ],
   "source": [
    "r"
   ]
  },
  {
   "cell_type": "code",
   "execution_count": 62,
   "id": "da966500-0d5f-4cf0-b750-e0ca9d9a4a84",
   "metadata": {},
   "outputs": [],
   "source": [
    "r.to_csv('../../out/associations/go_terms.csv', sep='\\t', index=False)"
   ]
  },
  {
   "cell_type": "markdown",
   "id": "d0508fcb-a07b-4cc6-9fd5-6d0f9c4a3e35",
   "metadata": {},
   "source": [
    "### **PEU**"
   ]
  },
  {
   "cell_type": "code",
   "execution_count": 70,
   "id": "086e7dd5-425f-488a-bfa1-1d55ab7e5f19",
   "metadata": {},
   "outputs": [],
   "source": [
    "assoc = {og.get(k, k): {y for y in v.split(',')}\n",
    "         for k, v in m.set_index('query')['GOs'].dropna().to_dict().items()}\n",
    "for k, v in u.set_index('query')['GOs'].dropna().to_dict().items():\n",
    "    if k in assoc:\n",
    "        continue\n",
    "    assoc[k] = {y for y in v.split(',')}"
   ]
  },
  {
   "cell_type": "code",
   "execution_count": 71,
   "id": "7ac22fe6-8610-40c3-889d-7a099ef186ca",
   "metadata": {},
   "outputs": [
    {
     "name": "stdout",
     "output_type": "stream",
     "text": [
      "\n",
      "Load  Ontology Enrichment Analysis ...\n",
      "Propagating term counts up: is_a\n",
      "100%  4,643 of  4,643 population items found in association\n",
      "\n",
      "Runing  Ontology Analysis: current study set of 80 IDs.\n",
      "100%     80 of     80 study items found in association\n",
      "100%     80 of     80 study items found in population(4643)\n",
      "Calculating 5,945 uncorrected p-values using fisher_scipy_stats\n"
     ]
    },
    {
     "name": "stderr",
     "output_type": "stream",
     "text": [
      "132 GO IDs NOT FOUND IN ASSOCIATION: GO:0052143 GO:0044432 GO:0034419 GO:0051193 GO:0009109 GO:0044425 GO:0044422 GO:0031233 GO:0031235 GO:0000746 GO:0000726 GO:0018307 GO:0051184 GO:0051271 GO:0006733 GO:0004158 GO:0008144 GO:0000988 GO:0051196 GO:0044437 GO:0071575 GO:0044421 GO:0051272 GO:0042891 GO:0018065 GO:0039633 GO:0009108 GO:0070035 GO:0051188 GO:0008905 GO:0000990 GO:0072321 GO:0052192 GO:0016676 GO:0044427 GO:0052212 GO:0042954 GO:0000989 GO:0043901 GO:0052195 GO:0031224 GO:0047138 GO:0055114 GO:0031226 GO:0044433 GO:0044452 GO:0052243 GO:0102132 GO:0015491 GO:0044428 GO:0031237 GO:0044445 GO:0044456 GO:0031225 GO:0051801 GO:0102131 GO:0120038 GO:0097223 GO:0051883 GO:0016458 GO:0048037 GO:0052047 GO:0051187 GO:0022610 GO:0001302 GO:0044459 GO:0044436 GO:0051186 GO:0015301 GO:0031362 GO:0051181 GO:0036405 GO:1990507 GO:0046218 GO:0009405 GO:0044464 GO:0043900 GO:0000229 GO:0044444 GO:0044110 GO:0051182 GO:0015922 GO:0001871 GO:0045203 GO:0046144 GO:0044454 GO:0046145 GO:0051817 GO:0044446 GO:0033267 GO:0104005 GO:0043902 GO:0005623 GO:0015002 GO:0044463 GO:0044216 GO:0044434 GO:0036406 GO:0050662 GO:0046658 GO:0006732 GO:0007569 GO:0044215 GO:0044451 GO:0031263 GO:0044764 - GO:0033220 GO:0044429 GO:0044462 GO:0009305 GO:0006928 GO:0052127 GO:0051270 GO:0031230 GO:0042895 GO:0052216 GO:0006557 GO:0018298 GO:0051818 GO:0052331 GO:0031246 GO:0044424 GO:0051704 GO:0044461 GO:0052116 GO:0097458 GO:0044435 GO:0008565 GO:0015307 GO:0051185 GO:0075141\n"
     ]
    },
    {
     "name": "stdout",
     "output_type": "stream",
     "text": [
      "   5,945 terms are associated with  3,516 of  4,643 population items\n",
      "     465 terms are associated with     24 of     80 study items\n",
      "  METHOD fdr_bh:\n",
      "      19 GO terms found significant (< 0.05=alpha) (  0 enriched +  19 purified): statsmodels fdr_bh\n",
      "       0 study items associated with significant GO IDs (enriched)\n",
      "      24 study items associated with significant GO IDs (purified)\n"
     ]
    }
   ],
   "source": [
    "go = GOEnrichmentStudy(assoc.keys(), assoc, obodag, methods=['fdr_bh'])\n",
    "res = go.run_study(set(u['query']))"
   ]
  },
  {
   "cell_type": "code",
   "execution_count": 72,
   "id": "ef1a25ba-1da1-4283-840a-fe54ef2fc1ac",
   "metadata": {},
   "outputs": [],
   "source": [
    "passing = [x for x in res\n",
    "           if x.get_pvalue() < 0.05]"
   ]
  },
  {
   "cell_type": "code",
   "execution_count": 73,
   "id": "0c2bb66c-073b-4e71-9e7f-a988134de635",
   "metadata": {},
   "outputs": [
    {
     "data": {
      "text/plain": [
       "[GOEnrichmentRecord(GO:0008150),\n",
       " GOEnrichmentRecord(GO:0009987),\n",
       " GOEnrichmentRecord(GO:0008152),\n",
       " GOEnrichmentRecord(GO:0044237),\n",
       " GOEnrichmentRecord(GO:0071704),\n",
       " GOEnrichmentRecord(GO:0044238),\n",
       " GOEnrichmentRecord(GO:0006807),\n",
       " GOEnrichmentRecord(GO:0110165),\n",
       " GOEnrichmentRecord(GO:0005575),\n",
       " GOEnrichmentRecord(GO:0005622),\n",
       " GOEnrichmentRecord(GO:0005737),\n",
       " GOEnrichmentRecord(GO:0005829),\n",
       " GOEnrichmentRecord(GO:0016020),\n",
       " GOEnrichmentRecord(GO:0071944),\n",
       " GOEnrichmentRecord(GO:0003674),\n",
       " GOEnrichmentRecord(GO:0003824),\n",
       " GOEnrichmentRecord(GO:0005488),\n",
       " GOEnrichmentRecord(GO:0043167),\n",
       " GOEnrichmentRecord(GO:0005215)]"
      ]
     },
     "execution_count": 73,
     "metadata": {},
     "output_type": "execute_result"
    }
   ],
   "source": [
    "passing"
   ]
  },
  {
   "cell_type": "code",
   "execution_count": 74,
   "id": "e7ce0cfc-aca8-488e-aa8b-69e9a754912b",
   "metadata": {},
   "outputs": [],
   "source": [
    "res = []\n",
    "for go in passing:\n",
    "    go.study_items = ['%s' % x for x in go.study_items]\n",
    "    res.append(str(go).split('\\t'))\n",
    "r = pd.DataFrame(res,\n",
    "                 columns=go.get_prtflds_default())"
   ]
  },
  {
   "cell_type": "code",
   "execution_count": 75,
   "id": "6651bb0f-e9e9-4444-8879-eb5fb8e3d6cf",
   "metadata": {
    "tags": []
   },
   "outputs": [
    {
     "data": {
      "text/html": [
       "<div>\n",
       "<style scoped>\n",
       "    .dataframe tbody tr th:only-of-type {\n",
       "        vertical-align: middle;\n",
       "    }\n",
       "\n",
       "    .dataframe tbody tr th {\n",
       "        vertical-align: top;\n",
       "    }\n",
       "\n",
       "    .dataframe thead th {\n",
       "        text-align: right;\n",
       "    }\n",
       "</style>\n",
       "<table border=\"1\" class=\"dataframe\">\n",
       "  <thead>\n",
       "    <tr style=\"text-align: right;\">\n",
       "      <th></th>\n",
       "      <th>GO</th>\n",
       "      <th>NS</th>\n",
       "      <th>enrichment</th>\n",
       "      <th>name</th>\n",
       "      <th>ratio_in_study</th>\n",
       "      <th>ratio_in_pop</th>\n",
       "      <th>p_uncorrected</th>\n",
       "      <th>depth</th>\n",
       "      <th>study_count</th>\n",
       "      <th>p_fdr_bh</th>\n",
       "      <th>study_items</th>\n",
       "    </tr>\n",
       "  </thead>\n",
       "  <tbody>\n",
       "    <tr>\n",
       "      <th>0</th>\n",
       "      <td>GO:0008150</td>\n",
       "      <td>BP</td>\n",
       "      <td>p</td>\n",
       "      <td>biological_process</td>\n",
       "      <td>21/80</td>\n",
       "      <td>3155/4643</td>\n",
       "      <td>1.44e-14</td>\n",
       "      <td>0</td>\n",
       "      <td>21</td>\n",
       "      <td>2.15e-11</td>\n",
       "      <td>aceF, dgcE_2~~~dgcE_1~~~dgcE, dhfrI, epsM_1~~~...</td>\n",
       "    </tr>\n",
       "    <tr>\n",
       "      <th>1</th>\n",
       "      <td>GO:0009987</td>\n",
       "      <td>BP</td>\n",
       "      <td>p</td>\n",
       "      <td>cellular process</td>\n",
       "      <td>20/80</td>\n",
       "      <td>2818/4643</td>\n",
       "      <td>7.6e-11</td>\n",
       "      <td>1</td>\n",
       "      <td>20</td>\n",
       "      <td>9.03e-08</td>\n",
       "      <td>aceF, dgcE_2~~~dgcE_1~~~dgcE, dhfrI, epsM_1~~~...</td>\n",
       "    </tr>\n",
       "    <tr>\n",
       "      <th>2</th>\n",
       "      <td>GO:0008152</td>\n",
       "      <td>BP</td>\n",
       "      <td>p</td>\n",
       "      <td>metabolic process</td>\n",
       "      <td>15/80</td>\n",
       "      <td>2289/4643</td>\n",
       "      <td>1.36e-08</td>\n",
       "      <td>1</td>\n",
       "      <td>15</td>\n",
       "      <td>1.34e-05</td>\n",
       "      <td>aceF, dgcE_2~~~dgcE_1~~~dgcE, dhfrI, galF~~~ga...</td>\n",
       "    </tr>\n",
       "    <tr>\n",
       "      <th>3</th>\n",
       "      <td>GO:0044237</td>\n",
       "      <td>BP</td>\n",
       "      <td>p</td>\n",
       "      <td>cellular metabolic process</td>\n",
       "      <td>15/80</td>\n",
       "      <td>1988/4643</td>\n",
       "      <td>6.04e-06</td>\n",
       "      <td>2</td>\n",
       "      <td>15</td>\n",
       "      <td>0.00279</td>\n",
       "      <td>aceF, dgcE_2~~~dgcE_1~~~dgcE, dhfrI, galF~~~ga...</td>\n",
       "    </tr>\n",
       "    <tr>\n",
       "      <th>4</th>\n",
       "      <td>GO:0071704</td>\n",
       "      <td>BP</td>\n",
       "      <td>p</td>\n",
       "      <td>organic substance metabolic process</td>\n",
       "      <td>15/80</td>\n",
       "      <td>1986/4643</td>\n",
       "      <td>6.11e-06</td>\n",
       "      <td>2</td>\n",
       "      <td>15</td>\n",
       "      <td>0.00279</td>\n",
       "      <td>aceF, dgcE_2~~~dgcE_1~~~dgcE, dhfrI, galF~~~ga...</td>\n",
       "    </tr>\n",
       "    <tr>\n",
       "      <th>5</th>\n",
       "      <td>GO:0044238</td>\n",
       "      <td>BP</td>\n",
       "      <td>p</td>\n",
       "      <td>primary metabolic process</td>\n",
       "      <td>13/80</td>\n",
       "      <td>1757/4643</td>\n",
       "      <td>3.47e-05</td>\n",
       "      <td>2</td>\n",
       "      <td>13</td>\n",
       "      <td>0.0121</td>\n",
       "      <td>aceF, dgcE_2~~~dgcE_1~~~dgcE, dhfrI, galF~~~ga...</td>\n",
       "    </tr>\n",
       "    <tr>\n",
       "      <th>6</th>\n",
       "      <td>GO:0006807</td>\n",
       "      <td>BP</td>\n",
       "      <td>p</td>\n",
       "      <td>nitrogen compound metabolic process</td>\n",
       "      <td>11/80</td>\n",
       "      <td>1575/4643</td>\n",
       "      <td>6.42e-05</td>\n",
       "      <td>2</td>\n",
       "      <td>11</td>\n",
       "      <td>0.0212</td>\n",
       "      <td>aceF, dgcE_2~~~dgcE_1~~~dgcE, dhfrI, galF~~~ga...</td>\n",
       "    </tr>\n",
       "    <tr>\n",
       "      <th>7</th>\n",
       "      <td>GO:0110165</td>\n",
       "      <td>CC</td>\n",
       "      <td>p</td>\n",
       "      <td>cellular anatomical entity</td>\n",
       "      <td>12/80</td>\n",
       "      <td>2739/4643</td>\n",
       "      <td>3.47e-16</td>\n",
       "      <td>1</td>\n",
       "      <td>12</td>\n",
       "      <td>2.06e-12</td>\n",
       "      <td>aceF, dgcE_2~~~dgcE_1~~~dgcE, epsM_1~~~epsM~~~...</td>\n",
       "    </tr>\n",
       "    <tr>\n",
       "      <th>8</th>\n",
       "      <td>GO:0005575</td>\n",
       "      <td>CC</td>\n",
       "      <td>p</td>\n",
       "      <td>cellular_component</td>\n",
       "      <td>13/80</td>\n",
       "      <td>2769/4643</td>\n",
       "      <td>1.05e-15</td>\n",
       "      <td>0</td>\n",
       "      <td>13</td>\n",
       "      <td>3.12e-12</td>\n",
       "      <td>aceF, dgcE_2~~~dgcE_1~~~dgcE, epsM_1~~~epsM~~~...</td>\n",
       "    </tr>\n",
       "    <tr>\n",
       "      <th>9</th>\n",
       "      <td>GO:0005622</td>\n",
       "      <td>CC</td>\n",
       "      <td>p</td>\n",
       "      <td>intracellular anatomical structure</td>\n",
       "      <td>5/80</td>\n",
       "      <td>1483/4643</td>\n",
       "      <td>3.64e-08</td>\n",
       "      <td>2</td>\n",
       "      <td>5</td>\n",
       "      <td>3.09e-05</td>\n",
       "      <td>aceF, dgcE_2~~~dgcE_1~~~dgcE, galF~~~galF_1, u...</td>\n",
       "    </tr>\n",
       "    <tr>\n",
       "      <th>10</th>\n",
       "      <td>GO:0005737</td>\n",
       "      <td>CC</td>\n",
       "      <td>p</td>\n",
       "      <td>cytoplasm</td>\n",
       "      <td>4/80</td>\n",
       "      <td>1372/4643</td>\n",
       "      <td>4.23e-08</td>\n",
       "      <td>2</td>\n",
       "      <td>4</td>\n",
       "      <td>3.14e-05</td>\n",
       "      <td>aceF, galF~~~galF_1, uhpA, ulaF~~~ulaF_1</td>\n",
       "    </tr>\n",
       "    <tr>\n",
       "      <th>11</th>\n",
       "      <td>GO:0005829</td>\n",
       "      <td>CC</td>\n",
       "      <td>p</td>\n",
       "      <td>cytosol</td>\n",
       "      <td>2/80</td>\n",
       "      <td>981/4643</td>\n",
       "      <td>2.42e-06</td>\n",
       "      <td>2</td>\n",
       "      <td>2</td>\n",
       "      <td>0.00131</td>\n",
       "      <td>galF~~~galF_1, ulaF~~~ulaF_1</td>\n",
       "    </tr>\n",
       "    <tr>\n",
       "      <th>12</th>\n",
       "      <td>GO:0016020</td>\n",
       "      <td>CC</td>\n",
       "      <td>p</td>\n",
       "      <td>membrane</td>\n",
       "      <td>7/80</td>\n",
       "      <td>1332/4643</td>\n",
       "      <td>1.63e-05</td>\n",
       "      <td>2</td>\n",
       "      <td>7</td>\n",
       "      <td>0.00694</td>\n",
       "      <td>dgcE_2~~~dgcE_1~~~dgcE, epsM_1~~~epsM~~~~~~eps...</td>\n",
       "    </tr>\n",
       "    <tr>\n",
       "      <th>13</th>\n",
       "      <td>GO:0071944</td>\n",
       "      <td>CC</td>\n",
       "      <td>p</td>\n",
       "      <td>cell periphery</td>\n",
       "      <td>7/80</td>\n",
       "      <td>1305/4643</td>\n",
       "      <td>2.61e-05</td>\n",
       "      <td>2</td>\n",
       "      <td>7</td>\n",
       "      <td>0.00971</td>\n",
       "      <td>dgcE_2~~~dgcE_1~~~dgcE, epsM_1~~~epsM~~~~~~eps...</td>\n",
       "    </tr>\n",
       "    <tr>\n",
       "      <th>14</th>\n",
       "      <td>GO:0003674</td>\n",
       "      <td>MF</td>\n",
       "      <td>p</td>\n",
       "      <td>molecular_function</td>\n",
       "      <td>17/80</td>\n",
       "      <td>2945/4643</td>\n",
       "      <td>1.41e-14</td>\n",
       "      <td>0</td>\n",
       "      <td>17</td>\n",
       "      <td>2.15e-11</td>\n",
       "      <td>aceF, dgcE_2~~~dgcE_1~~~dgcE, dhfrI, galF~~~ga...</td>\n",
       "    </tr>\n",
       "    <tr>\n",
       "      <th>15</th>\n",
       "      <td>GO:0003824</td>\n",
       "      <td>MF</td>\n",
       "      <td>p</td>\n",
       "      <td>catalytic activity</td>\n",
       "      <td>12/80</td>\n",
       "      <td>1968/4643</td>\n",
       "      <td>1.47e-07</td>\n",
       "      <td>1</td>\n",
       "      <td>12</td>\n",
       "      <td>9.73e-05</td>\n",
       "      <td>aceF, dgcE_2~~~dgcE_1~~~dgcE, dhfrI, galF~~~ga...</td>\n",
       "    </tr>\n",
       "    <tr>\n",
       "      <th>16</th>\n",
       "      <td>GO:0005488</td>\n",
       "      <td>MF</td>\n",
       "      <td>p</td>\n",
       "      <td>binding</td>\n",
       "      <td>14/80</td>\n",
       "      <td>2039/4643</td>\n",
       "      <td>6.08e-07</td>\n",
       "      <td>1</td>\n",
       "      <td>14</td>\n",
       "      <td>0.000361</td>\n",
       "      <td>aceF, dgcE_2~~~dgcE_1~~~dgcE, dhfrI, group_711...</td>\n",
       "    </tr>\n",
       "    <tr>\n",
       "      <th>17</th>\n",
       "      <td>GO:0043167</td>\n",
       "      <td>MF</td>\n",
       "      <td>p</td>\n",
       "      <td>ion binding</td>\n",
       "      <td>7/80</td>\n",
       "      <td>1322/4643</td>\n",
       "      <td>2.54e-05</td>\n",
       "      <td>2</td>\n",
       "      <td>7</td>\n",
       "      <td>0.00971</td>\n",
       "      <td>aceF, dgcE_2~~~dgcE_1~~~dgcE, mrcA, phnL, thiH...</td>\n",
       "    </tr>\n",
       "    <tr>\n",
       "      <th>18</th>\n",
       "      <td>GO:0005215</td>\n",
       "      <td>MF</td>\n",
       "      <td>p</td>\n",
       "      <td>transporter activity</td>\n",
       "      <td>0/80</td>\n",
       "      <td>522/4643</td>\n",
       "      <td>0.000109</td>\n",
       "      <td>1</td>\n",
       "      <td>0</td>\n",
       "      <td>0.034</td>\n",
       "      <td></td>\n",
       "    </tr>\n",
       "  </tbody>\n",
       "</table>\n",
       "</div>"
      ],
      "text/plain": [
       "            GO  NS enrichment                                 name  \\\n",
       "0   GO:0008150  BP          p       biological_process               \n",
       "1   GO:0009987  BP          p       cellular process                 \n",
       "2   GO:0008152  BP          p       metabolic process                \n",
       "3   GO:0044237  BP          p       cellular metabolic process       \n",
       "4   GO:0071704  BP          p  organic substance metabolic process   \n",
       "5   GO:0044238  BP          p       primary metabolic process        \n",
       "6   GO:0006807  BP          p  nitrogen compound metabolic process   \n",
       "7   GO:0110165  CC          p       cellular anatomical entity       \n",
       "8   GO:0005575  CC          p       cellular_component               \n",
       "9   GO:0005622  CC          p   intracellular anatomical structure   \n",
       "10  GO:0005737  CC          p       cytoplasm                        \n",
       "11  GO:0005829  CC          p       cytosol                          \n",
       "12  GO:0016020  CC          p       membrane                         \n",
       "13  GO:0071944  CC          p       cell periphery                   \n",
       "14  GO:0003674  MF          p       molecular_function               \n",
       "15  GO:0003824  MF          p       catalytic activity               \n",
       "16  GO:0005488  MF          p       binding                          \n",
       "17  GO:0043167  MF          p       ion binding                      \n",
       "18  GO:0005215  MF          p       transporter activity             \n",
       "\n",
       "   ratio_in_study ratio_in_pop p_uncorrected depth study_count  p_fdr_bh  \\\n",
       "0           21/80    3155/4643      1.44e-14     0          21  2.15e-11   \n",
       "1           20/80    2818/4643       7.6e-11     1          20  9.03e-08   \n",
       "2           15/80    2289/4643      1.36e-08     1          15  1.34e-05   \n",
       "3           15/80    1988/4643      6.04e-06     2          15   0.00279   \n",
       "4           15/80    1986/4643      6.11e-06     2          15   0.00279   \n",
       "5           13/80    1757/4643      3.47e-05     2          13    0.0121   \n",
       "6           11/80    1575/4643      6.42e-05     2          11    0.0212   \n",
       "7           12/80    2739/4643      3.47e-16     1          12  2.06e-12   \n",
       "8           13/80    2769/4643      1.05e-15     0          13  3.12e-12   \n",
       "9            5/80    1483/4643      3.64e-08     2           5  3.09e-05   \n",
       "10           4/80    1372/4643      4.23e-08     2           4  3.14e-05   \n",
       "11           2/80     981/4643      2.42e-06     2           2   0.00131   \n",
       "12           7/80    1332/4643      1.63e-05     2           7   0.00694   \n",
       "13           7/80    1305/4643      2.61e-05     2           7   0.00971   \n",
       "14          17/80    2945/4643      1.41e-14     0          17  2.15e-11   \n",
       "15          12/80    1968/4643      1.47e-07     1          12  9.73e-05   \n",
       "16          14/80    2039/4643      6.08e-07     1          14  0.000361   \n",
       "17           7/80    1322/4643      2.54e-05     2           7   0.00971   \n",
       "18           0/80     522/4643      0.000109     1           0     0.034   \n",
       "\n",
       "                                          study_items  \n",
       "0   aceF, dgcE_2~~~dgcE_1~~~dgcE, dhfrI, epsM_1~~~...  \n",
       "1   aceF, dgcE_2~~~dgcE_1~~~dgcE, dhfrI, epsM_1~~~...  \n",
       "2   aceF, dgcE_2~~~dgcE_1~~~dgcE, dhfrI, galF~~~ga...  \n",
       "3   aceF, dgcE_2~~~dgcE_1~~~dgcE, dhfrI, galF~~~ga...  \n",
       "4   aceF, dgcE_2~~~dgcE_1~~~dgcE, dhfrI, galF~~~ga...  \n",
       "5   aceF, dgcE_2~~~dgcE_1~~~dgcE, dhfrI, galF~~~ga...  \n",
       "6   aceF, dgcE_2~~~dgcE_1~~~dgcE, dhfrI, galF~~~ga...  \n",
       "7   aceF, dgcE_2~~~dgcE_1~~~dgcE, epsM_1~~~epsM~~~...  \n",
       "8   aceF, dgcE_2~~~dgcE_1~~~dgcE, epsM_1~~~epsM~~~...  \n",
       "9   aceF, dgcE_2~~~dgcE_1~~~dgcE, galF~~~galF_1, u...  \n",
       "10           aceF, galF~~~galF_1, uhpA, ulaF~~~ulaF_1  \n",
       "11                       galF~~~galF_1, ulaF~~~ulaF_1  \n",
       "12  dgcE_2~~~dgcE_1~~~dgcE, epsM_1~~~epsM~~~~~~eps...  \n",
       "13  dgcE_2~~~dgcE_1~~~dgcE, epsM_1~~~epsM~~~~~~eps...  \n",
       "14  aceF, dgcE_2~~~dgcE_1~~~dgcE, dhfrI, galF~~~ga...  \n",
       "15  aceF, dgcE_2~~~dgcE_1~~~dgcE, dhfrI, galF~~~ga...  \n",
       "16  aceF, dgcE_2~~~dgcE_1~~~dgcE, dhfrI, group_711...  \n",
       "17  aceF, dgcE_2~~~dgcE_1~~~dgcE, mrcA, phnL, thiH...  \n",
       "18                                                     "
      ]
     },
     "execution_count": 75,
     "metadata": {},
     "output_type": "execute_result"
    }
   ],
   "source": [
    "r"
   ]
  },
  {
   "cell_type": "code",
   "execution_count": 76,
   "id": "d6066379-80af-413e-b354-a716a51fef67",
   "metadata": {},
   "outputs": [],
   "source": [
    "r.to_csv('../../out/peu/go_terms.tsv', sep='\\t', index=False)"
   ]
  },
  {
   "cell_type": "markdown",
   "id": "c8df0fde-71a9-463f-b392-42ed05f574b7",
   "metadata": {},
   "source": [
    "### **PED**"
   ]
  },
  {
   "cell_type": "code",
   "execution_count": 77,
   "id": "04aa2d9d-31e5-4059-ba83-95bb943d4932",
   "metadata": {},
   "outputs": [],
   "source": [
    "assoc = {og.get(k, k): {y for y in v.split(',')}\n",
    "         for k, v in m.set_index('query')['GOs'].dropna().to_dict().items()}\n",
    "for k, v in d.set_index('query')['GOs'].dropna().to_dict().items():\n",
    "    if k in assoc:\n",
    "        continue\n",
    "    assoc[k] = {y for y in v.split(',')}"
   ]
  },
  {
   "cell_type": "code",
   "execution_count": 78,
   "id": "f82d685d-0bb9-499e-86fb-69cc2b5cd8eb",
   "metadata": {},
   "outputs": [
    {
     "name": "stdout",
     "output_type": "stream",
     "text": [
      "\n",
      "Load  Ontology Enrichment Analysis ...\n",
      "Propagating term counts up: is_a\n",
      "100%  4,614 of  4,614 population items found in association\n",
      "\n",
      "Runing  Ontology Analysis: current study set of 39 IDs.\n",
      "100%     39 of     39 study items found in association\n",
      "100%     39 of     39 study items found in population(4614)\n",
      "Calculating 5,945 uncorrected p-values using fisher_scipy_stats\n"
     ]
    },
    {
     "name": "stderr",
     "output_type": "stream",
     "text": [
      "132 GO IDs NOT FOUND IN ASSOCIATION: GO:0052143 GO:0044432 GO:0034419 GO:0051193 GO:0009109 GO:0044425 GO:0044422 GO:0031233 GO:0031235 GO:0000746 GO:0000726 GO:0018307 GO:0051184 GO:0051271 GO:0006733 GO:0004158 GO:0008144 GO:0000988 GO:0051196 GO:0044437 GO:0071575 GO:0044421 GO:0051272 GO:0042891 GO:0018065 GO:0039633 GO:0009108 GO:0070035 GO:0051188 GO:0008905 GO:0000990 GO:0072321 GO:0052192 GO:0016676 GO:0044427 GO:0052212 GO:0042954 GO:0000989 GO:0043901 GO:0052195 GO:0031224 GO:0047138 GO:0055114 GO:0031226 GO:0044433 GO:0044452 GO:0052243 GO:0102132 GO:0015491 GO:0044428 GO:0031237 GO:0044445 GO:0044456 GO:0031225 GO:0051801 GO:0102131 GO:0120038 GO:0097223 GO:0051883 GO:0016458 GO:0048037 GO:0052047 GO:0051187 GO:0022610 GO:0001302 GO:0044459 GO:0044436 GO:0051186 GO:0015301 GO:0031362 GO:0051181 GO:0036405 GO:1990507 GO:0046218 GO:0009405 GO:0044464 GO:0043900 GO:0000229 GO:0044444 GO:0044110 GO:0051182 GO:0015922 GO:0001871 GO:0045203 GO:0046144 GO:0044454 GO:0046145 GO:0051817 GO:0044446 GO:0033267 GO:0104005 GO:0043902 GO:0005623 GO:0015002 GO:0044463 GO:0044216 GO:0044434 GO:0036406 GO:0050662 GO:0046658 GO:0006732 GO:0007569 GO:0044215 GO:0044451 GO:0031263 GO:0044764 - GO:0033220 GO:0044429 GO:0044462 GO:0009305 GO:0006928 GO:0052127 GO:0051270 GO:0031230 GO:0042895 GO:0052216 GO:0006557 GO:0018298 GO:0051818 GO:0052331 GO:0031246 GO:0044424 GO:0051704 GO:0044461 GO:0052116 GO:0097458 GO:0044435 GO:0008565 GO:0015307 GO:0051185 GO:0075141\n"
     ]
    },
    {
     "name": "stdout",
     "output_type": "stream",
     "text": [
      "   5,945 terms are associated with  3,513 of  4,614 population items\n",
      "     381 terms are associated with     16 of     39 study items\n",
      "  METHOD fdr_bh:\n",
      "       0 GO terms found significant (< 0.05=alpha) (  0 enriched +   0 purified): statsmodels fdr_bh\n",
      "       0 study items associated with significant GO IDs (enriched)\n",
      "       0 study items associated with significant GO IDs (purified)\n"
     ]
    }
   ],
   "source": [
    "go = GOEnrichmentStudy(assoc.keys(), assoc, obodag, methods=['fdr_bh'])\n",
    "res = go.run_study(set(d['query']))"
   ]
  },
  {
   "cell_type": "code",
   "execution_count": 79,
   "id": "efa894c5-c4cd-4336-b05b-8c9e9335b6e1",
   "metadata": {},
   "outputs": [],
   "source": [
    "passing = [x for x in res\n",
    "           if x.get_pvalue() < 0.05]"
   ]
  },
  {
   "cell_type": "code",
   "execution_count": 80,
   "id": "dac450ba-9cc5-483b-836b-37a5de94ea30",
   "metadata": {},
   "outputs": [
    {
     "data": {
      "text/plain": [
       "[]"
      ]
     },
     "execution_count": 80,
     "metadata": {},
     "output_type": "execute_result"
    }
   ],
   "source": [
    "passing"
   ]
  },
  {
   "cell_type": "markdown",
   "id": "b2ef3140-1398-4c3f-9c37-bf41135da480",
   "metadata": {},
   "source": [
    "### **B2**"
   ]
  },
  {
   "cell_type": "code",
   "execution_count": 81,
   "id": "80ae8c85-3d84-48f5-aaa7-e918082b6e38",
   "metadata": {
    "tags": []
   },
   "outputs": [],
   "source": [
    "assoc = {og.get(k, k): {y for y in v.split(',')}\n",
    "         for k, v in m.set_index('query')['GOs'].dropna().to_dict().items()}\n",
    "for k, v in n.set_index('query')['GOs'].dropna().to_dict().items():\n",
    "    if k in assoc:\n",
    "        continue\n",
    "    assoc[k] = {y for y in v.split(',')}"
   ]
  },
  {
   "cell_type": "code",
   "execution_count": 82,
   "id": "25970343-b160-494c-9fba-cce4cc2ef1b2",
   "metadata": {},
   "outputs": [
    {
     "name": "stdout",
     "output_type": "stream",
     "text": [
      "\n",
      "Load  Ontology Enrichment Analysis ...\n",
      "Propagating term counts up: is_a\n",
      "100%  4,614 of  4,614 population items found in association\n",
      "\n",
      "Runing  Ontology Analysis: current study set of 38 IDs.\n",
      "100%     38 of     38 study items found in association\n",
      "100%     38 of     38 study items found in population(4614)\n",
      "Calculating 5,945 uncorrected p-values using fisher_scipy_stats\n"
     ]
    },
    {
     "name": "stderr",
     "output_type": "stream",
     "text": [
      "132 GO IDs NOT FOUND IN ASSOCIATION: GO:0052143 GO:0044432 GO:0034419 GO:0051193 GO:0009109 GO:0044425 GO:0044422 GO:0031233 GO:0031235 GO:0000746 GO:0000726 GO:0018307 GO:0051184 GO:0051271 GO:0006733 GO:0004158 GO:0008144 GO:0000988 GO:0051196 GO:0044437 GO:0071575 GO:0044421 GO:0051272 GO:0042891 GO:0018065 GO:0039633 GO:0009108 GO:0070035 GO:0051188 GO:0008905 GO:0000990 GO:0072321 GO:0052192 GO:0016676 GO:0044427 GO:0052212 GO:0042954 GO:0000989 GO:0043901 GO:0052195 GO:0031224 GO:0047138 GO:0055114 GO:0031226 GO:0044433 GO:0044452 GO:0052243 GO:0102132 GO:0015491 GO:0044428 GO:0031237 GO:0044445 GO:0044456 GO:0031225 GO:0051801 GO:0102131 GO:0120038 GO:0097223 GO:0051883 GO:0016458 GO:0048037 GO:0052047 GO:0051187 GO:0022610 GO:0001302 GO:0044459 GO:0044436 GO:0051186 GO:0015301 GO:0031362 GO:0051181 GO:0036405 GO:1990507 GO:0046218 GO:0009405 GO:0044464 GO:0043900 GO:0000229 GO:0044444 GO:0044110 GO:0051182 GO:0015922 GO:0001871 GO:0045203 GO:0046144 GO:0044454 GO:0046145 GO:0051817 GO:0044446 GO:0033267 GO:0104005 GO:0043902 GO:0005623 GO:0015002 GO:0044463 GO:0044216 GO:0044434 GO:0036406 GO:0050662 GO:0046658 GO:0006732 GO:0007569 GO:0044215 GO:0044451 GO:0031263 GO:0044764 - GO:0033220 GO:0044429 GO:0044462 GO:0009305 GO:0006928 GO:0052127 GO:0051270 GO:0031230 GO:0042895 GO:0052216 GO:0006557 GO:0018298 GO:0051818 GO:0052331 GO:0031246 GO:0044424 GO:0051704 GO:0044461 GO:0052116 GO:0097458 GO:0044435 GO:0008565 GO:0015307 GO:0051185 GO:0075141\n"
     ]
    },
    {
     "name": "stdout",
     "output_type": "stream",
     "text": [
      "   5,945 terms are associated with  3,513 of  4,614 population items\n",
      "     436 terms are associated with     15 of     38 study items\n",
      "  METHOD fdr_bh:\n",
      "       0 GO terms found significant (< 0.05=alpha) (  0 enriched +   0 purified): statsmodels fdr_bh\n",
      "       0 study items associated with significant GO IDs (enriched)\n",
      "       0 study items associated with significant GO IDs (purified)\n"
     ]
    }
   ],
   "source": [
    "go = GOEnrichmentStudy(assoc.keys(), assoc, obodag, methods=['fdr_bh'])\n",
    "res = go.run_study(set(n['query']))"
   ]
  },
  {
   "cell_type": "code",
   "execution_count": 83,
   "id": "6bef2416-a4b1-4ccb-9ce2-70a9cc7f9578",
   "metadata": {},
   "outputs": [],
   "source": [
    "passing = [x for x in res\n",
    "           if x.get_pvalue() < 0.05]"
   ]
  },
  {
   "cell_type": "code",
   "execution_count": 84,
   "id": "2781a224-f8df-4d6a-9ff5-c73f2400d06d",
   "metadata": {},
   "outputs": [
    {
     "data": {
      "text/plain": [
       "[]"
      ]
     },
     "execution_count": 84,
     "metadata": {},
     "output_type": "execute_result"
    }
   ],
   "source": [
    "passing"
   ]
  }
 ],
 "metadata": {
  "kernelspec": {
   "display_name": "Python 3 (ipykernel)",
   "language": "python",
   "name": "python3"
  },
  "language_info": {
   "codemirror_mode": {
    "name": "ipython",
    "version": 3
   },
   "file_extension": ".py",
   "mimetype": "text/x-python",
   "name": "python",
   "nbconvert_exporter": "python",
   "pygments_lexer": "ipython3",
   "version": "3.9.7"
  }
 },
 "nbformat": 4,
 "nbformat_minor": 5
}
