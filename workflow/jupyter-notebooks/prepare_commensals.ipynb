{
 "cells": [
  {
   "cell_type": "code",
   "execution_count": 1,
   "id": "f7763c29-848a-4f04-b39f-52b07345a633",
   "metadata": {},
   "outputs": [],
   "source": [
    "import sys\n",
    "import pandas as pd\n",
    "import numpy as np"
   ]
  },
  {
   "cell_type": "code",
   "execution_count": 3,
   "id": "ca5113a5-faf8-43ef-be10-afe2f1b70fef",
   "metadata": {},
   "outputs": [],
   "source": [
    "# prepare commensals"
   ]
  },
  {
   "cell_type": "code",
   "execution_count": 98,
   "id": "3b025322-cb8d-4fd5-b6a0-c0ba405d3c4b",
   "metadata": {},
   "outputs": [],
   "source": [
    "t = pd.read_excel('../../data/Comm_424_data_def.xlsx')"
   ]
  },
  {
   "cell_type": "code",
   "execution_count": 99,
   "id": "cf034b72-4726-465d-94e9-032972012791",
   "metadata": {},
   "outputs": [
    {
     "data": {
      "text/html": [
       "<div>\n",
       "<style scoped>\n",
       "    .dataframe tbody tr th:only-of-type {\n",
       "        vertical-align: middle;\n",
       "    }\n",
       "\n",
       "    .dataframe tbody tr th {\n",
       "        vertical-align: top;\n",
       "    }\n",
       "\n",
       "    .dataframe thead th {\n",
       "        text-align: right;\n",
       "    }\n",
       "</style>\n",
       "<table border=\"1\" class=\"dataframe\">\n",
       "  <thead>\n",
       "    <tr style=\"text-align: right;\">\n",
       "      <th></th>\n",
       "      <th>Strain</th>\n",
       "      <th>Collection</th>\n",
       "      <th>Sampling date</th>\n",
       "      <th>Location</th>\n",
       "      <th>Socio-demography</th>\n",
       "      <th>ATB consomption</th>\n",
       "      <th>Sex (M or F)</th>\n",
       "      <th>Age</th>\n",
       "    </tr>\n",
       "  </thead>\n",
       "  <tbody>\n",
       "    <tr>\n",
       "      <th>421</th>\n",
       "      <td>170-IKSO-DOM</td>\n",
       "      <td>Ceremi</td>\n",
       "      <td>2017.0</td>\n",
       "      <td>Paris</td>\n",
       "      <td>Volunteers</td>\n",
       "      <td>No</td>\n",
       "      <td>M</td>\n",
       "      <td>24</td>\n",
       "    </tr>\n",
       "    <tr>\n",
       "      <th>422</th>\n",
       "      <td>113-WIGH-DOM</td>\n",
       "      <td>Ceremi</td>\n",
       "      <td>2017.0</td>\n",
       "      <td>Paris</td>\n",
       "      <td>Volunteers</td>\n",
       "      <td>No</td>\n",
       "      <td>F</td>\n",
       "      <td>55</td>\n",
       "    </tr>\n",
       "    <tr>\n",
       "      <th>423</th>\n",
       "      <td>880-SLHG-DOM</td>\n",
       "      <td>Ceremi</td>\n",
       "      <td>2017.0</td>\n",
       "      <td>Paris</td>\n",
       "      <td>Volunteers</td>\n",
       "      <td>No</td>\n",
       "      <td>F</td>\n",
       "      <td>24</td>\n",
       "    </tr>\n",
       "    <tr>\n",
       "      <th>424</th>\n",
       "      <td>NaN</td>\n",
       "      <td>NaN</td>\n",
       "      <td>NaN</td>\n",
       "      <td>NaN</td>\n",
       "      <td>NaN</td>\n",
       "      <td>NaN</td>\n",
       "      <td>NaN</td>\n",
       "      <td>NaN</td>\n",
       "    </tr>\n",
       "    <tr>\n",
       "      <th>425</th>\n",
       "      <td>* The individuals in the BIW and PF population...</td>\n",
       "      <td>NaN</td>\n",
       "      <td>NaN</td>\n",
       "      <td>NaN</td>\n",
       "      <td>NaN</td>\n",
       "      <td>NaN</td>\n",
       "      <td>NaN</td>\n",
       "      <td>NaN</td>\n",
       "    </tr>\n",
       "  </tbody>\n",
       "</table>\n",
       "</div>"
      ],
      "text/plain": [
       "                                                Strain Collection  \\\n",
       "421                                       170-IKSO-DOM     Ceremi   \n",
       "422                                       113-WIGH-DOM     Ceremi   \n",
       "423                                       880-SLHG-DOM     Ceremi   \n",
       "424                                                NaN        NaN   \n",
       "425  * The individuals in the BIW and PF population...        NaN   \n",
       "\n",
       "     Sampling date Location Socio-demography ATB consomption Sex (M or F)  Age  \n",
       "421         2017.0    Paris       Volunteers              No            M   24  \n",
       "422         2017.0    Paris       Volunteers              No            F   55  \n",
       "423         2017.0    Paris       Volunteers              No            F   24  \n",
       "424            NaN      NaN              NaN             NaN          NaN  NaN  \n",
       "425            NaN      NaN              NaN             NaN          NaN  NaN  "
      ]
     },
     "execution_count": 99,
     "metadata": {},
     "output_type": "execute_result"
    }
   ],
   "source": [
    "t.tail()"
   ]
  },
  {
   "cell_type": "code",
   "execution_count": 100,
   "id": "70e76891-179d-4606-aae2-588f7ea3d1b7",
   "metadata": {},
   "outputs": [],
   "source": [
    "# drop the last two rows\n",
    "t = t.drop(t.tail(2).index)\n",
    "\n",
    "# remove 53 strains from VDG collection\n",
    "t = t[t.Collection != 'VDG']\n",
    "\n",
    "# remove outlier: LBC22a\n",
    "t = t[t.Strain != 'LBC22a'].reset_index()\n",
    "\n",
    "# rename resequenced strain C001-021-c1 for 001-021-c2\n",
    "t['Strain'] = t['Strain'].str.replace('C001-021-c1', '001-021-c2')"
   ]
  },
  {
   "cell_type": "code",
   "execution_count": 101,
   "id": "e54d907b-ff98-4f52-9f8e-fd75fd8880e6",
   "metadata": {},
   "outputs": [],
   "source": [
    "del t['index']"
   ]
  },
  {
   "cell_type": "code",
   "execution_count": 102,
   "id": "e7807a15-dda6-41be-ae50-680a5354898a",
   "metadata": {},
   "outputs": [],
   "source": [
    "# rename columns\n",
    "t.rename(columns={'Sampling date':'date', 'Strain':'code_rangement', \n",
    "                  'Sex (M or F)':'sex', 'Age':'age'}, inplace=True)"
   ]
  },
  {
   "cell_type": "code",
   "execution_count": 103,
   "id": "9d8863f3-137b-4f67-9eda-388b41ac9dbf",
   "metadata": {
    "tags": []
   },
   "outputs": [
    {
     "data": {
      "text/plain": [
       "Collection  date  \n",
       "Ceremi      2017.0     20\n",
       "Coliville   2010.0    246\n",
       "LBC         2001.0     27\n",
       "PAR         2002.0     27\n",
       "ROAR        2000.0     50\n",
       "dtype: int64"
      ]
     },
     "execution_count": 103,
     "metadata": {},
     "output_type": "execute_result"
    }
   ],
   "source": [
    "# n comensals per collection\n",
    "t.groupby(['Collection', 'date']).size()"
   ]
  },
  {
   "cell_type": "code",
   "execution_count": 104,
   "id": "d9386ca0-7511-4117-ae1a-ba31eaa57670",
   "metadata": {},
   "outputs": [],
   "source": [
    "# Add column for commensal\n",
    "t['commensal'] = [1 if x == x\n",
    "                  else 1\n",
    "                  for x in t['Collection']]\n",
    "# reencode columns\n",
    "t['date_after2010'] = [1 if x == 2017.0\n",
    "                      else 1 if x == 2010.0\n",
    "                      else 0\n",
    "                      for x in t['date']]\n",
    "t['age_more60'] = [0 if x == \"18-50\"\n",
    "                    else 0 if x == \"20-60\"\n",
    "                    else 0 if x == \"18-22\"\n",
    "                    else 0 if x < 60\n",
    "                    else 1 if x > 60\n",
    "                    else np.nan\n",
    "                    for x in t['age'].values]\n",
    "t['female'] = [1 if x == 'F'\n",
    "              else 0 if x == 'M'\n",
    "              else np.nan\n",
    "              for x in t['sex']]\n",
    "t['location'] = [0 if x == 'Paris'\n",
    "                else 1 if x == 'Brittany'\n",
    "                else np.nan\n",
    "                for x in t['Location'].values]\n",
    "# Add column for pe_urinaire and pe_digestive\n",
    "t['pe_urinaire'] = [0 if x == x\n",
    "                  else 0\n",
    "                  for x in t['Collection']]\n",
    "t['pe_digestive'] = [0 if x == x\n",
    "                  else 0\n",
    "                  for x in t['Collection']]"
   ]
  },
  {
   "cell_type": "code",
   "execution_count": 105,
   "id": "e86364d0-6e50-459e-a08a-00ea9f79387f",
   "metadata": {},
   "outputs": [],
   "source": [
    "# drop reencoded columns\n",
    "t = t.drop(columns=['sex', 'age', 'Location', 'date'])"
   ]
  },
  {
   "cell_type": "code",
   "execution_count": 106,
   "id": "8bfc0019-aaaa-455c-83d9-5c72ace0f4b3",
   "metadata": {},
   "outputs": [],
   "source": [
    "# Reencode Collection columns\n",
    "t['ceremi'] = [1 if x == 'Ceremi'\n",
    "              else 0\n",
    "              for x in t['Collection'].values]\n",
    "t['coliville'] = [1 if x == 'Coliville'\n",
    "              else 0\n",
    "              for x in t['Collection'].values]\n",
    "t['LBC'] = [1 if x == 'Ceremi'\n",
    "              else 0\n",
    "              for x in t['Collection'].values]\n",
    "t['PAR'] = [1 if x == 'PAR'\n",
    "              else 0\n",
    "              for x in t['Collection'].values]\n",
    "t['ROAR'] = [1 if x == 'ROAR'\n",
    "              else 0\n",
    "              for x in t['Collection'].values]\n",
    "# Add columns for Septicoli and Colibafi collections of BSI isolates\n",
    "t['septicoli'] = [0 if x == x\n",
    "              else 0\n",
    "              for x in t['Collection'].values]\n",
    "t['colibafi'] = [0 if x == x\n",
    "              else 0\n",
    "              for x in t['Collection'].values]"
   ]
  },
  {
   "cell_type": "code",
   "execution_count": 107,
   "id": "f9aa1dc2-1e3c-4962-88d0-69b8d1be1a3d",
   "metadata": {
    "tags": []
   },
   "outputs": [],
   "source": [
    "# drop reencoded collection column and other columns\n",
    "# ATB consomtion: 343 No, 27 Unlikely\n",
    "# Socio-demography: we don't have the one from the BSI strains\n",
    "# location: we don't have it from the BSI strains\n",
    "t = t.drop(columns=['Socio-demography', 'ATB consomption', 'Collection', 'location'])"
   ]
  },
  {
   "cell_type": "code",
   "execution_count": 108,
   "id": "7fc8ba36-7885-47d6-8b1e-e541a55a741d",
   "metadata": {},
   "outputs": [
    {
     "data": {
      "text/html": [
       "<div>\n",
       "<style scoped>\n",
       "    .dataframe tbody tr th:only-of-type {\n",
       "        vertical-align: middle;\n",
       "    }\n",
       "\n",
       "    .dataframe tbody tr th {\n",
       "        vertical-align: top;\n",
       "    }\n",
       "\n",
       "    .dataframe thead th {\n",
       "        text-align: right;\n",
       "    }\n",
       "</style>\n",
       "<table border=\"1\" class=\"dataframe\">\n",
       "  <thead>\n",
       "    <tr style=\"text-align: right;\">\n",
       "      <th></th>\n",
       "      <th>code_rangement</th>\n",
       "      <th>commensal</th>\n",
       "      <th>date_after2010</th>\n",
       "      <th>age_more60</th>\n",
       "      <th>female</th>\n",
       "      <th>pe_urinaire</th>\n",
       "      <th>pe_digestive</th>\n",
       "      <th>ceremi</th>\n",
       "      <th>coliville</th>\n",
       "      <th>LBC</th>\n",
       "      <th>PAR</th>\n",
       "      <th>ROAR</th>\n",
       "      <th>septicoli</th>\n",
       "      <th>colibafi</th>\n",
       "    </tr>\n",
       "  </thead>\n",
       "  <tbody>\n",
       "    <tr>\n",
       "      <th>0</th>\n",
       "      <td>C001-001-P1</td>\n",
       "      <td>1</td>\n",
       "      <td>1</td>\n",
       "      <td>0.0</td>\n",
       "      <td>0.0</td>\n",
       "      <td>0</td>\n",
       "      <td>0</td>\n",
       "      <td>0</td>\n",
       "      <td>1</td>\n",
       "      <td>0</td>\n",
       "      <td>0</td>\n",
       "      <td>0</td>\n",
       "      <td>0</td>\n",
       "      <td>0</td>\n",
       "    </tr>\n",
       "    <tr>\n",
       "      <th>1</th>\n",
       "      <td>C001-001-P2</td>\n",
       "      <td>1</td>\n",
       "      <td>1</td>\n",
       "      <td>NaN</td>\n",
       "      <td>0.0</td>\n",
       "      <td>0</td>\n",
       "      <td>0</td>\n",
       "      <td>0</td>\n",
       "      <td>1</td>\n",
       "      <td>0</td>\n",
       "      <td>0</td>\n",
       "      <td>0</td>\n",
       "      <td>0</td>\n",
       "      <td>0</td>\n",
       "    </tr>\n",
       "    <tr>\n",
       "      <th>2</th>\n",
       "      <td>C001-002</td>\n",
       "      <td>1</td>\n",
       "      <td>1</td>\n",
       "      <td>0.0</td>\n",
       "      <td>1.0</td>\n",
       "      <td>0</td>\n",
       "      <td>0</td>\n",
       "      <td>0</td>\n",
       "      <td>1</td>\n",
       "      <td>0</td>\n",
       "      <td>0</td>\n",
       "      <td>0</td>\n",
       "      <td>0</td>\n",
       "      <td>0</td>\n",
       "    </tr>\n",
       "    <tr>\n",
       "      <th>3</th>\n",
       "      <td>C001-003-cb</td>\n",
       "      <td>1</td>\n",
       "      <td>1</td>\n",
       "      <td>1.0</td>\n",
       "      <td>0.0</td>\n",
       "      <td>0</td>\n",
       "      <td>0</td>\n",
       "      <td>0</td>\n",
       "      <td>1</td>\n",
       "      <td>0</td>\n",
       "      <td>0</td>\n",
       "      <td>0</td>\n",
       "      <td>0</td>\n",
       "      <td>0</td>\n",
       "    </tr>\n",
       "    <tr>\n",
       "      <th>4</th>\n",
       "      <td>C001-004-ccl</td>\n",
       "      <td>1</td>\n",
       "      <td>1</td>\n",
       "      <td>0.0</td>\n",
       "      <td>0.0</td>\n",
       "      <td>0</td>\n",
       "      <td>0</td>\n",
       "      <td>0</td>\n",
       "      <td>1</td>\n",
       "      <td>0</td>\n",
       "      <td>0</td>\n",
       "      <td>0</td>\n",
       "      <td>0</td>\n",
       "      <td>0</td>\n",
       "    </tr>\n",
       "  </tbody>\n",
       "</table>\n",
       "</div>"
      ],
      "text/plain": [
       "  code_rangement  commensal  date_after2010  age_more60  female  pe_urinaire  \\\n",
       "0    C001-001-P1          1               1         0.0     0.0            0   \n",
       "1    C001-001-P2          1               1         NaN     0.0            0   \n",
       "2       C001-002          1               1         0.0     1.0            0   \n",
       "3    C001-003-cb          1               1         1.0     0.0            0   \n",
       "4   C001-004-ccl          1               1         0.0     0.0            0   \n",
       "\n",
       "   pe_digestive  ceremi  coliville  LBC  PAR  ROAR  septicoli  colibafi  \n",
       "0             0       0          1    0    0     0          0         0  \n",
       "1             0       0          1    0    0     0          0         0  \n",
       "2             0       0          1    0    0     0          0         0  \n",
       "3             0       0          1    0    0     0          0         0  \n",
       "4             0       0          1    0    0     0          0         0  "
      ]
     },
     "execution_count": 108,
     "metadata": {},
     "output_type": "execute_result"
    }
   ],
   "source": [
    "t.head()"
   ]
  },
  {
   "cell_type": "code",
   "execution_count": 110,
   "id": "282b5b94-0825-4156-873a-1507051c3409",
   "metadata": {},
   "outputs": [],
   "source": [
    "# save commensal reencoded dataset\n",
    "t.to_csv('../../data/commensal_reencoded.csv', index=False, sep='\\t')"
   ]
  },
  {
   "cell_type": "code",
   "execution_count": 2,
   "id": "5ba4fd2c-27bb-4bcd-89e7-7fef019a2f3e",
   "metadata": {},
   "outputs": [],
   "source": [
    "p = pd.read_csv('../../data/phenotype.tsv', sep='\\t')"
   ]
  },
  {
   "cell_type": "code",
   "execution_count": 4,
   "id": "960a90a8-900b-423b-b28f-dfaff2a08725",
   "metadata": {},
   "outputs": [],
   "source": [
    "pp = p[p.commensal == 1]"
   ]
  },
  {
   "cell_type": "code",
   "execution_count": 7,
   "id": "715bf145-916e-456f-81c6-ab7aa0c8f8d2",
   "metadata": {},
   "outputs": [],
   "source": [
    "pp = pp[['code_rangement', 'commensal', 'phylogroup']]"
   ]
  },
  {
   "cell_type": "code",
   "execution_count": 10,
   "id": "6fc7acbb-c82b-4113-a2e5-673116dbcf68",
   "metadata": {},
   "outputs": [],
   "source": [
    "pp.to_csv('../../data/commensal_temporal.csv', index=False, sep='\\t')"
   ]
  },
  {
   "cell_type": "markdown",
   "id": "ac626462-237b-48cc-b3b5-dda3363ca322",
   "metadata": {},
   "source": [
    "_________"
   ]
  },
  {
   "cell_type": "code",
   "execution_count": 4,
   "id": "9ae76131-69ac-463d-b90f-4678e432a82d",
   "metadata": {},
   "outputs": [],
   "source": [
    "# prepare full dataset"
   ]
  },
  {
   "cell_type": "code",
   "execution_count": null,
   "id": "4560fc40-6fc1-456a-a0fd-2f49e8084296",
   "metadata": {},
   "outputs": [],
   "source": [
    "c = pd.read_csv('../../data/clinical_full.tsv', sep='\\t')\n",
    "r = pd.read_csv('../../data/commensal_reencoded.csv', sep='\\t')"
   ]
  },
  {
   "cell_type": "code",
   "execution_count": null,
   "id": "01a9cd83-44f0-44c5-a224-460b9148b68b",
   "metadata": {},
   "outputs": [],
   "source": [
    "c = c[['code_rangement', 'age', 'septicoli', 'female', 'pe_digestive', 'pe_urinaire']]"
   ]
  },
  {
   "cell_type": "code",
   "execution_count": null,
   "id": "384444f9-90ef-49d6-b2ce-46cac3c51699",
   "metadata": {},
   "outputs": [],
   "source": [
    "# Add commensal column\n",
    "c['commensal'] = [0 if x == 1\n",
    "                 else 0\n",
    "                 for x in c['code_rangement']]\n",
    "# Add colibafi column\n",
    "c['colibafi'] = [1 if x == 0\n",
    "                else 0\n",
    "                for x in c['septicoli']]\n",
    "# Reencode columns\n",
    "c['age_more60'] = [0 if x < 60\n",
    "                    else 1 if x > 60\n",
    "                    else np.nan\n",
    "                    for x in c['age'].values]\n",
    "# Add date column\n",
    "# colibafi = 2005\n",
    "# septicoli = 2016-2017\n",
    "c['date_after2010'] = [1 if x == 1\n",
    "                      else 0 if x == 0\n",
    "                      else np.nan\n",
    "                      for x in c['septicoli']]"
   ]
  },
  {
   "cell_type": "code",
   "execution_count": null,
   "id": "8b55727b-b56a-4f0e-8510-cc9b22869170",
   "metadata": {},
   "outputs": [],
   "source": [
    "# drop reencoded columns\n",
    "c = c.drop(columns=['age'])"
   ]
  },
  {
   "cell_type": "code",
   "execution_count": null,
   "id": "422a4f82-d9d3-4f20-83e4-c6c8db4b56eb",
   "metadata": {},
   "outputs": [],
   "source": [
    "# add other collections column\n",
    "c['ceremi'] = [0 if x == x\n",
    "               else 0\n",
    "               for x in c['septicoli'].values]\n",
    "c['coliville'] = [0 if x == x\n",
    "                  else 0\n",
    "                  for x in c['septicoli'].values]\n",
    "c['LBC'] = [0 if x == x\n",
    "            else 0\n",
    "            for x in c['septicoli'].values]\n",
    "c['PAR'] = [0 if x == x\n",
    "            else 0\n",
    "            for x in c['septicoli'].values]\n",
    "c['ROAR'] = [0 if x == x\n",
    "             else 0\n",
    "             for x in c['septicoli'].values]"
   ]
  },
  {
   "cell_type": "code",
   "execution_count": null,
   "id": "9a00a2ea-fd82-4da0-8275-bfb4707b5244",
   "metadata": {},
   "outputs": [],
   "source": [
    "# reorder as commensal dataset\n",
    "c = c[['code_rangement', 'commensal', 'date_after2010', 'age_more60', 'female',\n",
    "       'pe_urinaire', 'pe_digestive', 'ceremi', 'coliville', 'LBC', 'PAR', 'ROAR',\n",
    "       'septicoli', 'colibafi']]"
   ]
  },
  {
   "cell_type": "code",
   "execution_count": null,
   "id": "29814a6b-a188-4fef-9bef-fbad3662aa07",
   "metadata": {},
   "outputs": [],
   "source": [
    "r"
   ]
  },
  {
   "cell_type": "code",
   "execution_count": null,
   "id": "7dd1f32d-2fd1-4d79-9fad-83709a91432b",
   "metadata": {},
   "outputs": [],
   "source": [
    "# merge both datasets into full set\n",
    "f = pd.concat([c,r], axis=0, ignore_index=True)"
   ]
  },
  {
   "cell_type": "code",
   "execution_count": null,
   "id": "3ab99b0b-2929-4929-858f-34b5b58c10d3",
   "metadata": {},
   "outputs": [],
   "source": [
    "f.groupby('commensal').size()"
   ]
  },
  {
   "cell_type": "code",
   "execution_count": null,
   "id": "d989dc22-abf7-4212-8c78-c986134d6738",
   "metadata": {},
   "outputs": [],
   "source": [
    "f"
   ]
  },
  {
   "cell_type": "code",
   "execution_count": null,
   "id": "3f262420-4e30-40c7-978b-62ef328b3795",
   "metadata": {},
   "outputs": [],
   "source": [
    "# save clinical reencoded and full dataset\n",
    "c.to_csv('../../data/clinical_reencoded.csv', index=False, sep='\\t')\n",
    "f.to_csv('../../data/full_reencoded.csv', index=False, sep='\\t')"
   ]
  },
  {
   "cell_type": "markdown",
   "id": "f103a1ca-b7a8-4dc4-984c-58d3a41d5f19",
   "metadata": {},
   "source": [
    "_________"
   ]
  },
  {
   "cell_type": "code",
   "execution_count": null,
   "id": "7e5da3d5-ed01-470a-a8c1-e8b38460da42",
   "metadata": {},
   "outputs": [],
   "source": [
    "# prepare subsets with portal of entry as urinary tract or digestive tract"
   ]
  },
  {
   "cell_type": "code",
   "execution_count": null,
   "id": "6dc39cec-b61c-49a1-a187-9ed1c8ef970b",
   "metadata": {},
   "outputs": [],
   "source": [
    "# load imputed data\n",
    "i = pd.read_csv('../../data/full_imputed.csv', sep='\\t')"
   ]
  },
  {
   "cell_type": "code",
   "execution_count": null,
   "id": "344ea3fa-d6dd-4302-bf3e-82628b97098e",
   "metadata": {},
   "outputs": [],
   "source": [
    "i.head()"
   ]
  },
  {
   "cell_type": "code",
   "execution_count": null,
   "id": "508ce438-cb95-406b-81f2-e7899e7244b1",
   "metadata": {},
   "outputs": [],
   "source": [
    "# get commensals\n",
    "c = i[i.commensal == 1]\n",
    "# get pe_urinaire and pe_digestive\n",
    "peu = i[i.pe_urinaire == 1]\n",
    "ped = i[i.pe_digestive == 1]"
   ]
  },
  {
   "cell_type": "code",
   "execution_count": null,
   "id": "d70f8491-f09c-4b13-bf51-37e5aac5f59b",
   "metadata": {},
   "outputs": [],
   "source": [
    "# get full peu_commensals and ped_commensals datasets\n",
    "cu = pd.concat([c,peu], axis=0, ignore_index=True)\n",
    "cd = pd.concat([c,ped], axis=0, ignore_index=True)"
   ]
  },
  {
   "cell_type": "code",
   "execution_count": null,
   "id": "2e57b93a-9014-46be-9eb5-87a352000f57",
   "metadata": {},
   "outputs": [],
   "source": [
    "# save imputed dataframes of pe_digestive and pe_urinaire\n",
    "cu.to_csv('../../data/pe_urinaire_imputed.csv', index=False, sep='\\t')\n",
    "cd.to_csv('../../data/pe_digestive_imputed.csv', index=False, sep='\\t')"
   ]
  }
 ],
 "metadata": {
  "kernelspec": {
   "display_name": "Python 3 (ipykernel)",
   "language": "python",
   "name": "python3"
  },
  "language_info": {
   "codemirror_mode": {
    "name": "ipython",
    "version": 3
   },
   "file_extension": ".py",
   "mimetype": "text/x-python",
   "name": "python",
   "nbconvert_exporter": "python",
   "pygments_lexer": "ipython3",
   "version": "3.9.7"
  }
 },
 "nbformat": 4,
 "nbformat_minor": 5
}
