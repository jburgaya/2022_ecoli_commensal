{
 "cells": [
  {
   "cell_type": "code",
   "execution_count": 33,
   "id": "716f123a-4044-406e-89bd-88688a901e3c",
   "metadata": {},
   "outputs": [],
   "source": [
    "import pandas as pd\n",
    "import numpy as np\n",
    "import matplotlib.pyplot as plt\n",
    "import matplotlib.patches as mpatches\n",
    "import seaborn as sns\n",
    "\n",
    "sns.set_style('ticks', rc={\"axes.facecolor\": (0, 0, 0, 0)})\n",
    "sns.set_context('talk')\n",
    "\n",
    "from matplotlib import rcParams\n",
    "rcParams['font.family'] = 'sans-serif'\n",
    "rcParams['font.sans-serif'] = ['Arial']"
   ]
  },
  {
   "cell_type": "code",
   "execution_count": 34,
   "id": "b871bb50-60e7-4258-8863-9fd200a44dc9",
   "metadata": {},
   "outputs": [],
   "source": [
    "t = pd.DataFrame(data={'1980':[41, 12], '2000':[72,32], '2010': [144, 122]},\n",
    "                index=['commensal', 'BSI'])"
   ]
  },
  {
   "cell_type": "code",
   "execution_count": 35,
   "id": "a699021e-e180-4cae-bc4a-171526cb9910",
   "metadata": {},
   "outputs": [
    {
     "data": {
      "text/html": [
       "<div>\n",
       "<style scoped>\n",
       "    .dataframe tbody tr th:only-of-type {\n",
       "        vertical-align: middle;\n",
       "    }\n",
       "\n",
       "    .dataframe tbody tr th {\n",
       "        vertical-align: top;\n",
       "    }\n",
       "\n",
       "    .dataframe thead th {\n",
       "        text-align: right;\n",
       "    }\n",
       "</style>\n",
       "<table border=\"1\" class=\"dataframe\">\n",
       "  <thead>\n",
       "    <tr style=\"text-align: right;\">\n",
       "      <th></th>\n",
       "      <th>1980</th>\n",
       "      <th>2000</th>\n",
       "      <th>2010</th>\n",
       "    </tr>\n",
       "  </thead>\n",
       "  <tbody>\n",
       "    <tr>\n",
       "      <th>commensal</th>\n",
       "      <td>41</td>\n",
       "      <td>72</td>\n",
       "      <td>144</td>\n",
       "    </tr>\n",
       "    <tr>\n",
       "      <th>BSI</th>\n",
       "      <td>12</td>\n",
       "      <td>32</td>\n",
       "      <td>122</td>\n",
       "    </tr>\n",
       "  </tbody>\n",
       "</table>\n",
       "</div>"
      ],
      "text/plain": [
       "           1980  2000  2010\n",
       "commensal    41    72   144\n",
       "BSI          12    32   122"
      ]
     },
     "execution_count": 35,
     "metadata": {},
     "output_type": "execute_result"
    }
   ],
   "source": [
    "t"
   ]
  },
  {
   "cell_type": "code",
   "execution_count": 36,
   "id": "536b5ba8-d17a-478c-bd01-ac42a02b5263",
   "metadata": {},
   "outputs": [],
   "source": [
    "t = pd.DataFrame(data={'year':[1980, 2000, 2010, 1980, 2000, 2010],\n",
    "                       'value': [41, 72, 144, 12, 32, 122],\n",
    "                       'prediction': ['commensal', 'commensal', 'commensal',\n",
    "                                     'BSI', 'BSI', 'BSI']})"
   ]
  },
  {
   "cell_type": "code",
   "execution_count": 37,
   "id": "e03579bb-c310-437b-b849-1109750346ba",
   "metadata": {},
   "outputs": [
    {
     "data": {
      "text/html": [
       "<div>\n",
       "<style scoped>\n",
       "    .dataframe tbody tr th:only-of-type {\n",
       "        vertical-align: middle;\n",
       "    }\n",
       "\n",
       "    .dataframe tbody tr th {\n",
       "        vertical-align: top;\n",
       "    }\n",
       "\n",
       "    .dataframe thead th {\n",
       "        text-align: right;\n",
       "    }\n",
       "</style>\n",
       "<table border=\"1\" class=\"dataframe\">\n",
       "  <thead>\n",
       "    <tr style=\"text-align: right;\">\n",
       "      <th></th>\n",
       "      <th>year</th>\n",
       "      <th>value</th>\n",
       "      <th>prediction</th>\n",
       "    </tr>\n",
       "  </thead>\n",
       "  <tbody>\n",
       "    <tr>\n",
       "      <th>0</th>\n",
       "      <td>1980</td>\n",
       "      <td>41</td>\n",
       "      <td>commensal</td>\n",
       "    </tr>\n",
       "    <tr>\n",
       "      <th>1</th>\n",
       "      <td>2000</td>\n",
       "      <td>72</td>\n",
       "      <td>commensal</td>\n",
       "    </tr>\n",
       "    <tr>\n",
       "      <th>2</th>\n",
       "      <td>2010</td>\n",
       "      <td>144</td>\n",
       "      <td>commensal</td>\n",
       "    </tr>\n",
       "    <tr>\n",
       "      <th>3</th>\n",
       "      <td>1980</td>\n",
       "      <td>12</td>\n",
       "      <td>BSI</td>\n",
       "    </tr>\n",
       "    <tr>\n",
       "      <th>4</th>\n",
       "      <td>2000</td>\n",
       "      <td>32</td>\n",
       "      <td>BSI</td>\n",
       "    </tr>\n",
       "    <tr>\n",
       "      <th>5</th>\n",
       "      <td>2010</td>\n",
       "      <td>122</td>\n",
       "      <td>BSI</td>\n",
       "    </tr>\n",
       "  </tbody>\n",
       "</table>\n",
       "</div>"
      ],
      "text/plain": [
       "   year  value prediction\n",
       "0  1980     41  commensal\n",
       "1  2000     72  commensal\n",
       "2  2010    144  commensal\n",
       "3  1980     12        BSI\n",
       "4  2000     32        BSI\n",
       "5  2010    122        BSI"
      ]
     },
     "execution_count": 37,
     "metadata": {},
     "output_type": "execute_result"
    }
   ],
   "source": [
    "t"
   ]
  },
  {
   "cell_type": "code",
   "execution_count": 110,
   "id": "332e39a5-1021-400a-9576-4d50bcee3e3d",
   "metadata": {},
   "outputs": [
    {
     "data": {
      "image/png": "[encoded data removed]",
      "text/plain": [
       "<Figure size 432x288 with 1 Axes>"
      ]
     },
     "metadata": {},
     "output_type": "display_data"
    }
   ],
   "source": [
    "fig, ax = plt.subplots()\n",
    "\n",
    "# top bar -> sum all values to find y position\n",
    "total = t.groupby('year')['value'].sum().reset_index()\n",
    "# create bar 1\n",
    "bar1 = sns.barplot(x = \"year\",  y = \"value\", data = total, \n",
    "                   color = '#7fc97f')\n",
    "# create bar 2\n",
    "bsi = t[t.prediction == 'BSI']\n",
    "bar2 = sns.barplot(x = \"year\", y = \"value\", data=bsi, \n",
    "                   color='xkcd:coral')\n",
    "# add legend\n",
    "top_bar = mpatches.Patch(color='#7fc97f', label='commensal')\n",
    "bottom_bar = mpatches.Patch(color='xkcd:coral', label='bsi')\n",
    "legend = plt.legend(handles=[top_bar, bottom_bar])\n",
    "legend.get_frame().set_alpha(None)\n",
    "legend.get_frame().set_facecolor((0, 0, 0, 0))\n",
    "\n",
    "\n",
    "plt.xlabel('')\n",
    "plt.ylabel('# isolates')\n",
    "\n",
    "ax.set_xticklabels(['1980\\n(n=53)', \n",
    "                          '2000\\n(n=104)',\n",
    "                          '2010\\n(n=266)'])\n",
    "ax.set_ylim(0,299)\n",
    "\n",
    "plt.text(0.2, 75, \"23 %\", size=14,\n",
    "         ha=\"right\", va=\"top\")\n",
    "plt.text(0.9, 130, \"31 %\", size=14,\n",
    "         ha=\"left\", va=\"top\")\n",
    "plt.text(1.9, 290, \"46 %\", size=14,\n",
    "         ha=\"left\", va=\"top\")\n",
    "\n",
    "plt.savefig('../out/figures/predictions.png',\n",
    "            dpi=300,\n",
    "            bbox_inches='tight',\n",
    "            transparent=True)\n",
    "plt.savefig('../out/figures/predictions.svg',\n",
    "            dpi=300, bbox_inches='tight',\n",
    "            transparent=True);"
   ]
  }
 ],
 "metadata": {
  "kernelspec": {
   "display_name": "Python 3 (ipykernel)",
   "language": "python",
   "name": "python3"
  },
  "language_info": {
   "codemirror_mode": {
    "name": "ipython",
    "version": 3
   },
   "file_extension": ".py",
   "mimetype": "text/x-python",
   "name": "python",
   "nbconvert_exporter": "python",
   "pygments_lexer": "ipython3",
   "version": "3.9.7"
  }
 },
 "nbformat": 4,
 "nbformat_minor": 5
}
