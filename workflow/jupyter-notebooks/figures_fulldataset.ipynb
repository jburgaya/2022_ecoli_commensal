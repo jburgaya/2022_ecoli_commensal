{
 "cells": [
  {
   "cell_type": "code",
   "execution_count": 51,
   "id": "7fa6e2cb-4553-48ea-b453-9f24b0ec74e7",
   "metadata": {},
   "outputs": [],
   "source": [
    "import pandas as pd\n",
    "import numpy as np\n",
    "import matplotlib.pyplot as plt\n",
    "import seaborn as sns\n",
    "\n",
    "sns.set_style('ticks', rc={\"axes.facecolor\": (0, 0, 0, 0)})\n",
    "sns.set_context('talk')\n",
    "\n",
    "from matplotlib import rcParams\n",
    "rcParams['font.family'] = 'sans-serif'\n",
    "rcParams['font.sans-serif'] = ['Arial']"
   ]
  },
  {
   "cell_type": "code",
   "execution_count": 52,
   "id": "1bbf06ec-2aa1-4353-8800-952b7c5e2048",
   "metadata": {},
   "outputs": [],
   "source": [
    "# to substitute by the imputed data\n",
    "f = pd.read_csv('../../data/full_reencoded.csv', sep='\\t', index_col=0)"
   ]
  },
  {
   "cell_type": "code",
   "execution_count": 53,
   "id": "1cc27807-ac26-45bc-8eb4-14905bf79e72",
   "metadata": {},
   "outputs": [
    {
     "data": {
      "text/plain": [
       "(1282, 13)"
      ]
     },
     "execution_count": 53,
     "metadata": {},
     "output_type": "execute_result"
    }
   ],
   "source": [
    "f.shape"
   ]
  },
  {
   "cell_type": "code",
   "execution_count": 54,
   "id": "ac63db2b-bd36-4f0f-b4a6-c6cf83dedf79",
   "metadata": {},
   "outputs": [
    {
     "data": {
      "text/plain": [
       "commensal\n",
       "0    912\n",
       "1    370\n",
       "dtype: int64"
      ]
     },
     "execution_count": 54,
     "metadata": {},
     "output_type": "execute_result"
    }
   ],
   "source": [
    "f.groupby('commensal').size()"
   ]
  },
  {
   "cell_type": "code",
   "execution_count": 55,
   "id": "d330759b-f5f8-42a9-8c9e-25a5f7ac17a5",
   "metadata": {},
   "outputs": [
    {
     "data": {
      "text/html": [
       "<div>\n",
       "<style scoped>\n",
       "    .dataframe tbody tr th:only-of-type {\n",
       "        vertical-align: middle;\n",
       "    }\n",
       "\n",
       "    .dataframe tbody tr th {\n",
       "        vertical-align: top;\n",
       "    }\n",
       "\n",
       "    .dataframe thead th {\n",
       "        text-align: right;\n",
       "    }\n",
       "</style>\n",
       "<table border=\"1\" class=\"dataframe\">\n",
       "  <thead>\n",
       "    <tr style=\"text-align: right;\">\n",
       "      <th></th>\n",
       "      <th>commensal</th>\n",
       "      <th>date_after2010</th>\n",
       "      <th>age_more60</th>\n",
       "      <th>female</th>\n",
       "      <th>pe_urinaire</th>\n",
       "      <th>pe_digestive</th>\n",
       "      <th>ceremi</th>\n",
       "      <th>coliville</th>\n",
       "      <th>LBC</th>\n",
       "      <th>PAR</th>\n",
       "      <th>ROAR</th>\n",
       "      <th>septicoli</th>\n",
       "      <th>colibafi</th>\n",
       "    </tr>\n",
       "    <tr>\n",
       "      <th>code_rangement</th>\n",
       "      <th></th>\n",
       "      <th></th>\n",
       "      <th></th>\n",
       "      <th></th>\n",
       "      <th></th>\n",
       "      <th></th>\n",
       "      <th></th>\n",
       "      <th></th>\n",
       "      <th></th>\n",
       "      <th></th>\n",
       "      <th></th>\n",
       "      <th></th>\n",
       "      <th></th>\n",
       "    </tr>\n",
       "  </thead>\n",
       "  <tbody>\n",
       "    <tr>\n",
       "      <th>H1-001-0001-M-L</th>\n",
       "      <td>0</td>\n",
       "      <td>1</td>\n",
       "      <td>1.0</td>\n",
       "      <td>1.0</td>\n",
       "      <td>0.0</td>\n",
       "      <td>0.0</td>\n",
       "      <td>0</td>\n",
       "      <td>0</td>\n",
       "      <td>0</td>\n",
       "      <td>0</td>\n",
       "      <td>0</td>\n",
       "      <td>1</td>\n",
       "      <td>0</td>\n",
       "    </tr>\n",
       "    <tr>\n",
       "      <th>H1-001-0002-H-K</th>\n",
       "      <td>0</td>\n",
       "      <td>1</td>\n",
       "      <td>1.0</td>\n",
       "      <td>0.0</td>\n",
       "      <td>0.0</td>\n",
       "      <td>1.0</td>\n",
       "      <td>0</td>\n",
       "      <td>0</td>\n",
       "      <td>0</td>\n",
       "      <td>0</td>\n",
       "      <td>0</td>\n",
       "      <td>1</td>\n",
       "      <td>0</td>\n",
       "    </tr>\n",
       "  </tbody>\n",
       "</table>\n",
       "</div>"
      ],
      "text/plain": [
       "                 commensal  date_after2010  age_more60  female  pe_urinaire  \\\n",
       "code_rangement                                                                \n",
       "H1-001-0001-M-L          0               1         1.0     1.0          0.0   \n",
       "H1-001-0002-H-K          0               1         1.0     0.0          0.0   \n",
       "\n",
       "                 pe_digestive  ceremi  coliville  LBC  PAR  ROAR  septicoli  \\\n",
       "code_rangement                                                                \n",
       "H1-001-0001-M-L           0.0       0          0    0    0     0          1   \n",
       "H1-001-0002-H-K           1.0       0          0    0    0     0          1   \n",
       "\n",
       "                 colibafi  \n",
       "code_rangement             \n",
       "H1-001-0001-M-L         0  \n",
       "H1-001-0002-H-K         0  "
      ]
     },
     "execution_count": 55,
     "metadata": {},
     "output_type": "execute_result"
    }
   ],
   "source": [
    "f.head(2)"
   ]
  },
  {
   "cell_type": "code",
   "execution_count": 56,
   "id": "49fbab38-efa8-47c9-a008-354c9e0ba21b",
   "metadata": {},
   "outputs": [],
   "source": [
    "phenotypes = ['commensal', 'female', 'pe_urinaire', 'pe_digestive', 'age_more60', 'date_after2010']"
   ]
  },
  {
   "cell_type": "code",
   "execution_count": 57,
   "id": "b6f758a4-cc9b-4805-b459-1aab465b6d08",
   "metadata": {},
   "outputs": [],
   "source": [
    "dpheno = {'commensal': 'Commensal isolate',\n",
    "         'female': 'Female donor',\n",
    "         'pe_urinaire': 'Clinical isolate with urinary tract as portal of entry',\n",
    "         'pe_digestive': 'Clinical isolate with digestive tract as portal of entry',\n",
    "         'age_more60': 'More than 60y donor',\n",
    "         'date_after2010': 'Collected after 2010'}"
   ]
  },
  {
   "cell_type": "code",
   "execution_count": 58,
   "id": "b8e7e601-1d6a-4344-aa29-cf25946d7c28",
   "metadata": {},
   "outputs": [],
   "source": [
    "res = []\n",
    "for p in phenotypes:\n",
    "    res.append((dpheno[p],\n",
    "               f[f[p] == 1].shape[0], f[f[p] == 0].shape[0]))\n",
    "r = pd.DataFrame(res,\n",
    "                columns=['phenotype', 'present', 'absent'])"
   ]
  },
  {
   "cell_type": "code",
   "execution_count": 59,
   "id": "aaff9e46-0752-470f-a655-9a4abbe72567",
   "metadata": {},
   "outputs": [],
   "source": [
    "r['prevalence'] = r['present'] / (r['present'] + r['absent'])"
   ]
  },
  {
   "cell_type": "code",
   "execution_count": 60,
   "id": "09628df1-5182-42ce-82d8-4389ec5b316e",
   "metadata": {},
   "outputs": [
    {
     "data": {
      "text/html": [
       "<div>\n",
       "<style scoped>\n",
       "    .dataframe tbody tr th:only-of-type {\n",
       "        vertical-align: middle;\n",
       "    }\n",
       "\n",
       "    .dataframe tbody tr th {\n",
       "        vertical-align: top;\n",
       "    }\n",
       "\n",
       "    .dataframe thead th {\n",
       "        text-align: right;\n",
       "    }\n",
       "</style>\n",
       "<table border=\"1\" class=\"dataframe\">\n",
       "  <thead>\n",
       "    <tr style=\"text-align: right;\">\n",
       "      <th></th>\n",
       "      <th>phenotype</th>\n",
       "      <th>present</th>\n",
       "      <th>absent</th>\n",
       "      <th>prevalence</th>\n",
       "    </tr>\n",
       "  </thead>\n",
       "  <tbody>\n",
       "    <tr>\n",
       "      <th>0</th>\n",
       "      <td>Commensal isolate</td>\n",
       "      <td>370</td>\n",
       "      <td>912</td>\n",
       "      <td>0.288612</td>\n",
       "    </tr>\n",
       "    <tr>\n",
       "      <th>1</th>\n",
       "      <td>Female donor</td>\n",
       "      <td>649</td>\n",
       "      <td>573</td>\n",
       "      <td>0.531097</td>\n",
       "    </tr>\n",
       "    <tr>\n",
       "      <th>2</th>\n",
       "      <td>Clinical isolate with urinary tract as portal ...</td>\n",
       "      <td>499</td>\n",
       "      <td>729</td>\n",
       "      <td>0.406352</td>\n",
       "    </tr>\n",
       "    <tr>\n",
       "      <th>3</th>\n",
       "      <td>Clinical isolate with digestive tract as porta...</td>\n",
       "      <td>310</td>\n",
       "      <td>895</td>\n",
       "      <td>0.257261</td>\n",
       "    </tr>\n",
       "    <tr>\n",
       "      <th>4</th>\n",
       "      <td>More than 60y donor</td>\n",
       "      <td>712</td>\n",
       "      <td>543</td>\n",
       "      <td>0.567331</td>\n",
       "    </tr>\n",
       "    <tr>\n",
       "      <th>5</th>\n",
       "      <td>Collected after 2010</td>\n",
       "      <td>811</td>\n",
       "      <td>471</td>\n",
       "      <td>0.632605</td>\n",
       "    </tr>\n",
       "  </tbody>\n",
       "</table>\n",
       "</div>"
      ],
      "text/plain": [
       "                                           phenotype  present  absent  \\\n",
       "0                                  Commensal isolate      370     912   \n",
       "1                                       Female donor      649     573   \n",
       "2  Clinical isolate with urinary tract as portal ...      499     729   \n",
       "3  Clinical isolate with digestive tract as porta...      310     895   \n",
       "4                                More than 60y donor      712     543   \n",
       "5                               Collected after 2010      811     471   \n",
       "\n",
       "   prevalence  \n",
       "0    0.288612  \n",
       "1    0.531097  \n",
       "2    0.406352  \n",
       "3    0.257261  \n",
       "4    0.567331  \n",
       "5    0.632605  "
      ]
     },
     "execution_count": 60,
     "metadata": {},
     "output_type": "execute_result"
    }
   ],
   "source": [
    "r"
   ]
  },
  {
   "cell_type": "code",
   "execution_count": 61,
   "id": "d6910dc1-83ad-403b-a560-39263877c471",
   "metadata": {},
   "outputs": [],
   "source": [
    "r = r.melt(id_vars='phenotype')"
   ]
  },
  {
   "cell_type": "code",
   "execution_count": 62,
   "id": "dc82daa1-721e-42a7-8317-2ba10094812b",
   "metadata": {},
   "outputs": [],
   "source": [
    "r = r[r['variable'] == 'prevalence']"
   ]
  },
  {
   "cell_type": "code",
   "execution_count": 63,
   "id": "5adf1ece-af71-4ba8-8071-b535ca86c6ca",
   "metadata": {},
   "outputs": [
    {
     "data": {
      "image/png": "[encoded data removed]",
      "text/plain": [
       "<Figure size 720x504 with 1 Axes>"
      ]
     },
     "metadata": {},
     "output_type": "display_data"
    }
   ],
   "source": [
    "plt.figure(figsize=(10, 7))\n",
    "\n",
    "sns.barplot(data=r,\n",
    "            y='phenotype',\n",
    "            x='value',\n",
    "            palette=['#840000', '#fc5a50', 'xkcd:coffee',\n",
    "                     '#1fa774', '#464196', '#929591'])\n",
    "\n",
    "plt.xlabel('Proportion within the full dataset')\n",
    "plt.ylabel('')\n",
    "\n",
    "plt.savefig('../../out/figures/phenotypes.png',\n",
    "            dpi=300,\n",
    "            bbox_inches='tight',\n",
    "            transparent=True)\n",
    "plt.savefig('../../out/figures/phenotypes.svg',\n",
    "            dpi=300, bbox_inches='tight',\n",
    "            transparent=True);"
   ]
  },
  {
   "cell_type": "code",
   "execution_count": 64,
   "id": "d01c40d6-627f-47a3-811f-8118a1ba91e5",
   "metadata": {},
   "outputs": [
    {
     "data": {
      "text/html": [
       "<div>\n",
       "<style scoped>\n",
       "    .dataframe tbody tr th:only-of-type {\n",
       "        vertical-align: middle;\n",
       "    }\n",
       "\n",
       "    .dataframe tbody tr th {\n",
       "        vertical-align: top;\n",
       "    }\n",
       "\n",
       "    .dataframe thead th {\n",
       "        text-align: right;\n",
       "    }\n",
       "</style>\n",
       "<table border=\"1\" class=\"dataframe\">\n",
       "  <thead>\n",
       "    <tr style=\"text-align: right;\">\n",
       "      <th></th>\n",
       "      <th>commensal</th>\n",
       "      <th>date_after2010</th>\n",
       "      <th>age_more60</th>\n",
       "      <th>female</th>\n",
       "      <th>pe_urinaire</th>\n",
       "      <th>pe_digestive</th>\n",
       "      <th>ceremi</th>\n",
       "      <th>coliville</th>\n",
       "      <th>LBC</th>\n",
       "      <th>PAR</th>\n",
       "      <th>ROAR</th>\n",
       "      <th>septicoli</th>\n",
       "      <th>colibafi</th>\n",
       "    </tr>\n",
       "    <tr>\n",
       "      <th>code_rangement</th>\n",
       "      <th></th>\n",
       "      <th></th>\n",
       "      <th></th>\n",
       "      <th></th>\n",
       "      <th></th>\n",
       "      <th></th>\n",
       "      <th></th>\n",
       "      <th></th>\n",
       "      <th></th>\n",
       "      <th></th>\n",
       "      <th></th>\n",
       "      <th></th>\n",
       "      <th></th>\n",
       "    </tr>\n",
       "  </thead>\n",
       "  <tbody>\n",
       "    <tr>\n",
       "      <th>H1-001-0001-M-L</th>\n",
       "      <td>0</td>\n",
       "      <td>1</td>\n",
       "      <td>1.0</td>\n",
       "      <td>1.0</td>\n",
       "      <td>0.0</td>\n",
       "      <td>0.0</td>\n",
       "      <td>0</td>\n",
       "      <td>0</td>\n",
       "      <td>0</td>\n",
       "      <td>0</td>\n",
       "      <td>0</td>\n",
       "      <td>1</td>\n",
       "      <td>0</td>\n",
       "    </tr>\n",
       "    <tr>\n",
       "      <th>H1-001-0002-H-K</th>\n",
       "      <td>0</td>\n",
       "      <td>1</td>\n",
       "      <td>1.0</td>\n",
       "      <td>0.0</td>\n",
       "      <td>0.0</td>\n",
       "      <td>1.0</td>\n",
       "      <td>0</td>\n",
       "      <td>0</td>\n",
       "      <td>0</td>\n",
       "      <td>0</td>\n",
       "      <td>0</td>\n",
       "      <td>1</td>\n",
       "      <td>0</td>\n",
       "    </tr>\n",
       "  </tbody>\n",
       "</table>\n",
       "</div>"
      ],
      "text/plain": [
       "                 commensal  date_after2010  age_more60  female  pe_urinaire  \\\n",
       "code_rangement                                                                \n",
       "H1-001-0001-M-L          0               1         1.0     1.0          0.0   \n",
       "H1-001-0002-H-K          0               1         1.0     0.0          0.0   \n",
       "\n",
       "                 pe_digestive  ceremi  coliville  LBC  PAR  ROAR  septicoli  \\\n",
       "code_rangement                                                                \n",
       "H1-001-0001-M-L           0.0       0          0    0    0     0          1   \n",
       "H1-001-0002-H-K           1.0       0          0    0    0     0          1   \n",
       "\n",
       "                 colibafi  \n",
       "code_rangement             \n",
       "H1-001-0001-M-L         0  \n",
       "H1-001-0002-H-K         0  "
      ]
     },
     "execution_count": 64,
     "metadata": {},
     "output_type": "execute_result"
    }
   ],
   "source": [
    "f.head(2)"
   ]
  },
  {
   "cell_type": "code",
   "execution_count": 65,
   "id": "d9de9399-06bf-4090-ac7e-3610293d6340",
   "metadata": {},
   "outputs": [],
   "source": [
    "collections = ['ceremi', 'coliville', 'LBC', 'PAR', 'ROAR', 'septicoli', 'colibafi']"
   ]
  },
  {
   "cell_type": "code",
   "execution_count": 66,
   "id": "72a75bda-b3ac-491d-9533-34cc22275fb1",
   "metadata": {},
   "outputs": [],
   "source": [
    "res_c = []\n",
    "for c in collections:\n",
    "    res_c.append((c,\n",
    "               f[f[c] == 1].shape[0], f[f[c] == 0].shape[0]))\n",
    "rc = pd.DataFrame(res_c,\n",
    "                columns=['collection', 'present', 'absent'])"
   ]
  },
  {
   "cell_type": "code",
   "execution_count": 67,
   "id": "b08f1acc-d382-49ac-b8f5-3b6a3357b4b9",
   "metadata": {},
   "outputs": [],
   "source": [
    "rc['prevalence'] = rc['present'] / (rc['present'] + rc['absent'])"
   ]
  },
  {
   "cell_type": "code",
   "execution_count": 68,
   "id": "b6beed21-3766-4ff5-805c-d44ae4c05c80",
   "metadata": {},
   "outputs": [],
   "source": [
    "rc = rc.melt(id_vars='collection')"
   ]
  },
  {
   "cell_type": "code",
   "execution_count": 69,
   "id": "f426c164-d288-4097-babe-c5887ef351a5",
   "metadata": {},
   "outputs": [],
   "source": [
    "rc = rc[rc['variable'] == 'prevalence']"
   ]
  },
  {
   "cell_type": "code",
   "execution_count": 70,
   "id": "578bfafc-fc68-4fc8-9c24-d12e16c60894",
   "metadata": {},
   "outputs": [
    {
     "data": {
      "image/png": "[encoded data removed]",
      "text/plain": [
       "<Figure size 720x504 with 1 Axes>"
      ]
     },
     "metadata": {},
     "output_type": "display_data"
    }
   ],
   "source": [
    "plt.figure(figsize=(10, 7))\n",
    "\n",
    "sns.barplot(data=rc,\n",
    "            y='collection',\n",
    "            x='value',\n",
    "            palette=5*['#7fc97f'] + 2*['xkcd:coral'])\n",
    "\n",
    "colors = {'Commensal (n = 370)':'#7fc97f', 'BSI (n = 912)':'xkcd:coral'}\n",
    "labels = list(colors.keys())\n",
    "handles = [plt.Rectangle((0,0),1,1, color=colors[label]) for label in labels]\n",
    "plt.legend(handles, labels, facecolor='w')\n",
    "\n",
    "plt.xlabel('Proportion within the full dataset')\n",
    "plt.ylabel('')\n",
    "\n",
    "plt.savefig('../../out/figures/collections_distribution.png',\n",
    "            dpi=300,\n",
    "            bbox_inches='tight',\n",
    "            transparent=True)\n",
    "plt.savefig('../../out/figures/collections_distribution.svg',\n",
    "            dpi=300, bbox_inches='tight',\n",
    "            transparent=True);"
   ]
  },
  {
   "cell_type": "code",
   "execution_count": 71,
   "id": "bcb5a601-06eb-447f-99c3-abc200dbbba6",
   "metadata": {},
   "outputs": [],
   "source": [
    "s = f[['commensal', 'female', 'pe_urinaire', 'pe_digestive', 'age_more60', 'date_after2010']]"
   ]
  },
  {
   "cell_type": "code",
   "execution_count": 72,
   "id": "54474b22-9530-4691-b71d-e5a8c0630a66",
   "metadata": {},
   "outputs": [],
   "source": [
    "s = (s.groupby('commensal').sum() / s.groupby('commensal').count()).reset_index()\n",
    "s = s.melt(id_vars='commensal')"
   ]
  },
  {
   "cell_type": "code",
   "execution_count": 73,
   "id": "9777db4d-2865-4743-b1ed-b521f8bc4314",
   "metadata": {},
   "outputs": [],
   "source": [
    "s['isolate'] = ['commensal' if x == 1\n",
    "               else 'pathogenic'\n",
    "               for x in s['commensal'].values]"
   ]
  },
  {
   "cell_type": "code",
   "execution_count": 74,
   "id": "211d5f1b-f4c8-49e5-80b8-7b5a14e324be",
   "metadata": {},
   "outputs": [
    {
     "data": {
      "image/png": "[encoded data removed]",
      "text/plain": [
       "<Figure size 802.525x432 with 1 Axes>"
      ]
     },
     "metadata": {},
     "output_type": "display_data"
    }
   ],
   "source": [
    "sns.catplot(data=s[s['variable'] != 'age'],\n",
    "            kind='bar',\n",
    "            x='value',\n",
    "            y='variable',\n",
    "            hue='isolate',\n",
    "            height=6,\n",
    "            aspect=1.5,\n",
    "            #order=order_alt,\n",
    "            hue_order=['commensal', 'pathogenic'],\n",
    "            palette=['#7fc97f', 'xkcd:coral'])\n",
    "plt.legend(facecolor='w')\n",
    "plt.ylabel('')\n",
    "plt.xlabel('Prevalence within the full collection')\n",
    "plt.yticks(size=12)\n",
    "# plt.title('Imputed data')\n",
    "\n",
    "sns.despine(top=False, right=False)\n",
    "\n",
    "#plt.savefig('data_imputed.png',\n",
    "#            dpi=300,\n",
    "#            bbox_inches='tight',\n",
    "#            transparent=True)\n",
    "#plt.savefig('data_imputed.svg',\n",
    "#            dpi=300, bbox_inches='tight',\n",
    "#            transparent=True);"
   ]
  },
  {
   "cell_type": "code",
   "execution_count": 75,
   "id": "cf13ff54-5370-4785-944b-112ce4b6b448",
   "metadata": {},
   "outputs": [],
   "source": [
    "s = f[['commensal', 'female', 'pe_urinaire', 'pe_digestive', 'age_more60', 'date_after2010']]"
   ]
  },
  {
   "cell_type": "code",
   "execution_count": 76,
   "id": "f5b3241c-89cc-4b95-a8d2-32e7b2b02b2b",
   "metadata": {},
   "outputs": [],
   "source": [
    "s = (s.groupby('commensal').sum() / s.groupby('commensal').count()).reset_index()\n",
    "s = s.melt(id_vars='commensal')"
   ]
  },
  {
   "cell_type": "code",
   "execution_count": 77,
   "id": "7de54707-62e5-4dfe-95c3-a5244d023f76",
   "metadata": {},
   "outputs": [],
   "source": [
    "s['isolate'] = ['commensal' if x == 1\n",
    "               else 'pathogenic'\n",
    "               for x in s['commensal'].values]"
   ]
  },
  {
   "cell_type": "code",
   "execution_count": 78,
   "id": "038db1bb-ee1b-47be-bd88-12abab547b27",
   "metadata": {},
   "outputs": [
    {
     "data": {
      "text/html": [
       "<div>\n",
       "<style scoped>\n",
       "    .dataframe tbody tr th:only-of-type {\n",
       "        vertical-align: middle;\n",
       "    }\n",
       "\n",
       "    .dataframe tbody tr th {\n",
       "        vertical-align: top;\n",
       "    }\n",
       "\n",
       "    .dataframe thead th {\n",
       "        text-align: right;\n",
       "    }\n",
       "</style>\n",
       "<table border=\"1\" class=\"dataframe\">\n",
       "  <thead>\n",
       "    <tr style=\"text-align: right;\">\n",
       "      <th></th>\n",
       "      <th>commensal</th>\n",
       "      <th>variable</th>\n",
       "      <th>value</th>\n",
       "      <th>isolate</th>\n",
       "    </tr>\n",
       "  </thead>\n",
       "  <tbody>\n",
       "    <tr>\n",
       "      <th>0</th>\n",
       "      <td>0</td>\n",
       "      <td>female</td>\n",
       "      <td>0.519737</td>\n",
       "      <td>pathogenic</td>\n",
       "    </tr>\n",
       "    <tr>\n",
       "      <th>1</th>\n",
       "      <td>1</td>\n",
       "      <td>female</td>\n",
       "      <td>0.564516</td>\n",
       "      <td>commensal</td>\n",
       "    </tr>\n",
       "    <tr>\n",
       "      <th>2</th>\n",
       "      <td>0</td>\n",
       "      <td>pe_urinaire</td>\n",
       "      <td>0.581585</td>\n",
       "      <td>pathogenic</td>\n",
       "    </tr>\n",
       "    <tr>\n",
       "      <th>3</th>\n",
       "      <td>1</td>\n",
       "      <td>pe_urinaire</td>\n",
       "      <td>0.000000</td>\n",
       "      <td>commensal</td>\n",
       "    </tr>\n",
       "    <tr>\n",
       "      <th>4</th>\n",
       "      <td>0</td>\n",
       "      <td>pe_digestive</td>\n",
       "      <td>0.371257</td>\n",
       "      <td>pathogenic</td>\n",
       "    </tr>\n",
       "    <tr>\n",
       "      <th>5</th>\n",
       "      <td>1</td>\n",
       "      <td>pe_digestive</td>\n",
       "      <td>0.000000</td>\n",
       "      <td>commensal</td>\n",
       "    </tr>\n",
       "    <tr>\n",
       "      <th>6</th>\n",
       "      <td>0</td>\n",
       "      <td>age_more60</td>\n",
       "      <td>0.694289</td>\n",
       "      <td>pathogenic</td>\n",
       "    </tr>\n",
       "    <tr>\n",
       "      <th>7</th>\n",
       "      <td>1</td>\n",
       "      <td>age_more60</td>\n",
       "      <td>0.254144</td>\n",
       "      <td>commensal</td>\n",
       "    </tr>\n",
       "    <tr>\n",
       "      <th>8</th>\n",
       "      <td>0</td>\n",
       "      <td>date_after2010</td>\n",
       "      <td>0.597588</td>\n",
       "      <td>pathogenic</td>\n",
       "    </tr>\n",
       "    <tr>\n",
       "      <th>9</th>\n",
       "      <td>1</td>\n",
       "      <td>date_after2010</td>\n",
       "      <td>0.718919</td>\n",
       "      <td>commensal</td>\n",
       "    </tr>\n",
       "  </tbody>\n",
       "</table>\n",
       "</div>"
      ],
      "text/plain": [
       "   commensal        variable     value     isolate\n",
       "0          0          female  0.519737  pathogenic\n",
       "1          1          female  0.564516   commensal\n",
       "2          0     pe_urinaire  0.581585  pathogenic\n",
       "3          1     pe_urinaire  0.000000   commensal\n",
       "4          0    pe_digestive  0.371257  pathogenic\n",
       "5          1    pe_digestive  0.000000   commensal\n",
       "6          0      age_more60  0.694289  pathogenic\n",
       "7          1      age_more60  0.254144   commensal\n",
       "8          0  date_after2010  0.597588  pathogenic\n",
       "9          1  date_after2010  0.718919   commensal"
      ]
     },
     "execution_count": 78,
     "metadata": {},
     "output_type": "execute_result"
    }
   ],
   "source": [
    "s"
   ]
  },
  {
   "cell_type": "code",
   "execution_count": 79,
   "id": "4b5506db-79df-474e-8ba4-0bcdc3951c04",
   "metadata": {},
   "outputs": [],
   "source": [
    "s1 = s.pivot_table(columns='isolate', index='variable', values='value')"
   ]
  },
  {
   "cell_type": "code",
   "execution_count": 80,
   "id": "2d039c41-e5df-440e-9d9d-366f9125a5c3",
   "metadata": {},
   "outputs": [
    {
     "data": {
      "text/html": [
       "<div>\n",
       "<style scoped>\n",
       "    .dataframe tbody tr th:only-of-type {\n",
       "        vertical-align: middle;\n",
       "    }\n",
       "\n",
       "    .dataframe tbody tr th {\n",
       "        vertical-align: top;\n",
       "    }\n",
       "\n",
       "    .dataframe thead th {\n",
       "        text-align: right;\n",
       "    }\n",
       "</style>\n",
       "<table border=\"1\" class=\"dataframe\">\n",
       "  <thead>\n",
       "    <tr style=\"text-align: right;\">\n",
       "      <th>isolate</th>\n",
       "      <th>commensal</th>\n",
       "      <th>pathogenic</th>\n",
       "    </tr>\n",
       "    <tr>\n",
       "      <th>variable</th>\n",
       "      <th></th>\n",
       "      <th></th>\n",
       "    </tr>\n",
       "  </thead>\n",
       "  <tbody>\n",
       "    <tr>\n",
       "      <th>age_more60</th>\n",
       "      <td>0.254144</td>\n",
       "      <td>0.694289</td>\n",
       "    </tr>\n",
       "    <tr>\n",
       "      <th>date_after2010</th>\n",
       "      <td>0.718919</td>\n",
       "      <td>0.597588</td>\n",
       "    </tr>\n",
       "    <tr>\n",
       "      <th>female</th>\n",
       "      <td>0.564516</td>\n",
       "      <td>0.519737</td>\n",
       "    </tr>\n",
       "    <tr>\n",
       "      <th>pe_digestive</th>\n",
       "      <td>0.000000</td>\n",
       "      <td>0.371257</td>\n",
       "    </tr>\n",
       "    <tr>\n",
       "      <th>pe_urinaire</th>\n",
       "      <td>0.000000</td>\n",
       "      <td>0.581585</td>\n",
       "    </tr>\n",
       "  </tbody>\n",
       "</table>\n",
       "</div>"
      ],
      "text/plain": [
       "isolate         commensal  pathogenic\n",
       "variable                             \n",
       "age_more60       0.254144    0.694289\n",
       "date_after2010   0.718919    0.597588\n",
       "female           0.564516    0.519737\n",
       "pe_digestive     0.000000    0.371257\n",
       "pe_urinaire      0.000000    0.581585"
      ]
     },
     "execution_count": 80,
     "metadata": {},
     "output_type": "execute_result"
    }
   ],
   "source": [
    "s1"
   ]
  },
  {
   "cell_type": "code",
   "execution_count": 81,
   "id": "2576b2df-1f5a-447c-87a5-fe60b1f31ade",
   "metadata": {},
   "outputs": [
    {
     "name": "stderr",
     "output_type": "stream",
     "text": [
      "No handles with labels found to put in legend.\n"
     ]
    },
    {
     "data": {
      "image/png": "[encoded data removed]",
      "text/plain": [
       "<Figure size 324x324 with 1 Axes>"
      ]
     },
     "metadata": {},
     "output_type": "display_data"
    }
   ],
   "source": [
    "plt.figure(figsize=(4.5, 4.5))\n",
    "\n",
    "colors = ['xkcd:coffee', '#1fa774', '#fc5a50'] + ['#929591'] + ['#464196']\n",
    "\n",
    "plt.scatter(s1['commensal'],\n",
    "            s1['pathogenic'],\n",
    "            c=colors[::-1])\n",
    "#,\n",
    "#            label='>60y')\n",
    "\n",
    "plt.legend(facecolor='w')\n",
    "\n",
    "plt.plot([-0.05, 1.05], [-0.05, 1.05],\n",
    "         '--', color='grey',\n",
    "         zorder=0)\n",
    "\n",
    "plt.xlim(-0.05, 1.05)\n",
    "plt.ylim(-0.05, 1.05)\n",
    "\n",
    "plt.xticks([0, .25, .5, .75, 1.])\n",
    "plt.yticks([0, .25, .5, .75, 1.])\n",
    "\n",
    "plt.xlabel('Proportion - Commensal')\n",
    "plt.ylabel('Proportion - BSI')\n",
    "\n",
    "plt.savefig('../../out/figures/prevalence_compare.png',\n",
    "            dpi=300,\n",
    "            bbox_inches='tight',\n",
    "            transparent=True)\n",
    "plt.savefig('../../out/figures/prevalence_compare.svg',\n",
    "            dpi=300, bbox_inches='tight',\n",
    "            transparent=True);"
   ]
  },
  {
   "cell_type": "code",
   "execution_count": 82,
   "id": "2ef97c3a-87b6-4381-9a27-e8c04b6cbe4b",
   "metadata": {},
   "outputs": [],
   "source": [
    "# just covariates used\n",
    "s1.drop(s1.tail(2).index, inplace=True)"
   ]
  },
  {
   "cell_type": "code",
   "execution_count": 83,
   "id": "8263c33c-b539-415d-8f67-6cea7d6712b7",
   "metadata": {},
   "outputs": [
    {
     "data": {
      "text/html": [
       "<div>\n",
       "<style scoped>\n",
       "    .dataframe tbody tr th:only-of-type {\n",
       "        vertical-align: middle;\n",
       "    }\n",
       "\n",
       "    .dataframe tbody tr th {\n",
       "        vertical-align: top;\n",
       "    }\n",
       "\n",
       "    .dataframe thead th {\n",
       "        text-align: right;\n",
       "    }\n",
       "</style>\n",
       "<table border=\"1\" class=\"dataframe\">\n",
       "  <thead>\n",
       "    <tr style=\"text-align: right;\">\n",
       "      <th>isolate</th>\n",
       "      <th>commensal</th>\n",
       "      <th>pathogenic</th>\n",
       "    </tr>\n",
       "    <tr>\n",
       "      <th>variable</th>\n",
       "      <th></th>\n",
       "      <th></th>\n",
       "    </tr>\n",
       "  </thead>\n",
       "  <tbody>\n",
       "    <tr>\n",
       "      <th>age_more60</th>\n",
       "      <td>0.254144</td>\n",
       "      <td>0.694289</td>\n",
       "    </tr>\n",
       "    <tr>\n",
       "      <th>date_after2010</th>\n",
       "      <td>0.718919</td>\n",
       "      <td>0.597588</td>\n",
       "    </tr>\n",
       "    <tr>\n",
       "      <th>female</th>\n",
       "      <td>0.564516</td>\n",
       "      <td>0.519737</td>\n",
       "    </tr>\n",
       "  </tbody>\n",
       "</table>\n",
       "</div>"
      ],
      "text/plain": [
       "isolate         commensal  pathogenic\n",
       "variable                             \n",
       "age_more60       0.254144    0.694289\n",
       "date_after2010   0.718919    0.597588\n",
       "female           0.564516    0.519737"
      ]
     },
     "execution_count": 83,
     "metadata": {},
     "output_type": "execute_result"
    }
   ],
   "source": [
    "s1"
   ]
  },
  {
   "cell_type": "code",
   "execution_count": 84,
   "id": "594cc201-a992-4013-83e4-9d252dfac481",
   "metadata": {},
   "outputs": [
    {
     "name": "stderr",
     "output_type": "stream",
     "text": [
      "No handles with labels found to put in legend.\n"
     ]
    },
    {
     "data": {
      "image/png": "[encoded data removed]",
      "text/plain": [
       "<Figure size 324x324 with 1 Axes>"
      ]
     },
     "metadata": {},
     "output_type": "display_data"
    }
   ],
   "source": [
    "plt.figure(figsize=(4.5, 4.5))\n",
    "\n",
    "colors = ['#fc5a50'] + ['#929591'] + ['#464196']\n",
    "\n",
    "plt.scatter(s1['commensal'],\n",
    "            s1['pathogenic'],\n",
    "            c=colors[::-1])\n",
    "#,\n",
    "#            label='>60y')\n",
    "\n",
    "plt.legend(facecolor='w')\n",
    "\n",
    "plt.plot([-0.05, 1.05], [-0.05, 1.05],\n",
    "         '--', color='grey',\n",
    "         zorder=0)\n",
    "\n",
    "plt.xlim(-0.05, 1.05)\n",
    "plt.ylim(-0.05, 1.05)\n",
    "\n",
    "plt.xticks([0, .25, .5, .75, 1.])\n",
    "plt.yticks([0, .25, .5, .75, 1.])\n",
    "\n",
    "plt.xlabel('Proportion - Commensal')\n",
    "plt.ylabel('Proportion - BSI')\n",
    "\n",
    "plt.savefig('../../out/figures/prevalence_covariates_compare.png',\n",
    "            dpi=300,\n",
    "            bbox_inches='tight',\n",
    "            transparent=True)\n",
    "plt.savefig('../../out/figures/prevalence_covariates_compare.svg',\n",
    "            dpi=300, bbox_inches='tight',\n",
    "            transparent=True);"
   ]
  },
  {
   "cell_type": "markdown",
   "id": "a6d68f89-0c21-427e-96ec-70c774d1d7d3",
   "metadata": {},
   "source": [
    "______"
   ]
  },
  {
   "cell_type": "code",
   "execution_count": 26,
   "id": "dca92dd0-453f-4e8b-b68f-53940a3d44ed",
   "metadata": {},
   "outputs": [],
   "source": [
    "# heritability"
   ]
  },
  {
   "cell_type": "code",
   "execution_count": 27,
   "id": "16b541db-c032-4eb7-b533-5b75aea10e65",
   "metadata": {},
   "outputs": [],
   "source": [
    "h = pd.read_csv('../../out/associations/heritability.tsv', sep='\\t')\n",
    "hl = pd.read_csv('../../out/associations/heritability_lineages.tsv', sep='\\t')\n",
    "h_peu = pd.read_csv('../../out/peu/heritability.tsv', sep='\\t')\n",
    "hl_peu = pd.read_csv('../../out/peu/heritability_lineages.tsv', sep='\\t')\n",
    "h_ped = pd.read_csv('../../out/ped/heritability.tsv', sep='\\t')\n",
    "hl_ped = pd.read_csv('../../out/ped/heritability_lineages.tsv', sep='\\t')\n",
    "h_b2 = pd.read_csv('../../out/b2/heritability.tsv', sep='\\t')\n",
    "hl_b2 = pd.read_csv('../../out/b2/heritability_lineages.tsv', sep='\\t')"
   ]
  },
  {
   "cell_type": "code",
   "execution_count": 28,
   "id": "e952a715-2b29-4ba2-9a17-be808e30f016",
   "metadata": {},
   "outputs": [],
   "source": [
    "h['type'] = ['genetic variants' if x != 0\n",
    "            else 0\n",
    "            for x in h['h2']]\n",
    "hl['type'] = ['lineages (ST)' if x !=0\n",
    "             else 0\n",
    "             for x in hl['h2']]\n",
    "h_peu['type'] = ['genetic variants' if x != 0\n",
    "            else 0\n",
    "            for x in h_peu['h2']]\n",
    "hl_peu['type'] = ['lineages (ST)' if x !=0\n",
    "             else 0\n",
    "             for x in hl_peu['h2']]\n",
    "h_ped['type'] = ['genetic variants' if x != 0\n",
    "            else 0\n",
    "            for x in h_ped['h2']]\n",
    "hl_ped['type'] = ['lineages (ST)' if x !=0\n",
    "             else 0\n",
    "             for x in hl_ped['h2']]\n",
    "h_b2['type'] = ['genetic variants' if x != 0\n",
    "            else 0\n",
    "            for x in h_b2['h2']]\n",
    "hl_b2['type'] = ['lineages (ST)' if x !=0\n",
    "             else 0\n",
    "             for x in hl_b2['h2']]"
   ]
  },
  {
   "cell_type": "code",
   "execution_count": 29,
   "id": "7d12fe45-8678-43ff-8b41-ad9a1bfecdb7",
   "metadata": {},
   "outputs": [],
   "source": [
    "hh = pd.concat([h, hl])\n",
    "hh_peu = pd.concat([h_peu, hl_peu])\n",
    "hh_ped = pd.concat([h_ped, hl_ped])\n",
    "hh_b2 = pd.concat([h_b2, hl_b2])"
   ]
  },
  {
   "cell_type": "code",
   "execution_count": 30,
   "id": "2b3d17d8-2821-4b1f-a344-53f3a6db85d7",
   "metadata": {},
   "outputs": [],
   "source": [
    "hh.rename(columns={'h2':'naïve', 'h2_covariates':'+ covariates'}, inplace=True)\n",
    "hh_peu.rename(columns={'h2':'naïve', 'h2_covariates':'+ covariates'}, inplace=True)\n",
    "hh_ped.rename(columns={'h2':'naïve', 'h2_covariates':'+ covariates'}, inplace=True)\n",
    "hh_b2.rename(columns={'h2':'naïve', 'h2_covariates':'+ covariates'}, inplace=True)"
   ]
  },
  {
   "cell_type": "code",
   "execution_count": 31,
   "id": "ed5f4ebe-4919-448c-8427-b7f99213ebb7",
   "metadata": {},
   "outputs": [],
   "source": [
    "hh = pd.melt(hh, id_vars=['type'], value_vars=['naïve', '+ covariates'])\n",
    "hh_peu = pd.melt(hh_peu, id_vars=['type'], value_vars=['naïve', '+ covariates'])\n",
    "hh_ped = pd.melt(hh_ped, id_vars=['type'], value_vars=['naïve', '+ covariates'])\n",
    "hh_b2 = pd.melt(hh_b2, id_vars=['type'], value_vars=['naïve', '+ covariates'])"
   ]
  },
  {
   "cell_type": "code",
   "execution_count": 32,
   "id": "d18bd8ec-597d-45cd-a6f7-76b27735aeb1",
   "metadata": {},
   "outputs": [
    {
     "data": {
      "image/png": "[encoded data removed]",
      "text/plain": [
       "<Figure size 432x216 with 1 Axes>"
      ]
     },
     "metadata": {},
     "output_type": "display_data"
    }
   ],
   "source": [
    "cp = sns.catplot(data=hh,\n",
    "                 dodge=True,\n",
    "                 legend=False,\n",
    "                 height=3,\n",
    "                 aspect=2,\n",
    "                 kind='bar',\n",
    "                 x='value', y='type',\n",
    "                 hue = 'variable',\n",
    "                 palette=['xkcd:grey', 'xkcd:dark grey'])\n",
    "\n",
    "legend = plt.legend(loc='lower right', prop={'size': 11})\n",
    "cp.set_xlabels('')\n",
    "cp.set_ylabels('')\n",
    "cp.set(xlim=(0, 1))\n",
    "sns.despine(top=False,\n",
    "            right=False)\n",
    "legend = plt.legend(loc='lower right', prop={'size':12})\n",
    "legend.get_frame().set_alpha(None)\n",
    "legend.get_frame().set_facecolor((0, 0, 0, 0))\n",
    "plt.savefig('../../out/figures/h2.png',\n",
    "            dpi=300,\n",
    "            bbox_inches='tight',\n",
    "            transparent=True)\n",
    "plt.savefig('../../out/figures/h2.svg',\n",
    "            dpi=300, bbox_inches='tight',\n",
    "            transparent=True);"
   ]
  },
  {
   "cell_type": "code",
   "execution_count": 33,
   "id": "065a7a09-59a7-4b6c-b0d3-2048c70f1d38",
   "metadata": {},
   "outputs": [
    {
     "data": {
      "image/png": "[encoded data removed]",
      "text/plain": [
       "<Figure size 432x216 with 1 Axes>"
      ]
     },
     "metadata": {},
     "output_type": "display_data"
    }
   ],
   "source": [
    "cp = sns.catplot(data=hh_peu,\n",
    "                 dodge=True,\n",
    "                 legend=False,\n",
    "                 height=3,\n",
    "                 aspect=2,\n",
    "                 kind='bar',\n",
    "                 x='value', y='type',\n",
    "                 hue = 'variable',\n",
    "                 palette=['xkcd:grey', 'xkcd:dark grey'])\n",
    "\n",
    "legend = plt.legend(loc='lower right', prop={'size': 11})\n",
    "cp.set_xlabels('')\n",
    "cp.set_ylabels('')\n",
    "cp.set(xlim=(0, 1))\n",
    "sns.despine(top=False,\n",
    "            right=False)\n",
    "legend = plt.legend(loc='lower right', prop={'size':12})\n",
    "legend.get_frame().set_alpha(None)\n",
    "legend.get_frame().set_facecolor((0, 0, 0, 0))\n",
    "\n",
    "plt.savefig('../../out/figures/h2_peu.png',\n",
    "            dpi=300,\n",
    "            bbox_inches='tight',\n",
    "            transparent=True)\n",
    "plt.savefig('../../out/figures/h2_peu.svg',\n",
    "            dpi=300, bbox_inches='tight',\n",
    "            transparent=True);"
   ]
  },
  {
   "cell_type": "code",
   "execution_count": 34,
   "id": "0dcb047e-eadd-4f56-9d46-6bea1551ac72",
   "metadata": {},
   "outputs": [
    {
     "data": {
      "image/png": "[encoded data removed]",
      "text/plain": [
       "<Figure size 432x216 with 1 Axes>"
      ]
     },
     "metadata": {},
     "output_type": "display_data"
    }
   ],
   "source": [
    "cp = sns.catplot(data=hh_ped,\n",
    "                 dodge=True,\n",
    "                 legend=False,\n",
    "                 height=3,\n",
    "                 aspect=2,\n",
    "                 kind='bar',\n",
    "                 x='value', y='type',\n",
    "                 hue = 'variable',\n",
    "                 palette=['xkcd:grey', 'xkcd:dark grey'])\n",
    "\n",
    "legend = plt.legend(loc='lower right', prop={'size': 11})\n",
    "cp.set_xlabels('')\n",
    "cp.set_ylabels('')\n",
    "cp.set(xlim=(0, 1))\n",
    "sns.despine(top=False,\n",
    "            right=False)\n",
    "legend = plt.legend(loc='lower right', prop={'size':12})\n",
    "legend.get_frame().set_alpha(None)\n",
    "legend.get_frame().set_facecolor((0, 0, 0, 0))\n",
    "\n",
    "plt.savefig('../../out/figures/h2_ped.png',\n",
    "            dpi=300,\n",
    "            bbox_inches='tight',\n",
    "            transparent=True)\n",
    "plt.savefig('../../out/figures/h2_ped.svg',\n",
    "            dpi=300, bbox_inches='tight',\n",
    "            transparent=True);"
   ]
  },
  {
   "cell_type": "code",
   "execution_count": 35,
   "id": "083e3a87-72c2-4fdb-81bd-95a3d9a66e29",
   "metadata": {},
   "outputs": [],
   "source": [
    "hh['set'] = ['Full collection' if x != 0\n",
    "            else 'n'\n",
    "            for x in hh['value']]\n",
    "hh_peu['set'] = ['PE: Urinary' if x != 0\n",
    "                else 'n'\n",
    "                for x in hh_peu['value']]\n",
    "hh_ped['set'] = ['PE: Digestive' if x != 0\n",
    "                else 'n'\n",
    "                for x in hh_ped['value']]"
   ]
  },
  {
   "cell_type": "code",
   "execution_count": 36,
   "id": "88ded797-6544-4e57-8785-3ba64f3a4b9e",
   "metadata": {},
   "outputs": [],
   "source": [
    "he = pd.concat([hh, hh_peu, hh_ped])"
   ]
  },
  {
   "cell_type": "code",
   "execution_count": 37,
   "id": "720436ad-d5bb-433d-b5ca-30b4298421b6",
   "metadata": {},
   "outputs": [
    {
     "data": {
      "text/html": [
       "<div>\n",
       "<style scoped>\n",
       "    .dataframe tbody tr th:only-of-type {\n",
       "        vertical-align: middle;\n",
       "    }\n",
       "\n",
       "    .dataframe tbody tr th {\n",
       "        vertical-align: top;\n",
       "    }\n",
       "\n",
       "    .dataframe thead th {\n",
       "        text-align: right;\n",
       "    }\n",
       "</style>\n",
       "<table border=\"1\" class=\"dataframe\">\n",
       "  <thead>\n",
       "    <tr style=\"text-align: right;\">\n",
       "      <th></th>\n",
       "      <th>type</th>\n",
       "      <th>variable</th>\n",
       "      <th>value</th>\n",
       "      <th>set</th>\n",
       "    </tr>\n",
       "  </thead>\n",
       "  <tbody>\n",
       "    <tr>\n",
       "      <th>0</th>\n",
       "      <td>genetic variants</td>\n",
       "      <td>naïve</td>\n",
       "      <td>0.745810</td>\n",
       "      <td>Full collection</td>\n",
       "    </tr>\n",
       "    <tr>\n",
       "      <th>1</th>\n",
       "      <td>lineages (ST)</td>\n",
       "      <td>naïve</td>\n",
       "      <td>0.339630</td>\n",
       "      <td>Full collection</td>\n",
       "    </tr>\n",
       "    <tr>\n",
       "      <th>2</th>\n",
       "      <td>genetic variants</td>\n",
       "      <td>+ covariates</td>\n",
       "      <td>0.650887</td>\n",
       "      <td>Full collection</td>\n",
       "    </tr>\n",
       "    <tr>\n",
       "      <th>3</th>\n",
       "      <td>lineages (ST)</td>\n",
       "      <td>+ covariates</td>\n",
       "      <td>0.247926</td>\n",
       "      <td>Full collection</td>\n",
       "    </tr>\n",
       "    <tr>\n",
       "      <th>0</th>\n",
       "      <td>genetic variants</td>\n",
       "      <td>naïve</td>\n",
       "      <td>0.755549</td>\n",
       "      <td>PE: Urinary</td>\n",
       "    </tr>\n",
       "    <tr>\n",
       "      <th>1</th>\n",
       "      <td>lineages (ST)</td>\n",
       "      <td>naïve</td>\n",
       "      <td>0.373042</td>\n",
       "      <td>PE: Urinary</td>\n",
       "    </tr>\n",
       "    <tr>\n",
       "      <th>2</th>\n",
       "      <td>genetic variants</td>\n",
       "      <td>+ covariates</td>\n",
       "      <td>0.690308</td>\n",
       "      <td>PE: Urinary</td>\n",
       "    </tr>\n",
       "    <tr>\n",
       "      <th>3</th>\n",
       "      <td>lineages (ST)</td>\n",
       "      <td>+ covariates</td>\n",
       "      <td>0.287221</td>\n",
       "      <td>PE: Urinary</td>\n",
       "    </tr>\n",
       "    <tr>\n",
       "      <th>0</th>\n",
       "      <td>genetic variants</td>\n",
       "      <td>naïve</td>\n",
       "      <td>0.608590</td>\n",
       "      <td>PE: Digestive</td>\n",
       "    </tr>\n",
       "    <tr>\n",
       "      <th>1</th>\n",
       "      <td>lineages (ST)</td>\n",
       "      <td>naïve</td>\n",
       "      <td>0.219180</td>\n",
       "      <td>PE: Digestive</td>\n",
       "    </tr>\n",
       "    <tr>\n",
       "      <th>2</th>\n",
       "      <td>genetic variants</td>\n",
       "      <td>+ covariates</td>\n",
       "      <td>0.395245</td>\n",
       "      <td>PE: Digestive</td>\n",
       "    </tr>\n",
       "    <tr>\n",
       "      <th>3</th>\n",
       "      <td>lineages (ST)</td>\n",
       "      <td>+ covariates</td>\n",
       "      <td>0.110659</td>\n",
       "      <td>PE: Digestive</td>\n",
       "    </tr>\n",
       "  </tbody>\n",
       "</table>\n",
       "</div>"
      ],
      "text/plain": [
       "               type      variable     value              set\n",
       "0  genetic variants         naïve  0.745810  Full collection\n",
       "1     lineages (ST)         naïve  0.339630  Full collection\n",
       "2  genetic variants  + covariates  0.650887  Full collection\n",
       "3     lineages (ST)  + covariates  0.247926  Full collection\n",
       "0  genetic variants         naïve  0.755549      PE: Urinary\n",
       "1     lineages (ST)         naïve  0.373042      PE: Urinary\n",
       "2  genetic variants  + covariates  0.690308      PE: Urinary\n",
       "3     lineages (ST)  + covariates  0.287221      PE: Urinary\n",
       "0  genetic variants         naïve  0.608590    PE: Digestive\n",
       "1     lineages (ST)         naïve  0.219180    PE: Digestive\n",
       "2  genetic variants  + covariates  0.395245    PE: Digestive\n",
       "3     lineages (ST)  + covariates  0.110659    PE: Digestive"
      ]
     },
     "execution_count": 37,
     "metadata": {},
     "output_type": "execute_result"
    }
   ],
   "source": [
    "he"
   ]
  },
  {
   "cell_type": "code",
   "execution_count": 38,
   "id": "5442cf77-7dd0-4643-8b35-d15a234dd1a3",
   "metadata": {},
   "outputs": [
    {
     "name": "stderr",
     "output_type": "stream",
     "text": [
      "findfont: Font family ['sans-serif'] not found. Falling back to DejaVu Sans.\n",
      "findfont: Generic family 'sans-serif' not found because none of the following families were found: Arial\n"
     ]
    },
    {
     "data": {
      "image/png": "[encoded data removed]",
      "text/plain": [
       "<Figure size 1296x216 with 3 Axes>"
      ]
     },
     "metadata": {},
     "output_type": "display_data"
    }
   ],
   "source": [
    "cp = sns.catplot(data=he,\n",
    "                 dodge=True,\n",
    "                 legend=False,\n",
    "                 height=3,\n",
    "                 aspect=2,\n",
    "                 kind='bar',\n",
    "                 x='value', y='type',\n",
    "                 hue = 'variable',\n",
    "                 col= 'set',\n",
    "                 palette=['xkcd:grey', 'xkcd:dark grey'])\n",
    "\n",
    "legend = plt.legend(loc='lower right', prop={'size': 11})\n",
    "cp.set_xlabels('$h^2$')\n",
    "cp.set_ylabels('')\n",
    "cp.set(xlim=(0, 1))\n",
    "cp.set_titles(col_template='{col_name}')\n",
    "sns.despine(top=False,\n",
    "            right=False)\n",
    "legend = plt.legend(loc='lower right', prop={'size':12})\n",
    "legend.get_frame().set_alpha(None)\n",
    "legend.get_frame().set_facecolor((0, 0, 0, 0))\n",
    "\n",
    "plt.savefig('../../out/figures/h2.png',\n",
    "            dpi=300,\n",
    "            bbox_inches='tight',\n",
    "            transparent=True)\n",
    "plt.savefig('../../out/figures/h2.svg',\n",
    "            dpi=300, bbox_inches='tight',\n",
    "            transparent=True);"
   ]
  },
  {
   "cell_type": "code",
   "execution_count": 39,
   "id": "cbc8ca7b-f50e-48f5-992d-e2d0c88cf16a",
   "metadata": {},
   "outputs": [],
   "source": [
    "h = pd.read_csv('../../out/associations/heritability_/heritability.tsv', sep='\\t')\n",
    "hl = pd.read_csv('../../out/associations/heritability_/heritability_lineages.tsv', sep='\\t')\n",
    "ha = pd.read_csv('../../out/associations/heritability_/heritability_age.tsv', sep='\\t')\n",
    "hla = pd.read_csv('../../out/associations/heritability_/heritability_age_lineages.tsv', sep='\\t')\n",
    "hs = pd.read_csv('../../out/associations/heritability_/heritability_sex.tsv', sep='\\t')\n",
    "hls = pd.read_csv('../../out/associations/heritability_/heritability_sex_lineages.tsv', sep='\\t')\n",
    "hd = pd.read_csv('../../out/associations/heritability_/heritability_date.tsv', sep='\\t')\n",
    "hld = pd.read_csv('../../out/associations/heritability_/heritability_date_lineages.tsv', sep='\\t')"
   ]
  },
  {
   "cell_type": "code",
   "execution_count": 40,
   "id": "c44fef93-45e2-4e2f-ac68-88eed3c4d371",
   "metadata": {},
   "outputs": [],
   "source": [
    "h['type'] = ['genetic variants' if x != 0\n",
    "            else 0\n",
    "            for x in h['h2']]\n",
    "hl['type'] = ['lineages (ST)' if x !=0\n",
    "             else 0\n",
    "             for x in hl['h2']]\n",
    "ha['type'] = ['genetic variants' if x != 0\n",
    "            else 0\n",
    "            for x in ha['h2']]\n",
    "hla['type'] = ['lineages (ST)' if x !=0\n",
    "             else 0\n",
    "             for x in hla['h2']]\n",
    "hs['type'] = ['genetic variants' if x != 0\n",
    "            else 0\n",
    "            for x in hs['h2']]\n",
    "hls['type'] = ['lineages (ST)' if x !=0\n",
    "             else 0\n",
    "             for x in hls['h2']]\n",
    "hd['type'] = ['genetic variants' if x != 0\n",
    "            else 0\n",
    "            for x in hd['h2']]\n",
    "hld['type'] = ['lineages (ST)' if x !=0\n",
    "             else 0\n",
    "             for x in hld['h2']]"
   ]
  },
  {
   "cell_type": "code",
   "execution_count": 41,
   "id": "041eeea4-63a6-4433-967f-4bc2aade5a25",
   "metadata": {},
   "outputs": [],
   "source": [
    "hh = pd.concat([h, hl])\n",
    "hha = pd.concat([ha, hla])\n",
    "hhs = pd.concat([hs, hls])\n",
    "hhd = pd.concat([hd, hld])"
   ]
  },
  {
   "cell_type": "code",
   "execution_count": 42,
   "id": "70831db8-88eb-458b-a2d5-f4cc28ca5a35",
   "metadata": {},
   "outputs": [],
   "source": [
    "hh['covariates'] = ['all' if x != 0\n",
    "                   else 0\n",
    "                   for x in hh['h2']]\n",
    "hha['covariates'] = ['age' if x != 0\n",
    "                   else 0\n",
    "                   for x in hha['h2']]\n",
    "hhs['covariates'] = ['sex' if x != 0\n",
    "                   else 0\n",
    "                   for x in hhs['h2']]\n",
    "hhd['covariates'] = ['date' if x != 0\n",
    "                   else 0\n",
    "                   for x in hhd['h2']]"
   ]
  },
  {
   "cell_type": "code",
   "execution_count": 43,
   "id": "e9f8896a-20d1-4cca-b5f5-71ab86c3bca1",
   "metadata": {},
   "outputs": [],
   "source": [
    "hhh = pd.concat([hh, hha, hhs, hhd])"
   ]
  },
  {
   "cell_type": "code",
   "execution_count": 44,
   "id": "86bd9116-3136-4edb-88cf-667614238bc2",
   "metadata": {},
   "outputs": [
    {
     "data": {
      "text/html": [
       "<div>\n",
       "<style scoped>\n",
       "    .dataframe tbody tr th:only-of-type {\n",
       "        vertical-align: middle;\n",
       "    }\n",
       "\n",
       "    .dataframe tbody tr th {\n",
       "        vertical-align: top;\n",
       "    }\n",
       "\n",
       "    .dataframe thead th {\n",
       "        text-align: right;\n",
       "    }\n",
       "</style>\n",
       "<table border=\"1\" class=\"dataframe\">\n",
       "  <thead>\n",
       "    <tr style=\"text-align: right;\">\n",
       "      <th></th>\n",
       "      <th>phenotype</th>\n",
       "      <th>lik</th>\n",
       "      <th>h2</th>\n",
       "      <th>h2_covariates</th>\n",
       "      <th>type</th>\n",
       "      <th>covariates</th>\n",
       "    </tr>\n",
       "  </thead>\n",
       "  <tbody>\n",
       "    <tr>\n",
       "      <th>0</th>\n",
       "      <td>commensal</td>\n",
       "      <td>normal</td>\n",
       "      <td>0.74581</td>\n",
       "      <td>0.650887</td>\n",
       "      <td>genetic variants</td>\n",
       "      <td>all</td>\n",
       "    </tr>\n",
       "    <tr>\n",
       "      <th>0</th>\n",
       "      <td>commensal</td>\n",
       "      <td>normal</td>\n",
       "      <td>0.33963</td>\n",
       "      <td>0.247926</td>\n",
       "      <td>lineages (ST)</td>\n",
       "      <td>all</td>\n",
       "    </tr>\n",
       "    <tr>\n",
       "      <th>0</th>\n",
       "      <td>commensal</td>\n",
       "      <td>normal</td>\n",
       "      <td>0.74581</td>\n",
       "      <td>0.639531</td>\n",
       "      <td>genetic variants</td>\n",
       "      <td>age</td>\n",
       "    </tr>\n",
       "    <tr>\n",
       "      <th>0</th>\n",
       "      <td>commensal</td>\n",
       "      <td>normal</td>\n",
       "      <td>0.33963</td>\n",
       "      <td>0.253656</td>\n",
       "      <td>lineages (ST)</td>\n",
       "      <td>age</td>\n",
       "    </tr>\n",
       "    <tr>\n",
       "      <th>0</th>\n",
       "      <td>commensal</td>\n",
       "      <td>normal</td>\n",
       "      <td>0.74581</td>\n",
       "      <td>0.738020</td>\n",
       "      <td>genetic variants</td>\n",
       "      <td>sex</td>\n",
       "    </tr>\n",
       "    <tr>\n",
       "      <th>0</th>\n",
       "      <td>commensal</td>\n",
       "      <td>normal</td>\n",
       "      <td>0.33963</td>\n",
       "      <td>0.332080</td>\n",
       "      <td>lineages (ST)</td>\n",
       "      <td>sex</td>\n",
       "    </tr>\n",
       "    <tr>\n",
       "      <th>0</th>\n",
       "      <td>commensal</td>\n",
       "      <td>normal</td>\n",
       "      <td>0.74581</td>\n",
       "      <td>0.764743</td>\n",
       "      <td>genetic variants</td>\n",
       "      <td>date</td>\n",
       "    </tr>\n",
       "    <tr>\n",
       "      <th>0</th>\n",
       "      <td>commensal</td>\n",
       "      <td>normal</td>\n",
       "      <td>0.33963</td>\n",
       "      <td>0.348534</td>\n",
       "      <td>lineages (ST)</td>\n",
       "      <td>date</td>\n",
       "    </tr>\n",
       "  </tbody>\n",
       "</table>\n",
       "</div>"
      ],
      "text/plain": [
       "   phenotype     lik       h2  h2_covariates              type covariates\n",
       "0  commensal  normal  0.74581       0.650887  genetic variants        all\n",
       "0  commensal  normal  0.33963       0.247926     lineages (ST)        all\n",
       "0  commensal  normal  0.74581       0.639531  genetic variants        age\n",
       "0  commensal  normal  0.33963       0.253656     lineages (ST)        age\n",
       "0  commensal  normal  0.74581       0.738020  genetic variants        sex\n",
       "0  commensal  normal  0.33963       0.332080     lineages (ST)        sex\n",
       "0  commensal  normal  0.74581       0.764743  genetic variants       date\n",
       "0  commensal  normal  0.33963       0.348534     lineages (ST)       date"
      ]
     },
     "execution_count": 44,
     "metadata": {},
     "output_type": "execute_result"
    }
   ],
   "source": [
    "hhh"
   ]
  },
  {
   "cell_type": "code",
   "execution_count": 45,
   "id": "63498cd7-dfa4-48bb-913e-d822dce5dac1",
   "metadata": {},
   "outputs": [
    {
     "name": "stderr",
     "output_type": "stream",
     "text": [
      "/home/burgaya/anaconda3/lib/python3.9/site-packages/pandas/core/frame.py:5039: SettingWithCopyWarning: \n",
      "A value is trying to be set on a copy of a slice from a DataFrame\n",
      "\n",
      "See the caveats in the documentation: https://pandas.pydata.org/pandas-docs/stable/user_guide/indexing.html#returning-a-view-versus-a-copy\n",
      "  return super().rename(\n"
     ]
    }
   ],
   "source": [
    "f = hhh[['h2_covariates', 'type', 'covariates']]\n",
    "f.rename(columns={'h2_covariates':'value'}, inplace=True)"
   ]
  },
  {
   "cell_type": "code",
   "execution_count": 46,
   "id": "d027c1ad-2797-44fe-b456-0d00b8a6a61e",
   "metadata": {},
   "outputs": [
    {
     "name": "stderr",
     "output_type": "stream",
     "text": [
      "/tmp/ipykernel_53916/4229055794.py:2: SettingWithCopyWarning: \n",
      "A value is trying to be set on a copy of a slice from a DataFrame.\n",
      "Try using .loc[row_indexer,col_indexer] = value instead\n",
      "\n",
      "See the caveats in the documentation: https://pandas.pydata.org/pandas-docs/stable/user_guide/indexing.html#returning-a-view-versus-a-copy\n",
      "  n['covariates'] = ['naïve' if x != 0\n",
      "/home/burgaya/anaconda3/lib/python3.9/site-packages/pandas/core/frame.py:4906: SettingWithCopyWarning: \n",
      "A value is trying to be set on a copy of a slice from a DataFrame\n",
      "\n",
      "See the caveats in the documentation: https://pandas.pydata.org/pandas-docs/stable/user_guide/indexing.html#returning-a-view-versus-a-copy\n",
      "  return super().drop(\n"
     ]
    }
   ],
   "source": [
    "n = hhh[['h2', 'type', 'covariates']]\n",
    "n['covariates'] = ['naïve' if x != 0\n",
    "                  else 0\n",
    "                  for x in n['h2']]\n",
    "n.reset_index(inplace=True)\n",
    "n.drop([2, 3, 4, 5, 6, 7], inplace=True)"
   ]
  },
  {
   "cell_type": "code",
   "execution_count": 47,
   "id": "ced5f88a-36e0-4278-9d73-c947194ae8ea",
   "metadata": {},
   "outputs": [],
   "source": [
    "n.drop(columns='index', inplace=True)"
   ]
  },
  {
   "cell_type": "code",
   "execution_count": 48,
   "id": "81eb7243-3c0f-489d-a3ac-1e08744a8058",
   "metadata": {},
   "outputs": [],
   "source": [
    "n.rename(columns={'h2':'value'}, inplace=True)"
   ]
  },
  {
   "cell_type": "code",
   "execution_count": 49,
   "id": "01b06f82-fb68-4240-a1d3-ee1c5caec242",
   "metadata": {},
   "outputs": [],
   "source": [
    "ff = pd.concat([f, n])"
   ]
  },
  {
   "cell_type": "code",
   "execution_count": 50,
   "id": "471f47e8-fa7e-4dd2-8156-17d97752045f",
   "metadata": {},
   "outputs": [
    {
     "name": "stderr",
     "output_type": "stream",
     "text": [
      "findfont: Font family ['sans-serif'] not found. Falling back to DejaVu Sans.\n",
      "findfont: Generic family 'sans-serif' not found because none of the following families were found: Arial\n"
     ]
    },
    {
     "data": {
      "image/png": "[encoded data removed]",
      "text/plain": [
       "<Figure size 432x216 with 1 Axes>"
      ]
     },
     "metadata": {},
     "output_type": "display_data"
    }
   ],
   "source": [
    "cp = sns.catplot(data=ff,\n",
    "                 dodge=True,\n",
    "                 legend=False,\n",
    "                 height=3,\n",
    "                 aspect=2,\n",
    "                 kind='bar',\n",
    "                 x='value', y='type',\n",
    "                 hue = 'covariates',\n",
    "                 palette=['xkcd:charcoal grey', '#464196', '#fc5a50', \n",
    "                          '#929591', 'xkcd:mushroom'])\n",
    "\n",
    "legend = plt.legend(loc='lower right', prop={'size': 11})\n",
    "cp.set_xlabels('')\n",
    "cp.set_ylabels('')\n",
    "cp.set(xlim=(0, 1))\n",
    "sns.despine(top=False,\n",
    "            right=False)\n",
    "cp.set_xlabels('$h^2$')\n",
    "\n",
    "legend = plt.legend(loc='lower right', prop={'size':9}, ncol=2)\n",
    "legend.get_frame().set_alpha(None)\n",
    "legend.get_frame().set_facecolor((0, 0, 0, 0))\n",
    "\n",
    "\n",
    "plt.savefig('../../out/figures/h2_covariates.png',\n",
    "            dpi=300,\n",
    "            bbox_inches='tight',\n",
    "            transparent=True)\n",
    "plt.savefig('../../out/figures/h2_covariates.svg',\n",
    "            dpi=300, bbox_inches='tight',\n",
    "            transparent=True);"
   ]
  }
 ],
 "metadata": {
  "kernelspec": {
   "display_name": "Python 3 (ipykernel)",
   "language": "python",
   "name": "python3"
  },
  "language_info": {
   "codemirror_mode": {
    "name": "ipython",
    "version": 3
   },
   "file_extension": ".py",
   "mimetype": "text/x-python",
   "name": "python",
   "nbconvert_exporter": "python",
   "pygments_lexer": "ipython3",
   "version": "3.9.7"
  }
 },
 "nbformat": 4,
 "nbformat_minor": 5
}
